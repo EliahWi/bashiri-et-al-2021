{
 "cells": [
  {
   "cell_type": "code",
   "execution_count": 1,
   "metadata": {},
   "outputs": [],
   "source": [
    "import numpy as np\n",
    "import matplotlib.pyplot as plt\n",
    "import seaborn as sns\n",
    "from scipy import stats\n",
    "import torch\n",
    "from torch.distributions import Normal, Uniform\n",
    "from tqdm import tqdm\n",
    "\n",
    "from neuraldistributions.utility import imread"
   ]
  },
  {
   "cell_type": "code",
   "execution_count": 2,
   "metadata": {},
   "outputs": [],
   "source": [
    "def gibbs_sampler(mean, C, psi_diag, truncation_boundaries, N=1000, N_burnin=100):\n",
    "    \n",
    "    n, k = C.shape\n",
    "    pnoise = stats.norm(np.zeros(len(psi_diag)), psi_diag)\n",
    "    pz = stats.norm(0, 1)\n",
    "    \n",
    "    # initial values\n",
    "    z_sample = np.zeros((k, 1))\n",
    "    noise_sample = np.zeros((n, 1))\n",
    "\n",
    "    tsamples = []\n",
    "    for iter_n in tqdm(range(N + N_burnin)):\n",
    "\n",
    "        # Sample 𝜖 given  𝑧\n",
    "        truncation_lower_boundary_noise = truncation_boundaries[:, [0]] - mean - C @ z_sample\n",
    "        truncation_upper_boundary_noise = truncation_boundaries[:, [1]] - mean - C @ z_sample\n",
    "        truncation_boundaries_noise = np.hstack((truncation_lower_boundary_noise, truncation_upper_boundary_noise))\n",
    "\n",
    "        loc = pnoise.cdf(truncation_boundaries_noise.T[0])\n",
    "        scale = pnoise.cdf(truncation_boundaries_noise.T[1]) - loc\n",
    "        uniform_sample = stats.uniform(loc, scale).rvs()\n",
    "        noise_sample = pnoise.ppf(uniform_sample)[:, None]\n",
    "\n",
    "\n",
    "        # Sample  𝑧𝑖  given  𝜖  and  𝑧∖𝑖\n",
    "        for latent_ind in np.arange(k):\n",
    "            latent_notind = np.where(np.arange(k) != latent_ind)[0]\n",
    "\n",
    "            truncation_lower_boundary_z_ = (truncation_boundaries[:, [0]] - mean - C[:, latent_notind] @ z_sample[latent_notind] - noise_sample) / C[:, [latent_ind]]\n",
    "            truncation_upper_boundary_z_ = (truncation_boundaries[:, [1]] - mean - C[:, latent_notind] @ z_sample[latent_notind] - noise_sample) / C[:, [latent_ind]]\n",
    "            eta = (np.sign(C[:, [latent_ind]]) + 1) / 2\n",
    "            aa = np.hstack((truncation_lower_boundary_z_, truncation_upper_boundary_z_))\n",
    "            truncation_lower_boundary_z, truncation_upper_boundary_z = np.take_along_axis(aa, np.hstack((1-eta, eta)).astype(int), axis=1).T\n",
    "            truncation_boundaries_z = np.hstack([truncation_lower_boundary_z.max(), truncation_upper_boundary_z.min()])\n",
    "\n",
    "            ulb, uub = pz.cdf(truncation_boundaries_z)\n",
    "            uniform_sample = stats.uniform(ulb, uub-ulb).rvs()\n",
    "            new_z_sample = pz.ppf(uniform_sample)\n",
    "\n",
    "            z_sample[[latent_ind]] = new_z_sample\n",
    "\n",
    "        if iter_n >= N_burnin:\n",
    "            tsamples.append(mean + C @ z_sample + noise_sample) \n",
    "\n",
    "    return np.concatenate(tsamples, axis=1).T"
   ]
  },
  {
   "cell_type": "code",
   "execution_count": 3,
   "metadata": {},
   "outputs": [],
   "source": [
    "def get_truncation_boundaries(model, n_neurons):\n",
    "    device = next(model.parameters()).device\n",
    "    model.sample_transform.to(\"cpu\")\n",
    "\n",
    "    gaussian_linspace = torch.linspace(-10, 10, 10000)[:, None].repeat(1, n_neurons)\n",
    "    inv_linspace = model.sample_transform.inv(gaussian_linspace)\n",
    "\n",
    "    val_idx, neuron_idx = np.where(\n",
    "        np.diff(torch.isnan(inv_linspace).cpu().data.numpy(), axis=0)\n",
    "    )\n",
    "    val_idx = val_idx + 1\n",
    "    sorted_neurons_idx = np.argsort(neuron_idx)\n",
    "    neuron_idx = neuron_idx[sorted_neurons_idx]\n",
    "    val_idx = val_idx[sorted_neurons_idx]\n",
    "\n",
    "    truncation_lower_boundaries = (\n",
    "        gaussian_linspace[val_idx, neuron_idx].cpu().data.numpy().tolist()\n",
    "    )\n",
    "    truncation_upper_boundaries = [np.inf] * len(truncation_lower_boundaries)\n",
    "\n",
    "    truncation_boundaries = np.array(\n",
    "        [truncation_lower_boundaries, truncation_upper_boundaries]\n",
    "    ).T\n",
    "\n",
    "    truncation_boundaries = np.array(truncation_boundaries)\n",
    "\n",
    "    model.sample_transform.to(device);\n",
    "    \n",
    "    return truncation_boundaries"
   ]
  },
  {
   "cell_type": "code",
   "execution_count": 42,
   "metadata": {},
   "outputs": [
    {
     "name": "stderr",
     "output_type": "stream",
     "text": [
      "100%|██████████| 1100/1100 [00:10<00:00, 103.29it/s]\n"
     ]
    }
   ],
   "source": [
    "### Stuff that do not depend on the image ###################\n",
    "\n",
    "# load model and get the image-independent params\n",
    "model = torch.load(\"../models/ziffa_scan2\")\n",
    "C_torch, psi_diag = model.C_and_psi_diag\n",
    "R_torch = psi_diag.diag()\n",
    "R = R_torch.cpu().data.numpy()\n",
    "C = C_torch.cpu().data.numpy().T\n",
    "zero_threshold = model.zero_threshold.item()\n",
    "n, k = C.shape\n",
    "device = next(model.parameters()).device\n",
    "\n",
    "# get the truncation boundaries\n",
    "truncation_boundaries = get_truncation_boundaries(model, n)\n",
    "\n",
    "### Stuff that do depend on the image ###################\n",
    "\n",
    "# load image\n",
    "image_path = \"arbitrary_image.jpg\"\n",
    "input_image = imread(image_path, xres=64, yres=36)\n",
    "input_image = torch.from_numpy(input_image).to(device)\n",
    "\n",
    "# get the image-dependent params\n",
    "mean_torch, q_torch = model(input_image)\n",
    "q = q_torch.cpu().data.numpy()\n",
    "\n",
    "# specify \"zero\" vs \"non-zero\" neurons\n",
    "uniform_samples = np.random.rand(n)\n",
    "nonzero_neurons_idx = np.where(uniform_samples < q[0])[0]\n",
    "zero_neurons_idx = np.where(uniform_samples >= q[0])[0]\n",
    "\n",
    "# prepare params for gibbs sampling\n",
    "psi_diag = np.sqrt(np.diag(R))[nonzero_neurons_idx]\n",
    "mean = mean_torch.T.cpu().data.numpy()[nonzero_neurons_idx]\n",
    "\n",
    "sample = gibbs_sampler(mean, C[nonzero_neurons_idx, :], psi_diag, truncation_boundaries[nonzero_neurons_idx])\n",
    "\n",
    "gaussian_sample = np.zeros((1, n))\n",
    "gaussian_sample[0, nonzero_neurons_idx] = sample[np.random.choice(np.arange(len(sample)))]\n",
    "neural_sample = model.sample_transform(torch.from_numpy(gaussian_sample).to(device))[0].cpu().data.numpy()\n",
    "neural_sample[0, zero_neurons_idx] = np.random.uniform(0, zero_threshold, size=len(zero_neurons_idx))"
   ]
  },
  {
   "cell_type": "markdown",
   "metadata": {},
   "source": [
    "## Some analysis"
   ]
  },
  {
   "cell_type": "code",
   "execution_count": 112,
   "metadata": {},
   "outputs": [],
   "source": [
    "gt_vars = cov_mat[np.triu(np.ones_like(cov_mat), k=1).astype(bool)]\n",
    "est_vars = np.cov(tsamples)[np.triu(np.ones_like(cov_mat), k=1).astype(bool)]"
   ]
  },
  {
   "cell_type": "code",
   "execution_count": 110,
   "metadata": {},
   "outputs": [
    {
     "data": {
      "text/plain": [
       "<matplotlib.collections.PathCollection at 0x7fe60d972610>"
      ]
     },
     "execution_count": 110,
     "metadata": {},
     "output_type": "execute_result"
    },
    {
     "data": {
      "image/png": "[encoded data removed]",
      "text/plain": [
       "<Figure size 432x288 with 1 Axes>"
      ]
     },
     "metadata": {
      "needs_background": "light"
     },
     "output_type": "display_data"
    }
   ],
   "source": [
    "plt.scatter(gt_vars, est_vars)"
   ]
  },
  {
   "cell_type": "code",
   "execution_count": 113,
   "metadata": {},
   "outputs": [
    {
     "data": {
      "text/plain": [
       "<matplotlib.collections.PathCollection at 0x7fe60d68ac10>"
      ]
     },
     "execution_count": 113,
     "metadata": {},
     "output_type": "execute_result"
    },
    {
     "data": {
      "image/png": "[encoded data removed]",
      "text/plain": [
       "<Figure size 432x288 with 1 Axes>"
      ]
     },
     "metadata": {
      "needs_background": "light"
     },
     "output_type": "display_data"
    }
   ],
   "source": [
    "plt.scatter(gt_vars, est_vars)"
   ]
  },
  {
   "cell_type": "markdown",
   "metadata": {},
   "source": [
    "---"
   ]
  },
  {
   "cell_type": "markdown",
   "metadata": {},
   "source": [
    "## From import"
   ]
  },
  {
   "cell_type": "code",
   "execution_count": 2,
   "metadata": {},
   "outputs": [],
   "source": [
    "import torch\n",
    "from neuraldistributions.gibbs_sampler import generate_n_samples"
   ]
  },
  {
   "cell_type": "code",
   "execution_count": 3,
   "metadata": {},
   "outputs": [],
   "source": [
    "model = torch.load(\"../models/ziffa_scan2\")\n",
    "image_path = \"arbitrary_image.jpg\""
   ]
  },
  {
   "cell_type": "code",
   "execution_count": 6,
   "metadata": {},
   "outputs": [
    {
     "name": "stderr",
     "output_type": "stream",
     "text": [
      "100%|██████████| 1100/1100 [00:10<00:00, 103.40it/s]\n",
      "100%|██████████| 1100/1100 [00:10<00:00, 104.89it/s]\n",
      "100%|██████████| 1100/1100 [00:10<00:00, 104.24it/s]\n"
     ]
    }
   ],
   "source": [
    "ns = generate_n_samples(model, image_path, n_samples=3)"
   ]
  }
 ],
 "metadata": {
  "kernelspec": {
   "display_name": "Python 3",
   "language": "python",
   "name": "python3"
  },
  "language_info": {
   "codemirror_mode": {
    "name": "ipython",
    "version": 3
   },
   "file_extension": ".py",
   "mimetype": "text/x-python",
   "name": "python",
   "nbconvert_exporter": "python",
   "pygments_lexer": "ipython3",
   "version": "3.8.0"
  }
 },
 "nbformat": 4,
 "nbformat_minor": 4
}
