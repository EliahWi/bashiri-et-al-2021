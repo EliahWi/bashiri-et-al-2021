{
 "cells": [
  {
   "cell_type": "code",
   "execution_count": 1,
   "metadata": {
    "ExecuteTime": {
     "end_time": "2023-09-26T10:44:07.484437400Z",
     "start_time": "2023-09-26T10:44:06.472337800Z"
    }
   },
   "outputs": [
    {
     "name": "stdout",
     "output_type": "stream",
     "text": [
      "dataport not available, will only be able to load data locally\n"
     ]
    }
   ],
   "source": [
    "import numpy as np\n",
    "import matplotlib.pyplot as plt\n",
    "import seaborn as sns\n",
    "import torch\n",
    "\n",
    "from neuraldistributions.models import transforms\n",
    "from neuraldistributions.datasets import static\n",
    "\n",
    "from multiprocessing import Pool\n",
    "\n",
    "import os\n",
    "device = \"cuda\""
   ]
  },
  {
   "cell_type": "code",
   "execution_count": 2,
   "metadata": {
    "ExecuteTime": {
     "end_time": "2023-09-26T10:44:07.490436800Z",
     "start_time": "2023-09-26T10:44:07.487436800Z"
    }
   },
   "outputs": [],
   "source": [
    "import numpy as np\n",
    "import torch\n",
    "\n",
    "from neuraldistributions.datasets import mouse_static_loaders, extract_data_key\n",
    "from neuraldistributions.models import poisson, zig, flowfa, ziffa, flowfa_ident\n",
    "from neuraldistributions.trainers import base_trainer\n",
    "from neuraldistributions.utility import get_loglikelihood"
   ]
  },
  {
   "cell_type": "code",
   "execution_count": 3,
   "metadata": {
    "ExecuteTime": {
     "end_time": "2023-09-26T10:44:07.502436300Z",
     "start_time": "2023-09-26T10:44:07.493436300Z"
    }
   },
   "outputs": [],
   "source": [
    "random_seed=42\n",
    "dataset_dir = \"../project/data\"\n",
    "datasets = [\n",
    "    \"static_edited_dsampled.zip\",\n",
    "]\n",
    "scan_id = [2, 1]\n",
    "dataset_paths = [f\"{dataset_dir}/{dataset}\" for dataset in datasets]\n",
    "areas = [[\"V1\", \"LM\"]]\n",
    "neurons_ns = [1000, 907]"
   ]
  },
  {
   "cell_type": "code",
   "execution_count": 4,
   "metadata": {
    "ExecuteTime": {
     "end_time": "2023-09-26T10:44:22.417238100Z",
     "start_time": "2023-09-26T10:44:07.502436300Z"
    }
   },
   "outputs": [
    {
     "name": "stderr",
     "output_type": "stream",
     "text": [
      "100%|██████████| 5994/5994 [00:11<00:00, 522.07it/s]\n",
      "100%|██████████| 5994/5994 [00:00<00:00, 285962.26it/s]\n",
      "100%|██████████| 5994/5994 [00:00<00:00, 288823.69it/s]\n",
      "100%|██████████| 5994/5994 [00:00<00:00, 294988.13it/s]\n"
     ]
    }
   ],
   "source": [
    "dataset_index = 0\n",
    "dataset_path = dataset_paths[dataset_index]\n",
    "data_key = extract_data_key(dataset_path)\n",
    "area = areas[dataset_index]\n",
    "neurons_n = neurons_ns[dataset_index]\n",
    "\n",
    "dataset_config = {\n",
    "    \"paths\": [dataset_path],\n",
    "    \"seed\": random_seed,\n",
    "    \"batch_size\": 64,\n",
    "    \"area\": area,\n",
    "    \"neurons_n\": neurons_n,\n",
    "    \"normalize_images\": True,\n",
    "    \"normalize_neurons\": True,\n",
    "    \"return_more\": True,\n",
    "    \"device\": device,\n",
    "    \"shuffle_train\": True,\n",
    "}\n",
    "\n",
    "dataloaders = mouse_static_loaders(**dataset_config)"
   ]
  },
  {
   "cell_type": "code",
   "execution_count": 5,
   "metadata": {
    "ExecuteTime": {
     "end_time": "2023-09-26T10:44:22.424250100Z",
     "start_time": "2023-09-26T10:44:22.422248100Z"
    }
   },
   "outputs": [],
   "source": [
    "grid_mean_pred_config = {\n",
    "    \"type\": \"cortex\",\n",
    "    \"input_dimensions\": 2,\n",
    "    \"hidden_layers\": 4,\n",
    "    \"hidden_features\": 20,\n",
    "    \"nonlinearity\": \"ReLU\",\n",
    "    \"final_tanh\": True,\n",
    "}\n",
    "\n",
    "image_model_config = {\n",
    "    \"pad_input\": False,\n",
    "    \"stack\": -1,\n",
    "    \"layers\": 4,\n",
    "    \"input_kern\": 15,\n",
    "    \"gamma_input\": 1,\n",
    "    \"gamma_readout\": 2.439,\n",
    "    \"hidden_dilation\": 1,\n",
    "    \"hidden_kern\": 13,\n",
    "    \"hidden_channels\": 64,\n",
    "    \"n_se_blocks\": 0,\n",
    "    \"depth_separable\": True,\n",
    "    \"share_features\": False,\n",
    "    \"share_grid\": False,\n",
    "    \"init_sigma\": 0.4,\n",
    "    \"init_mu_range\": 0.55,\n",
    "    \"gauss_type\": \"full\",\n",
    "    \"grid_mean_predictor\": grid_mean_pred_config,\n",
    "}"
   ]
  },
  {
   "cell_type": "code",
   "execution_count": 6,
   "metadata": {
    "ExecuteTime": {
     "end_time": "2023-09-26T10:44:22.474800700Z",
     "start_time": "2023-09-26T10:44:22.427248300Z"
    }
   },
   "outputs": [],
   "source": [
    "model_name = \"flowfa_ident\"\n",
    "d_latent = 3\n",
    "sample_transform = \"learned-leaky-low-rank-k-500\"\n",
    "mean_transform = \"learned\"\n",
    "per_neuron_transform = True\n",
    "unit_variance_constraint = False\n",
    "\n",
    "model_config = {\n",
    "    \"image_model_fn\": \"nnsysident.models.models.se2d_fullgaussian2d\",\n",
    "    \"image_model_config\": image_model_config,\n",
    "    \"d_latent\": d_latent,\n",
    "    \"sample_transform\": sample_transform,\n",
    "    \"mean_transform\": mean_transform,\n",
    "    \"per_neuron_samples_transform\": per_neuron_transform,\n",
    "    \"init_psi_diag_coef\": 0.1,\n",
    "    \"init_C_coef\": 0.1,\n",
    "    \"unit_variance_constraint\": unit_variance_constraint,\n",
    "}\n",
    "model = flowfa_ident(dataloaders, random_seed, **model_config)"
   ]
  },
  {
   "cell_type": "code",
   "execution_count": 7,
   "metadata": {
    "ExecuteTime": {
     "end_time": "2023-09-26T10:44:22.481800900Z",
     "start_time": "2023-09-26T10:44:22.477801400Z"
    },
    "collapsed": false
   },
   "outputs": [
    {
     "name": "stdout",
     "output_type": "stream",
     "text": [
      "[0 1 2 3 4 5 6 7 8 9]\n"
     ]
    }
   ],
   "source": [
    "index_name_of_dataloader = next(iter(dataloaders[\"train\"]))\n",
    "indexes = np.arange(len(dataloaders[\"image_ids\"][index_name_of_dataloader][\"test\"]))\n",
    "u, inv = (np.unique(dataloaders[\"image_ids\"][index_name_of_dataloader][\"test\"], return_inverse=True))\n",
    "img_indexes = indexes[inv == inv[0]]\n",
    "print(img_indexes)"
   ]
  },
  {
   "cell_type": "code",
   "execution_count": 8,
   "metadata": {
    "ExecuteTime": {
     "end_time": "2023-09-26T10:44:22.488800300Z",
     "start_time": "2023-09-26T10:44:22.482800400Z"
    },
    "collapsed": false
   },
   "outputs": [
    {
     "name": "stdout",
     "output_type": "stream",
     "text": [
      "Flow(\n",
      "  (layers): ModuleList(\n",
      "    (0): Identity()\n",
      "    (1): LowRankAffine()\n",
      "    (2): ELU()\n",
      "    (3): LowRankAffine()\n",
      "    (4): ELU()\n",
      "    (5): LowRankAffine()\n",
      "    (6): ELU()\n",
      "    (7): LowRankAffine()\n",
      "    (8): Identity()\n",
      "  )\n",
      ")\n"
     ]
    }
   ],
   "source": [
    "print(model.sample_transform)"
   ]
  },
  {
   "cell_type": "code",
   "execution_count": 10,
   "metadata": {
    "ExecuteTime": {
     "end_time": "2023-09-26T10:53:15.043921500Z",
     "start_time": "2023-09-26T10:44:24.833086Z"
    },
    "collapsed": false
   },
   "outputs": [
    {
     "name": "stdout",
     "output_type": "stream",
     "text": [
      "Score improved (nan --> 1861.736816).\n"
     ]
    },
    {
     "name": "stderr",
     "output_type": "stream",
     "text": [
      "100%|██████████| 70/70 [00:06<00:00, 11.20it/s]\n"
     ]
    },
    {
     "name": "stdout",
     "output_type": "stream",
     "text": [
      "Epoch 1/500 | train loss: 1861.494141 | val loss: 1568.393433\n",
      "Score improved (1861.736816 --> 1568.393433).\n"
     ]
    },
    {
     "name": "stderr",
     "output_type": "stream",
     "text": [
      "100%|██████████| 70/70 [00:06<00:00, 11.26it/s]\n"
     ]
    },
    {
     "name": "stdout",
     "output_type": "stream",
     "text": [
      "Epoch 2/500 | train loss: 1586.827515 | val loss: 1543.227783\n",
      "Score improved (1568.393433 --> 1543.227783).\n"
     ]
    },
    {
     "name": "stderr",
     "output_type": "stream",
     "text": [
      "100%|██████████| 70/70 [00:06<00:00, 11.26it/s]\n"
     ]
    },
    {
     "name": "stdout",
     "output_type": "stream",
     "text": [
      "Epoch 3/500 | train loss: 1485.562256 | val loss: 1533.131104\n",
      "Score improved (1543.227783 --> 1533.131104).\n"
     ]
    },
    {
     "name": "stderr",
     "output_type": "stream",
     "text": [
      "100%|██████████| 70/70 [00:06<00:00, 11.27it/s]\n"
     ]
    },
    {
     "name": "stdout",
     "output_type": "stream",
     "text": [
      "Epoch 4/500 | train loss: 1619.957520 | val loss: 1527.918335\n",
      "Score improved (1533.131104 --> 1527.918335).\n"
     ]
    },
    {
     "name": "stderr",
     "output_type": "stream",
     "text": [
      "100%|██████████| 70/70 [00:06<00:00, 11.27it/s]\n"
     ]
    },
    {
     "name": "stdout",
     "output_type": "stream",
     "text": [
      "Epoch 5/500 | train loss: 1580.116455 | val loss: 1525.071167\n",
      "Score improved (1527.918335 --> 1525.071167).\n"
     ]
    },
    {
     "name": "stderr",
     "output_type": "stream",
     "text": [
      "100%|██████████| 70/70 [00:06<00:00, 11.27it/s]\n"
     ]
    },
    {
     "name": "stdout",
     "output_type": "stream",
     "text": [
      "Epoch 6/500 | train loss: 1470.766968 | val loss: 1523.700684\n",
      "Score improved (1525.071167 --> 1523.700684).\n"
     ]
    },
    {
     "name": "stderr",
     "output_type": "stream",
     "text": [
      "100%|██████████| 70/70 [00:06<00:00, 11.27it/s]\n"
     ]
    },
    {
     "name": "stdout",
     "output_type": "stream",
     "text": [
      "Epoch 7/500 | train loss: 1541.387085 | val loss: 1521.777588\n",
      "Score improved (1523.700684 --> 1521.777588).\n"
     ]
    },
    {
     "name": "stderr",
     "output_type": "stream",
     "text": [
      "100%|██████████| 70/70 [00:06<00:00, 11.27it/s]\n"
     ]
    },
    {
     "name": "stdout",
     "output_type": "stream",
     "text": [
      "Epoch 8/500 | train loss: 1490.982300 | val loss: 1521.213135\n",
      "Score improved (1521.777588 --> 1521.213135).\n"
     ]
    },
    {
     "name": "stderr",
     "output_type": "stream",
     "text": [
      "100%|██████████| 70/70 [00:06<00:00, 11.27it/s]\n"
     ]
    },
    {
     "name": "stdout",
     "output_type": "stream",
     "text": [
      "Epoch 9/500 | train loss: 1504.522095 | val loss: 1521.304199\n",
      "EarlyStopping counter: 1 out of 50\n"
     ]
    },
    {
     "name": "stderr",
     "output_type": "stream",
     "text": [
      "100%|██████████| 70/70 [00:06<00:00, 11.27it/s]\n"
     ]
    },
    {
     "name": "stdout",
     "output_type": "stream",
     "text": [
      "Epoch 10/500 | train loss: 1560.053101 | val loss: 1519.571899\n",
      "Score improved (1521.213135 --> 1519.571899).\n"
     ]
    },
    {
     "name": "stderr",
     "output_type": "stream",
     "text": [
      "100%|██████████| 70/70 [00:06<00:00, 11.27it/s]\n"
     ]
    },
    {
     "name": "stdout",
     "output_type": "stream",
     "text": [
      "Epoch 11/500 | train loss: 1590.668579 | val loss: 1519.929688\n",
      "EarlyStopping counter: 1 out of 50\n"
     ]
    },
    {
     "name": "stderr",
     "output_type": "stream",
     "text": [
      "100%|██████████| 70/70 [00:06<00:00, 11.26it/s]\n"
     ]
    },
    {
     "name": "stdout",
     "output_type": "stream",
     "text": [
      "Epoch 12/500 | train loss: 1478.462158 | val loss: 1519.466919\n",
      "Score improved (1519.571899 --> 1519.466919).\n"
     ]
    },
    {
     "name": "stderr",
     "output_type": "stream",
     "text": [
      "100%|██████████| 70/70 [00:06<00:00, 11.24it/s]\n"
     ]
    },
    {
     "name": "stdout",
     "output_type": "stream",
     "text": [
      "Epoch 13/500 | train loss: 1545.548950 | val loss: 1518.579712\n",
      "Score improved (1519.466919 --> 1518.579712).\n"
     ]
    },
    {
     "name": "stderr",
     "output_type": "stream",
     "text": [
      "100%|██████████| 70/70 [00:06<00:00, 11.27it/s]\n"
     ]
    },
    {
     "name": "stdout",
     "output_type": "stream",
     "text": [
      "Epoch 14/500 | train loss: 1531.694092 | val loss: 1519.331299\n",
      "EarlyStopping counter: 1 out of 50\n"
     ]
    },
    {
     "name": "stderr",
     "output_type": "stream",
     "text": [
      "100%|██████████| 70/70 [00:06<00:00, 11.27it/s]\n"
     ]
    },
    {
     "name": "stdout",
     "output_type": "stream",
     "text": [
      "Epoch 15/500 | train loss: 1608.803345 | val loss: 1518.780151\n",
      "EarlyStopping counter: 2 out of 50\n"
     ]
    },
    {
     "name": "stderr",
     "output_type": "stream",
     "text": [
      "100%|██████████| 70/70 [00:06<00:00, 11.27it/s]\n"
     ]
    },
    {
     "name": "stdout",
     "output_type": "stream",
     "text": [
      "Epoch 16/500 | train loss: 1475.469849 | val loss: 1518.234619\n",
      "Score improved (1518.579712 --> 1518.234619).\n"
     ]
    },
    {
     "name": "stderr",
     "output_type": "stream",
     "text": [
      "100%|██████████| 70/70 [00:06<00:00, 11.27it/s]\n"
     ]
    },
    {
     "name": "stdout",
     "output_type": "stream",
     "text": [
      "Epoch 17/500 | train loss: 1634.671265 | val loss: 1519.230957\n",
      "EarlyStopping counter: 1 out of 50\n"
     ]
    },
    {
     "name": "stderr",
     "output_type": "stream",
     "text": [
      "100%|██████████| 70/70 [00:06<00:00, 11.27it/s]\n"
     ]
    },
    {
     "name": "stdout",
     "output_type": "stream",
     "text": [
      "Epoch 18/500 | train loss: 1515.998779 | val loss: 1517.776855\n",
      "Score improved (1518.234619 --> 1517.776855).\n"
     ]
    },
    {
     "name": "stderr",
     "output_type": "stream",
     "text": [
      "100%|██████████| 70/70 [00:06<00:00, 11.27it/s]\n"
     ]
    },
    {
     "name": "stdout",
     "output_type": "stream",
     "text": [
      "Epoch 19/500 | train loss: 1530.732666 | val loss: 1517.672607\n",
      "Score improved (1517.776855 --> 1517.672607).\n"
     ]
    },
    {
     "name": "stderr",
     "output_type": "stream",
     "text": [
      "100%|██████████| 70/70 [00:06<00:00, 11.27it/s]\n"
     ]
    },
    {
     "name": "stdout",
     "output_type": "stream",
     "text": [
      "Epoch 20/500 | train loss: 1509.418457 | val loss: 1516.913086\n",
      "Score improved (1517.672607 --> 1516.913086).\n"
     ]
    },
    {
     "name": "stderr",
     "output_type": "stream",
     "text": [
      "100%|██████████| 70/70 [00:06<00:00, 11.27it/s]\n"
     ]
    },
    {
     "name": "stdout",
     "output_type": "stream",
     "text": [
      "Epoch 21/500 | train loss: 1454.284668 | val loss: 1517.158447\n",
      "EarlyStopping counter: 1 out of 50\n"
     ]
    },
    {
     "name": "stderr",
     "output_type": "stream",
     "text": [
      "100%|██████████| 70/70 [00:06<00:00, 11.27it/s]\n"
     ]
    },
    {
     "name": "stdout",
     "output_type": "stream",
     "text": [
      "Epoch 22/500 | train loss: 1532.835815 | val loss: 1519.207031\n",
      "EarlyStopping counter: 2 out of 50\n"
     ]
    },
    {
     "name": "stderr",
     "output_type": "stream",
     "text": [
      "100%|██████████| 70/70 [00:06<00:00, 11.27it/s]\n"
     ]
    },
    {
     "name": "stdout",
     "output_type": "stream",
     "text": [
      "Epoch 23/500 | train loss: 1483.006348 | val loss: 1516.914795\n",
      "EarlyStopping counter: 3 out of 50\n"
     ]
    },
    {
     "name": "stderr",
     "output_type": "stream",
     "text": [
      "100%|██████████| 70/70 [00:06<00:00, 11.27it/s]\n"
     ]
    },
    {
     "name": "stdout",
     "output_type": "stream",
     "text": [
      "Epoch 24/500 | train loss: 1520.983887 | val loss: 1517.743652\n",
      "EarlyStopping counter: 4 out of 50\n"
     ]
    },
    {
     "name": "stderr",
     "output_type": "stream",
     "text": [
      "100%|██████████| 70/70 [00:06<00:00, 11.26it/s]\n"
     ]
    },
    {
     "name": "stdout",
     "output_type": "stream",
     "text": [
      "Epoch 25/500 | train loss: 1457.873413 | val loss: 1517.434570\n",
      "EarlyStopping counter: 5 out of 50\n"
     ]
    },
    {
     "name": "stderr",
     "output_type": "stream",
     "text": [
      "100%|██████████| 70/70 [00:06<00:00, 11.26it/s]\n"
     ]
    },
    {
     "name": "stdout",
     "output_type": "stream",
     "text": [
      "Epoch 26/500 | train loss: 1485.116577 | val loss: 1516.879395\n",
      "Score improved (1516.913086 --> 1516.879395).\n"
     ]
    },
    {
     "name": "stderr",
     "output_type": "stream",
     "text": [
      "100%|██████████| 70/70 [00:06<00:00, 11.27it/s]\n"
     ]
    },
    {
     "name": "stdout",
     "output_type": "stream",
     "text": [
      "Epoch 27/500 | train loss: 1456.270386 | val loss: 1517.011475\n",
      "EarlyStopping counter: 1 out of 50\n"
     ]
    },
    {
     "name": "stderr",
     "output_type": "stream",
     "text": [
      "100%|██████████| 70/70 [00:06<00:00, 11.27it/s]\n"
     ]
    },
    {
     "name": "stdout",
     "output_type": "stream",
     "text": [
      "Epoch 28/500 | train loss: 1460.267700 | val loss: 1518.749756\n",
      "EarlyStopping counter: 2 out of 50\n"
     ]
    },
    {
     "name": "stderr",
     "output_type": "stream",
     "text": [
      "100%|██████████| 70/70 [00:06<00:00, 11.27it/s]\n"
     ]
    },
    {
     "name": "stdout",
     "output_type": "stream",
     "text": [
      "Epoch 29/500 | train loss: 1596.493042 | val loss: 1516.600098\n",
      "Score improved (1516.879395 --> 1516.600098).\n"
     ]
    },
    {
     "name": "stderr",
     "output_type": "stream",
     "text": [
      "100%|██████████| 70/70 [00:06<00:00, 11.27it/s]\n"
     ]
    },
    {
     "name": "stdout",
     "output_type": "stream",
     "text": [
      "Epoch 30/500 | train loss: 1495.140137 | val loss: 1516.163818\n",
      "Score improved (1516.600098 --> 1516.163818).\n"
     ]
    },
    {
     "name": "stderr",
     "output_type": "stream",
     "text": [
      "100%|██████████| 70/70 [00:06<00:00, 11.25it/s]\n"
     ]
    },
    {
     "name": "stdout",
     "output_type": "stream",
     "text": [
      "Epoch 31/500 | train loss: 1499.181519 | val loss: 1517.011108\n",
      "EarlyStopping counter: 1 out of 50\n"
     ]
    },
    {
     "name": "stderr",
     "output_type": "stream",
     "text": [
      "100%|██████████| 70/70 [00:06<00:00, 11.27it/s]\n"
     ]
    },
    {
     "name": "stdout",
     "output_type": "stream",
     "text": [
      "Epoch 32/500 | train loss: 1481.019531 | val loss: 1516.710693\n",
      "EarlyStopping counter: 2 out of 50\n"
     ]
    },
    {
     "name": "stderr",
     "output_type": "stream",
     "text": [
      "100%|██████████| 70/70 [00:06<00:00, 11.27it/s]\n"
     ]
    },
    {
     "name": "stdout",
     "output_type": "stream",
     "text": [
      "Epoch 33/500 | train loss: 1438.260742 | val loss: 1517.536987\n",
      "EarlyStopping counter: 3 out of 50\n"
     ]
    },
    {
     "name": "stderr",
     "output_type": "stream",
     "text": [
      "100%|██████████| 70/70 [00:06<00:00, 11.27it/s]\n"
     ]
    },
    {
     "name": "stdout",
     "output_type": "stream",
     "text": [
      "Epoch 34/500 | train loss: 1429.445557 | val loss: 1517.107300\n",
      "EarlyStopping counter: 4 out of 50\n"
     ]
    },
    {
     "name": "stderr",
     "output_type": "stream",
     "text": [
      "100%|██████████| 70/70 [00:06<00:00, 11.27it/s]\n"
     ]
    },
    {
     "name": "stdout",
     "output_type": "stream",
     "text": [
      "Epoch 35/500 | train loss: 1546.442383 | val loss: 1516.652588\n",
      "EarlyStopping counter: 5 out of 50\n"
     ]
    },
    {
     "name": "stderr",
     "output_type": "stream",
     "text": [
      "100%|██████████| 70/70 [00:06<00:00, 11.27it/s]\n"
     ]
    },
    {
     "name": "stdout",
     "output_type": "stream",
     "text": [
      "Epoch 36/500 | train loss: 1474.921631 | val loss: 1518.680054\n",
      "EarlyStopping counter: 6 out of 50\n"
     ]
    },
    {
     "name": "stderr",
     "output_type": "stream",
     "text": [
      "100%|██████████| 70/70 [00:06<00:00, 11.27it/s]\n"
     ]
    },
    {
     "name": "stdout",
     "output_type": "stream",
     "text": [
      "Epoch 37/500 | train loss: 1512.131592 | val loss: 1517.435547\n",
      "EarlyStopping counter: 7 out of 50\n"
     ]
    },
    {
     "name": "stderr",
     "output_type": "stream",
     "text": [
      "100%|██████████| 70/70 [00:06<00:00, 11.27it/s]\n"
     ]
    },
    {
     "name": "stdout",
     "output_type": "stream",
     "text": [
      "Epoch 38/500 | train loss: 1608.812134 | val loss: 1516.815918\n",
      "EarlyStopping counter: 8 out of 50\n"
     ]
    },
    {
     "name": "stderr",
     "output_type": "stream",
     "text": [
      "100%|██████████| 70/70 [00:06<00:00, 11.27it/s]\n"
     ]
    },
    {
     "name": "stdout",
     "output_type": "stream",
     "text": [
      "Epoch 39/500 | train loss: 1501.169800 | val loss: 1518.256348\n",
      "EarlyStopping counter: 9 out of 50\n"
     ]
    },
    {
     "name": "stderr",
     "output_type": "stream",
     "text": [
      "100%|██████████| 70/70 [00:06<00:00, 11.27it/s]\n"
     ]
    },
    {
     "name": "stdout",
     "output_type": "stream",
     "text": [
      "Epoch 40/500 | train loss: 1554.192017 | val loss: 1516.423340\n",
      "EarlyStopping counter: 10 out of 50\n"
     ]
    },
    {
     "name": "stderr",
     "output_type": "stream",
     "text": [
      "100%|██████████| 70/70 [00:06<00:00, 11.27it/s]\n"
     ]
    },
    {
     "name": "stdout",
     "output_type": "stream",
     "text": [
      "Epoch 41/500 | train loss: 1552.175293 | val loss: 1517.989380\n",
      "EarlyStopping counter: 11 out of 50\n",
      "Epoch    41: reducing learning rate of group 0 to 1.5000e-03.\n",
      "Retrieve best model..\n",
      "Applying changes..\n"
     ]
    },
    {
     "name": "stderr",
     "output_type": "stream",
     "text": [
      "100%|██████████| 70/70 [00:06<00:00, 11.27it/s]\n"
     ]
    },
    {
     "name": "stdout",
     "output_type": "stream",
     "text": [
      "Epoch 42/500 | train loss: 1519.558594 | val loss: 1518.230225\n",
      "EarlyStopping counter: 12 out of 50\n",
      "Retrieve best model..\n"
     ]
    },
    {
     "name": "stderr",
     "output_type": "stream",
     "text": [
      "100%|██████████| 70/70 [00:06<00:00, 11.27it/s]\n"
     ]
    },
    {
     "name": "stdout",
     "output_type": "stream",
     "text": [
      "Epoch 43/500 | train loss: 1461.811646 | val loss: 1517.009766\n",
      "EarlyStopping counter: 13 out of 50\n"
     ]
    },
    {
     "name": "stderr",
     "output_type": "stream",
     "text": [
      "100%|██████████| 70/70 [00:06<00:00, 11.27it/s]\n"
     ]
    },
    {
     "name": "stdout",
     "output_type": "stream",
     "text": [
      "Epoch 44/500 | train loss: 1531.479736 | val loss: 1517.329590\n",
      "EarlyStopping counter: 14 out of 50\n"
     ]
    },
    {
     "name": "stderr",
     "output_type": "stream",
     "text": [
      "100%|██████████| 70/70 [00:06<00:00, 11.27it/s]\n"
     ]
    },
    {
     "name": "stdout",
     "output_type": "stream",
     "text": [
      "Epoch 45/500 | train loss: 1508.297363 | val loss: 1517.411987\n",
      "EarlyStopping counter: 15 out of 50\n"
     ]
    },
    {
     "name": "stderr",
     "output_type": "stream",
     "text": [
      "100%|██████████| 70/70 [00:06<00:00, 11.27it/s]\n"
     ]
    },
    {
     "name": "stdout",
     "output_type": "stream",
     "text": [
      "Epoch 46/500 | train loss: 1463.051636 | val loss: 1516.851440\n",
      "EarlyStopping counter: 16 out of 50\n"
     ]
    },
    {
     "name": "stderr",
     "output_type": "stream",
     "text": [
      "100%|██████████| 70/70 [00:06<00:00, 11.27it/s]\n"
     ]
    },
    {
     "name": "stdout",
     "output_type": "stream",
     "text": [
      "Epoch 47/500 | train loss: 1458.404907 | val loss: 1516.638916\n",
      "EarlyStopping counter: 17 out of 50\n"
     ]
    },
    {
     "name": "stderr",
     "output_type": "stream",
     "text": [
      "100%|██████████| 70/70 [00:06<00:00, 11.27it/s]\n"
     ]
    },
    {
     "name": "stdout",
     "output_type": "stream",
     "text": [
      "Epoch 48/500 | train loss: 1517.542236 | val loss: 1517.260498\n",
      "EarlyStopping counter: 18 out of 50\n"
     ]
    },
    {
     "name": "stderr",
     "output_type": "stream",
     "text": [
      "100%|██████████| 70/70 [00:06<00:00, 11.27it/s]\n"
     ]
    },
    {
     "name": "stdout",
     "output_type": "stream",
     "text": [
      "Epoch 49/500 | train loss: 1540.716309 | val loss: 1517.425171\n",
      "EarlyStopping counter: 19 out of 50\n"
     ]
    },
    {
     "name": "stderr",
     "output_type": "stream",
     "text": [
      "100%|██████████| 70/70 [00:06<00:00, 11.27it/s]\n"
     ]
    },
    {
     "name": "stdout",
     "output_type": "stream",
     "text": [
      "Epoch 50/500 | train loss: 1505.469482 | val loss: 1516.509766\n",
      "EarlyStopping counter: 20 out of 50\n"
     ]
    },
    {
     "name": "stderr",
     "output_type": "stream",
     "text": [
      "100%|██████████| 70/70 [00:06<00:00, 11.27it/s]\n"
     ]
    },
    {
     "name": "stdout",
     "output_type": "stream",
     "text": [
      "Epoch 51/500 | train loss: 1552.976807 | val loss: 1517.405762\n",
      "EarlyStopping counter: 21 out of 50\n"
     ]
    },
    {
     "name": "stderr",
     "output_type": "stream",
     "text": [
      "100%|██████████| 70/70 [00:06<00:00, 11.27it/s]\n"
     ]
    },
    {
     "name": "stdout",
     "output_type": "stream",
     "text": [
      "Epoch 52/500 | train loss: 1508.735474 | val loss: 1517.021606\n",
      "EarlyStopping counter: 22 out of 50\n",
      "Epoch    52: reducing learning rate of group 0 to 1.5000e-03.\n",
      "Retrieve best model..\n"
     ]
    },
    {
     "name": "stderr",
     "output_type": "stream",
     "text": [
      "100%|██████████| 70/70 [00:06<00:00, 11.27it/s]\n"
     ]
    },
    {
     "name": "stdout",
     "output_type": "stream",
     "text": [
      "Epoch 53/500 | train loss: 1506.265625 | val loss: 1516.895508\n",
      "EarlyStopping counter: 23 out of 50\n"
     ]
    },
    {
     "name": "stderr",
     "output_type": "stream",
     "text": [
      "100%|██████████| 70/70 [00:06<00:00, 11.27it/s]\n"
     ]
    },
    {
     "name": "stdout",
     "output_type": "stream",
     "text": [
      "Epoch 54/500 | train loss: 1445.042603 | val loss: 1516.864258\n",
      "EarlyStopping counter: 24 out of 50\n"
     ]
    },
    {
     "name": "stderr",
     "output_type": "stream",
     "text": [
      "100%|██████████| 70/70 [00:06<00:00, 11.27it/s]\n"
     ]
    },
    {
     "name": "stdout",
     "output_type": "stream",
     "text": [
      "Epoch 55/500 | train loss: 1449.718628 | val loss: 1516.850342\n",
      "EarlyStopping counter: 25 out of 50\n"
     ]
    },
    {
     "name": "stderr",
     "output_type": "stream",
     "text": [
      "100%|██████████| 70/70 [00:06<00:00, 11.27it/s]\n"
     ]
    },
    {
     "name": "stdout",
     "output_type": "stream",
     "text": [
      "Epoch 56/500 | train loss: 1537.785278 | val loss: 1516.719116\n",
      "EarlyStopping counter: 26 out of 50\n"
     ]
    },
    {
     "name": "stderr",
     "output_type": "stream",
     "text": [
      "100%|██████████| 70/70 [00:06<00:00, 11.27it/s]\n"
     ]
    },
    {
     "name": "stdout",
     "output_type": "stream",
     "text": [
      "Epoch 57/500 | train loss: 1475.791748 | val loss: 1516.508789\n",
      "EarlyStopping counter: 27 out of 50\n"
     ]
    },
    {
     "name": "stderr",
     "output_type": "stream",
     "text": [
      "100%|██████████| 70/70 [00:06<00:00, 11.27it/s]\n"
     ]
    },
    {
     "name": "stdout",
     "output_type": "stream",
     "text": [
      "Epoch 58/500 | train loss: 1446.958374 | val loss: 1516.549072\n",
      "EarlyStopping counter: 28 out of 50\n"
     ]
    },
    {
     "name": "stderr",
     "output_type": "stream",
     "text": [
      "100%|██████████| 70/70 [00:06<00:00, 11.27it/s]\n"
     ]
    },
    {
     "name": "stdout",
     "output_type": "stream",
     "text": [
      "Epoch 59/500 | train loss: 1370.486816 | val loss: 1516.729492\n",
      "EarlyStopping counter: 29 out of 50\n"
     ]
    },
    {
     "name": "stderr",
     "output_type": "stream",
     "text": [
      "100%|██████████| 70/70 [00:06<00:00, 11.28it/s]\n"
     ]
    },
    {
     "name": "stdout",
     "output_type": "stream",
     "text": [
      "Epoch 60/500 | train loss: 1422.844360 | val loss: 1516.680420\n",
      "EarlyStopping counter: 30 out of 50\n"
     ]
    },
    {
     "name": "stderr",
     "output_type": "stream",
     "text": [
      "100%|██████████| 70/70 [00:06<00:00, 11.27it/s]\n"
     ]
    },
    {
     "name": "stdout",
     "output_type": "stream",
     "text": [
      "Epoch 61/500 | train loss: 1593.190063 | val loss: 1516.224976\n",
      "EarlyStopping counter: 31 out of 50\n"
     ]
    },
    {
     "name": "stderr",
     "output_type": "stream",
     "text": [
      "100%|██████████| 70/70 [00:06<00:00, 11.27it/s]\n"
     ]
    },
    {
     "name": "stdout",
     "output_type": "stream",
     "text": [
      "Epoch 62/500 | train loss: 1490.694824 | val loss: 1516.943848\n",
      "EarlyStopping counter: 32 out of 50\n"
     ]
    },
    {
     "name": "stderr",
     "output_type": "stream",
     "text": [
      "100%|██████████| 70/70 [00:06<00:00, 11.27it/s]\n"
     ]
    },
    {
     "name": "stdout",
     "output_type": "stream",
     "text": [
      "Epoch 63/500 | train loss: 1472.419922 | val loss: 1516.740112\n",
      "EarlyStopping counter: 33 out of 50\n",
      "Epoch    63: reducing learning rate of group 0 to 4.5000e-04.\n",
      "Retrieve best model..\n"
     ]
    },
    {
     "name": "stderr",
     "output_type": "stream",
     "text": [
      "100%|██████████| 70/70 [00:06<00:00, 11.27it/s]\n"
     ]
    },
    {
     "name": "stdout",
     "output_type": "stream",
     "text": [
      "Epoch 64/500 | train loss: 1599.409546 | val loss: 1516.319824\n",
      "EarlyStopping counter: 34 out of 50\n"
     ]
    },
    {
     "name": "stderr",
     "output_type": "stream",
     "text": [
      "100%|██████████| 70/70 [00:06<00:00, 11.27it/s]\n"
     ]
    },
    {
     "name": "stdout",
     "output_type": "stream",
     "text": [
      "Epoch 65/500 | train loss: 1563.557495 | val loss: 1516.715576\n",
      "EarlyStopping counter: 35 out of 50\n"
     ]
    },
    {
     "name": "stderr",
     "output_type": "stream",
     "text": [
      "100%|██████████| 70/70 [00:06<00:00, 11.27it/s]\n"
     ]
    },
    {
     "name": "stdout",
     "output_type": "stream",
     "text": [
      "Epoch 66/500 | train loss: 1392.977539 | val loss: 1516.548828\n",
      "EarlyStopping counter: 36 out of 50\n"
     ]
    },
    {
     "name": "stderr",
     "output_type": "stream",
     "text": [
      "100%|██████████| 70/70 [00:06<00:00, 11.28it/s]\n"
     ]
    },
    {
     "name": "stdout",
     "output_type": "stream",
     "text": [
      "Epoch 67/500 | train loss: 1407.302856 | val loss: 1516.527344\n",
      "EarlyStopping counter: 37 out of 50\n"
     ]
    },
    {
     "name": "stderr",
     "output_type": "stream",
     "text": [
      "100%|██████████| 70/70 [00:06<00:00, 11.27it/s]\n"
     ]
    },
    {
     "name": "stdout",
     "output_type": "stream",
     "text": [
      "Epoch 68/500 | train loss: 1362.218872 | val loss: 1516.536865\n",
      "EarlyStopping counter: 38 out of 50\n"
     ]
    },
    {
     "name": "stderr",
     "output_type": "stream",
     "text": [
      "100%|██████████| 70/70 [00:06<00:00, 11.27it/s]\n"
     ]
    },
    {
     "name": "stdout",
     "output_type": "stream",
     "text": [
      "Epoch 69/500 | train loss: 1463.532227 | val loss: 1516.933350\n",
      "EarlyStopping counter: 39 out of 50\n"
     ]
    },
    {
     "name": "stderr",
     "output_type": "stream",
     "text": [
      "100%|██████████| 70/70 [00:06<00:00, 11.28it/s]\n"
     ]
    },
    {
     "name": "stdout",
     "output_type": "stream",
     "text": [
      "Epoch 70/500 | train loss: 1438.673218 | val loss: 1516.948486\n",
      "EarlyStopping counter: 40 out of 50\n"
     ]
    },
    {
     "name": "stderr",
     "output_type": "stream",
     "text": [
      "100%|██████████| 70/70 [00:06<00:00, 11.27it/s]\n"
     ]
    },
    {
     "name": "stdout",
     "output_type": "stream",
     "text": [
      "Epoch 71/500 | train loss: 1468.392822 | val loss: 1516.634644\n",
      "EarlyStopping counter: 41 out of 50\n"
     ]
    },
    {
     "name": "stderr",
     "output_type": "stream",
     "text": [
      "100%|██████████| 70/70 [00:06<00:00, 11.27it/s]\n"
     ]
    },
    {
     "name": "stdout",
     "output_type": "stream",
     "text": [
      "Epoch 72/500 | train loss: 1431.842529 | val loss: 1516.596924\n",
      "EarlyStopping counter: 42 out of 50\n"
     ]
    },
    {
     "name": "stderr",
     "output_type": "stream",
     "text": [
      "100%|██████████| 70/70 [00:06<00:00, 11.27it/s]\n"
     ]
    },
    {
     "name": "stdout",
     "output_type": "stream",
     "text": [
      "Epoch 73/500 | train loss: 1415.775879 | val loss: 1516.377808\n",
      "EarlyStopping counter: 43 out of 50\n"
     ]
    },
    {
     "name": "stderr",
     "output_type": "stream",
     "text": [
      "100%|██████████| 70/70 [00:06<00:00, 11.27it/s]\n"
     ]
    },
    {
     "name": "stdout",
     "output_type": "stream",
     "text": [
      "Epoch 74/500 | train loss: 1426.092041 | val loss: 1516.729980\n",
      "EarlyStopping counter: 44 out of 50\n",
      "Epoch    74: reducing learning rate of group 0 to 1.3500e-04.\n",
      "Retrieve best model..\n"
     ]
    },
    {
     "name": "stderr",
     "output_type": "stream",
     "text": [
      "100%|██████████| 70/70 [00:06<00:00, 11.27it/s]\n"
     ]
    },
    {
     "name": "stdout",
     "output_type": "stream",
     "text": [
      "Epoch 75/500 | train loss: 1578.470337 | val loss: 1516.519775\n",
      "EarlyStopping counter: 45 out of 50\n"
     ]
    },
    {
     "name": "stderr",
     "output_type": "stream",
     "text": [
      "100%|██████████| 70/70 [00:06<00:00, 11.27it/s]\n"
     ]
    },
    {
     "name": "stdout",
     "output_type": "stream",
     "text": [
      "Epoch 76/500 | train loss: 1435.451904 | val loss: 1516.494141\n",
      "EarlyStopping counter: 46 out of 50\n"
     ]
    },
    {
     "name": "stderr",
     "output_type": "stream",
     "text": [
      "100%|██████████| 70/70 [00:06<00:00, 11.27it/s]\n"
     ]
    },
    {
     "name": "stdout",
     "output_type": "stream",
     "text": [
      "Epoch 77/500 | train loss: 1508.243530 | val loss: 1516.607666\n",
      "EarlyStopping counter: 47 out of 50\n"
     ]
    },
    {
     "name": "stderr",
     "output_type": "stream",
     "text": [
      "100%|██████████| 70/70 [00:06<00:00, 11.27it/s]\n"
     ]
    },
    {
     "name": "stdout",
     "output_type": "stream",
     "text": [
      "Epoch 78/500 | train loss: 1377.559204 | val loss: 1516.542969\n",
      "EarlyStopping counter: 48 out of 50\n"
     ]
    },
    {
     "name": "stderr",
     "output_type": "stream",
     "text": [
      "100%|██████████| 70/70 [00:06<00:00, 11.27it/s]\n"
     ]
    },
    {
     "name": "stdout",
     "output_type": "stream",
     "text": [
      "Epoch 79/500 | train loss: 1469.203491 | val loss: 1516.475464\n",
      "EarlyStopping counter: 49 out of 50\n"
     ]
    },
    {
     "name": "stderr",
     "output_type": "stream",
     "text": [
      "100%|██████████| 70/70 [00:06<00:00, 11.27it/s]\n"
     ]
    },
    {
     "name": "stdout",
     "output_type": "stream",
     "text": [
      "Epoch 80/500 | train loss: 1468.089478 | val loss: 1516.523682\n",
      "EarlyStopping counter: 50 out of 50\n",
      "Early stopping at epoch 79. Best val loss: 1516.164\n",
      "Retrieve best model..\n"
     ]
    }
   ],
   "source": [
    "trainer_config = {\n",
    "    \"epochs\": 500,\n",
    "    \"device\": \"cuda\",\n",
    "    \"lr\": 0.005,\n",
    "    \"use_avg_loss\": True\n",
    "}\n",
    "out = None\n",
    "## The following line would train the model (upon availability of the dataset)\n",
    "out = base_trainer(model, dataloaders, random_seed, **trainer_config)"
   ]
  },
  {
   "cell_type": "code",
   "execution_count": 11,
   "metadata": {
    "ExecuteTime": {
     "end_time": "2023-09-26T10:53:16.443942Z",
     "start_time": "2023-09-26T10:53:15.083920300Z"
    },
    "collapsed": false
   },
   "outputs": [
    {
     "data": {
      "image/png": "[encoded data removed]",
      "text/plain": [
       "<Figure size 3600x720 with 5 Axes>"
      ]
     },
     "metadata": {},
     "output_type": "display_data"
    }
   ],
   "source": [
    "if out is not None:\n",
    "    fig, ax = plt.subplots(1,5,figsize=(50,10))\n",
    "    ax[0].plot((np.arange(len(out[1][0]))+1), out[1][0], label=\"train\")\n",
    "    ax[0].plot((np.arange(len(out[1][0]))+1), out[1][1], label=\"val\")\n",
    "    ax[1].plot((np.arange(len(out[1][0]))+1), out[1][0], label=\"train\")\n",
    "    ax[2].plot((np.arange(len(out[1][0]))+1), out[1][1], label=\"val\")\n",
    "    ax[3].plot((np.arange(len(out[1][0]))+1)[40:], out[1][0][40:], label=\"train\")\n",
    "    ax[4].plot((np.arange(len(out[1][0]))+1)[40:], out[1][1][40:], label=\"val\")\n",
    "    ax[0].legend()\n",
    "    ax[1].legend()\n",
    "    ax[2].legend()\n",
    "    ax[3].legend()\n",
    "    ax[4].legend()\n",
    "    plt.show()"
   ]
  },
  {
   "cell_type": "code",
   "execution_count": 14,
   "metadata": {
    "ExecuteTime": {
     "end_time": "2023-09-26T10:53:16.450943100Z",
     "start_time": "2023-09-26T10:53:16.446943100Z"
    },
    "collapsed": false
   },
   "outputs": [
    {
     "name": "stdout",
     "output_type": "stream",
     "text": [
      "FlowFA_Ident(\n",
      "  (encoding_model): Encoder(\n",
      "    (core): SE2dCore(\n",
      "      (_input_weights_regularizer): LaplaceL2norm(\n",
      "        (laplace): Laplace()\n",
      "      )\n",
      "      (features): Sequential(\n",
      "        (layer0): Sequential(\n",
      "          (conv): Conv2d(1, 64, kernel_size=(15, 15), stride=(1, 1), bias=False)\n",
      "          (norm): BatchNorm2d(64, eps=1e-05, momentum=0.9, affine=True, track_running_stats=True)\n",
      "          (nonlin): ELU(alpha=1.0, inplace=True)\n",
      "        )\n",
      "        (layer1): Sequential(\n",
      "          (ds_conv): DepthSeparableConv2d(\n",
      "            (in_depth_conv): Conv2d(64, 64, kernel_size=(1, 1), stride=(1, 1), bias=False)\n",
      "            (spatial_conv): Conv2d(64, 64, kernel_size=(13, 13), stride=(1, 1), padding=(6, 6), groups=64, bias=False)\n",
      "            (out_depth_conv): Conv2d(64, 64, kernel_size=(1, 1), stride=(1, 1), bias=False)\n",
      "          )\n",
      "          (norm): BatchNorm2d(64, eps=1e-05, momentum=0.9, affine=True, track_running_stats=True)\n",
      "          (nonlin): ELU(alpha=1.0, inplace=True)\n",
      "        )\n",
      "        (layer2): Sequential(\n",
      "          (ds_conv): DepthSeparableConv2d(\n",
      "            (in_depth_conv): Conv2d(64, 64, kernel_size=(1, 1), stride=(1, 1), bias=False)\n",
      "            (spatial_conv): Conv2d(64, 64, kernel_size=(13, 13), stride=(1, 1), padding=(6, 6), groups=64, bias=False)\n",
      "            (out_depth_conv): Conv2d(64, 64, kernel_size=(1, 1), stride=(1, 1), bias=False)\n",
      "          )\n",
      "          (norm): BatchNorm2d(64, eps=1e-05, momentum=0.9, affine=True, track_running_stats=True)\n",
      "          (nonlin): ELU(alpha=1.0, inplace=True)\n",
      "        )\n",
      "        (layer3): Sequential(\n",
      "          (ds_conv): DepthSeparableConv2d(\n",
      "            (in_depth_conv): Conv2d(64, 64, kernel_size=(1, 1), stride=(1, 1), bias=False)\n",
      "            (spatial_conv): Conv2d(64, 64, kernel_size=(13, 13), stride=(1, 1), padding=(6, 6), groups=64, bias=False)\n",
      "            (out_depth_conv): Conv2d(64, 64, kernel_size=(1, 1), stride=(1, 1), bias=False)\n",
      "          )\n",
      "          (norm): BatchNorm2d(64, eps=1e-05, momentum=0.9, affine=True, track_running_stats=True)\n",
      "          (nonlin): ELU(alpha=1.0, inplace=True)\n",
      "        )\n",
      "      )\n",
      "    ) [SE2dCore regularizers: gamma_input = 1|skip = 0]\n",
      "    \n",
      "    (readout): MultipleFullGaussian2d(\n",
      "      (0): full FullGaussian2d (64 x 22 x 50 -> 1000) with bias, with predicted grid  -> Sequential(\n",
      "        (0): Linear(in_features=2, out_features=20, bias=True)\n",
      "        (1): ReLU()\n",
      "        (2): Linear(in_features=20, out_features=20, bias=True)\n",
      "        (3): ReLU()\n",
      "        (4): Linear(in_features=20, out_features=20, bias=True)\n",
      "        (5): ReLU()\n",
      "        (6): Linear(in_features=20, out_features=20, bias=True)\n",
      "        (7): ReLU()\n",
      "        (8): Linear(in_features=20, out_features=2, bias=True)\n",
      "        (9): Tanh()\n",
      "      )\n",
      "      \n",
      "    )\n",
      "  )\n",
      "  (sample_transform): Flow(\n",
      "    (layers): ModuleList(\n",
      "      (0): Identity()\n",
      "      (1): LowRankAffine()\n",
      "      (2): ELU()\n",
      "      (3): LowRankAffine()\n",
      "      (4): ELU()\n",
      "      (5): LowRankAffine()\n",
      "      (6): ELU()\n",
      "      (7): LowRankAffine()\n",
      "      (8): Identity()\n",
      "    )\n",
      "  )\n",
      "  (mean_transform): MeanTransfom(\n",
      "    (f): Sequential(\n",
      "      (0): Linear(in_features=1, out_features=10, bias=True)\n",
      "      (1): ELU(alpha=1.0)\n",
      "      (2): Linear(in_features=10, out_features=10, bias=True)\n",
      "      (3): ELU(alpha=1.0)\n",
      "      (4): Linear(in_features=10, out_features=1, bias=True)\n",
      "    )\n",
      "  )\n",
      ")\n"
     ]
    }
   ],
   "source": [
    "print(model)"
   ]
  },
  {
   "cell_type": "code",
   "execution_count": 15,
   "metadata": {
    "ExecuteTime": {
     "end_time": "2023-09-26T10:53:16.451943200Z",
     "start_time": "2023-09-26T10:53:16.447943600Z"
    },
    "collapsed": false
   },
   "outputs": [],
   "source": [
    "from utility_extended import *"
   ]
  },
  {
   "cell_type": "code",
   "execution_count": 16,
   "metadata": {
    "ExecuteTime": {
     "end_time": "2023-09-26T10:53:20.578756Z",
     "start_time": "2023-09-26T10:53:16.447943600Z"
    },
    "collapsed": false
   },
   "outputs": [
    {
     "name": "stdout",
     "output_type": "stream",
     "text": [
      "Train loss: 2.048510422459386\n",
      "Val loss: 1.990503692516503\n",
      "Test loss: 1.9915509566574845\n"
     ]
    }
   ],
   "source": [
    "print(f\"Train loss: {calcLossForDataset(model, dataloaders['train'], 1000, True)}\\nVal loss: {calcLossForDataset(model, dataloaders['validation'], 1000, True)}\\nTest loss: {calcLossForDataset(model, dataloaders['test'], 1000, True)}\")"
   ]
  },
  {
   "cell_type": "code",
   "execution_count": 17,
   "metadata": {
    "ExecuteTime": {
     "end_time": "2023-09-26T10:53:20.643756800Z",
     "start_time": "2023-09-26T10:53:20.574755600Z"
    },
    "collapsed": false
   },
   "outputs": [],
   "source": [
    "torch.save(model, \"./models/FlowFA-Ident-LowRank\")"
   ]
  }
 ],
 "metadata": {
  "kernelspec": {
   "display_name": "Python 3",
   "language": "python",
   "name": "python3"
  },
  "language_info": {
   "codemirror_mode": {
    "name": "ipython",
    "version": 3
   },
   "file_extension": ".py",
   "mimetype": "text/x-python",
   "name": "python",
   "nbconvert_exporter": "python",
   "pygments_lexer": "ipython3",
   "version": "3.8.0"
  }
 },
 "nbformat": 4,
 "nbformat_minor": 4
}
