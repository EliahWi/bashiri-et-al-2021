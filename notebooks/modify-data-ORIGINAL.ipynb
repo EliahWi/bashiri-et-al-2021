{
 "cells": [
  {
   "cell_type": "code",
   "execution_count": 17,
   "metadata": {
    "ExecuteTime": {
     "end_time": "2023-10-11T14:15:50.531380100Z",
     "start_time": "2023-10-11T14:15:50.509378700Z"
    },
    "collapsed": true
   },
   "outputs": [],
   "source": [
    "import numpy as np\n",
    "from neuraldistributions.datasets import static\n",
    "import os\n",
    "from multiprocessing import Pool\n",
    "import torch"
   ]
  },
  {
   "cell_type": "code",
   "execution_count": 18,
   "metadata": {
    "ExecuteTime": {
     "end_time": "2023-10-11T14:15:50.532379200Z",
     "start_time": "2023-10-11T14:15:50.515379400Z"
    },
    "collapsed": false
   },
   "outputs": [
    {
     "data": {
      "text/plain": [
       "<torch._C.Generator at 0x7f87eb309170>"
      ]
     },
     "execution_count": 18,
     "metadata": {},
     "output_type": "execute_result"
    }
   ],
   "source": [
    "torch.manual_seed(42)"
   ]
  },
  {
   "cell_type": "code",
   "execution_count": 19,
   "metadata": {
    "ExecuteTime": {
     "end_time": "2023-10-11T14:16:01.854767900Z",
     "start_time": "2023-10-11T14:15:50.519379100Z"
    },
    "collapsed": false
   },
   "outputs": [],
   "source": [
    "data_source = 'static21067-10-18-GrayImageNet-94c6ff995dac583098847cfecd43e7b6.zip'\n",
    "static.unzip(f'../project/data/{data_source}')\n",
    "data_list = os.listdir('../project/data/static21067-10-18-GrayImageNet-94c6ff995dac583098847cfecd43e7b6/data/responses')\n",
    "image_list = os.listdir('../project/data/static21067-10-18-GrayImageNet-94c6ff995dac583098847cfecd43e7b6/data/images')"
   ]
  },
  {
   "cell_type": "code",
   "execution_count": 20,
   "metadata": {
    "ExecuteTime": {
     "end_time": "2023-10-11T14:16:06.541062600Z",
     "start_time": "2023-10-11T14:16:01.854767900Z"
    },
    "collapsed": false
   },
   "outputs": [],
   "source": [
    "import shutil\n",
    "if os.path.exists('../project/data/static21067-10-18-GrayImageNet-94c6ff995dac583098847cfecd43e7b6_dsampled/'):\n",
    "    shutil.rmtree(f'../project/data/static21067-10-18-GrayImageNet-94c6ff995dac583098847cfecd43e7b6_dsampled')\n",
    "shutil.copytree(f'../project/data/{data_source.split(\".zip\")[0]}', f'../project/data/static21067-10-18-GrayImageNet-94c6ff995dac583098847cfecd43e7b6_dsampled')\n",
    "shutil.rmtree(f'../project/data/static21067-10-18-GrayImageNet-94c6ff995dac583098847cfecd43e7b6_dsampled/data/images')\n",
    "os.mkdir('../project/data/static21067-10-18-GrayImageNet-94c6ff995dac583098847cfecd43e7b6_dsampled/data/images/')"
   ]
  },
  {
   "cell_type": "code",
   "execution_count": 21,
   "metadata": {
    "ExecuteTime": {
     "end_time": "2023-10-11T14:16:06.541062600Z",
     "start_time": "2023-10-11T14:16:06.541062600Z"
    },
    "collapsed": false
   },
   "outputs": [],
   "source": [
    "import cv2\n",
    "def downsample_image(file):\n",
    "    image = np.load('../project/data/static21067-10-18-GrayImageNet-94c6ff995dac583098847cfecd43e7b6/data/images/' + file)\n",
    "    np.save('../project/data/static21067-10-18-GrayImageNet-94c6ff995dac583098847cfecd43e7b6_dsampled/data/images/' + file, cv2.resize(image[0], (64, 36), interpolation=cv2.INTER_AREA).astype(\n",
    "        np.float32\n",
    "    ).reshape(1,36, 64), allow_pickle=False)"
   ]
  },
  {
   "cell_type": "code",
   "execution_count": 22,
   "metadata": {
    "ExecuteTime": {
     "end_time": "2023-10-11T14:16:10.813127900Z",
     "start_time": "2023-10-11T14:16:06.541062600Z"
    },
    "collapsed": false
   },
   "outputs": [],
   "source": [
    "#np.random.seed(42)\n",
    "#torch.manual_seed(42)\n",
    "with Pool(processes=1) as pool:\n",
    "    pool.map(downsample_image, image_list)"
   ]
  },
  {
   "cell_type": "code",
   "execution_count": 23,
   "metadata": {
    "ExecuteTime": {
     "end_time": "2023-10-11T14:16:10.813127900Z",
     "start_time": "2023-10-11T14:16:10.813127900Z"
    },
    "collapsed": false
   },
   "outputs": [
    {
     "name": "stdout",
     "output_type": "stream",
     "text": [
      "True\n"
     ]
    }
   ],
   "source": [
    "print(len(os.listdir('../project/data/static21067-10-18-GrayImageNet-94c6ff995dac583098847cfecd43e7b6_dsampled/data/responses')) == len(data_list))"
   ]
  },
  {
   "cell_type": "code",
   "execution_count": 27,
   "metadata": {
    "ExecuteTime": {
     "end_time": "2023-10-11T14:33:42.082729500Z",
     "start_time": "2023-10-11T14:33:37.889386700Z"
    },
    "collapsed": false
   },
   "outputs": [],
   "source": [
    "responses = []\n",
    "dir = \"../project/data/static21067-10-18-GrayImageNet-94c6ff995dac583098847cfecd43e7b6_dsampled/data/responses\"\n",
    "files = os.listdir(dir)\n",
    "for file in files:\n",
    "    data = np.load(f\"{dir}/{file}\").tolist()\n",
    "    responses.append(data)"
   ]
  },
  {
   "cell_type": "code",
   "execution_count": 28,
   "metadata": {
    "ExecuteTime": {
     "end_time": "2023-10-11T14:33:44.456845700Z",
     "start_time": "2023-10-11T14:33:44.453891100Z"
    },
    "collapsed": false
   },
   "outputs": [],
   "source": [
    "responses_np = np.array(responses)"
   ]
  },
  {
   "cell_type": "code",
   "execution_count": null,
   "metadata": {
    "ExecuteTime": {
     "start_time": "2023-10-11T14:33:44.907041900Z"
    },
    "collapsed": false,
    "is_executing": true
   },
   "outputs": [],
   "source": [
    "import seaborn as sns\n",
    "import matplotlib.pyplot as plt\n",
    "fix, ax = plt.subplots(1,1, figsize=(25,25))\n",
    "sns.histplot(responses_np[0],ax = ax, stat=\"probability\", element=\"step\", color=\"blue\", alpha=0.3)\n",
    "ax.set_xlim(0, 10)\n"
   ]
  },
  {
   "cell_type": "code",
   "execution_count": null,
   "metadata": {
    "collapsed": false
   },
   "outputs": [],
   "source": []
  }
 ],
 "metadata": {
  "kernelspec": {
   "display_name": "Python 3",
   "language": "python",
   "name": "python3"
  },
  "language_info": {
   "codemirror_mode": {
    "name": "ipython",
    "version": 2
   },
   "file_extension": ".py",
   "mimetype": "text/x-python",
   "name": "python",
   "nbconvert_exporter": "python",
   "pygments_lexer": "ipython2",
   "version": "2.7.6"
  }
 },
 "nbformat": 4,
 "nbformat_minor": 0
}
