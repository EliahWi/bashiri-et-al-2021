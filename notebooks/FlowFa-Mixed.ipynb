{
 "cells": [
  {
   "cell_type": "code",
   "execution_count": 1,
   "metadata": {
    "ExecuteTime": {
     "end_time": "2023-09-11T09:38:47.488618600Z",
     "start_time": "2023-09-11T09:38:46.445527300Z"
    }
   },
   "outputs": [
    {
     "name": "stdout",
     "output_type": "stream",
     "text": [
      "dataport not available, will only be able to load data locally\n"
     ]
    }
   ],
   "source": [
    "import numpy as np\n",
    "import matplotlib.pyplot as plt\n",
    "import seaborn as sns\n",
    "import torch\n",
    "\n",
    "from neuraldistributions.models import transforms\n",
    "from neuraldistributions.datasets import static\n",
    "\n",
    "from multiprocessing import Pool\n",
    "\n",
    "import os\n",
    "device = \"cuda\""
   ]
  },
  {
   "cell_type": "code",
   "execution_count": 2,
   "metadata": {
    "ExecuteTime": {
     "end_time": "2023-09-11T09:38:47.494619200Z",
     "start_time": "2023-09-11T09:38:47.492618500Z"
    }
   },
   "outputs": [],
   "source": [
    "import numpy as np\n",
    "import torch\n",
    "\n",
    "from neuraldistributions.datasets import mouse_static_loaders, extract_data_key\n",
    "from neuraldistributions.models import poisson, zig, flowfa, ziffa\n",
    "from neuraldistributions.trainers import base_trainer\n",
    "from neuraldistributions.utility import get_loglikelihood"
   ]
  },
  {
   "cell_type": "code",
   "execution_count": 3,
   "metadata": {
    "ExecuteTime": {
     "end_time": "2023-09-11T09:38:47.499619800Z",
     "start_time": "2023-09-11T09:38:47.498619700Z"
    }
   },
   "outputs": [],
   "source": [
    "random_seed=42\n",
    "dataset_dir = \"../project/data\"\n",
    "datasets = [\n",
    "    \"static_edited_dsampled.zip\",\n",
    "]\n",
    "scan_id = [2, 1]\n",
    "dataset_paths = [f\"{dataset_dir}/{dataset}\" for dataset in datasets]\n",
    "areas = [[\"V1\", \"LM\"]]\n",
    "neurons_ns = [1000, 907]"
   ]
  },
  {
   "cell_type": "code",
   "execution_count": 4,
   "metadata": {
    "ExecuteTime": {
     "end_time": "2023-09-11T09:39:02.471497300Z",
     "start_time": "2023-09-11T09:38:47.509618600Z"
    }
   },
   "outputs": [
    {
     "name": "stderr",
     "output_type": "stream",
     "text": [
      "100%|██████████| 5994/5994 [00:11<00:00, 517.88it/s]\n",
      "100%|██████████| 5994/5994 [00:00<00:00, 292717.85it/s]\n",
      "100%|██████████| 5994/5994 [00:00<00:00, 285216.10it/s]\n",
      "100%|██████████| 5994/5994 [00:00<00:00, 291246.14it/s]\n"
     ]
    }
   ],
   "source": [
    "dataset_index = 0\n",
    "dataset_path = dataset_paths[dataset_index]\n",
    "data_key = extract_data_key(dataset_path)\n",
    "area = areas[dataset_index]\n",
    "neurons_n = neurons_ns[dataset_index]\n",
    "\n",
    "dataset_config = {\n",
    "    \"paths\": [dataset_path],\n",
    "    \"seed\": random_seed,\n",
    "    \"batch_size\": 64,\n",
    "    \"area\": area,\n",
    "    \"neurons_n\": neurons_n,\n",
    "    \"normalize_images\": True,\n",
    "    \"normalize_neurons\": True,\n",
    "    \"return_more\": True,\n",
    "    \"device\": device,\n",
    "    \"shuffle_train\": True,\n",
    "}\n",
    "\n",
    "dataloaders = mouse_static_loaders(**dataset_config)"
   ]
  },
  {
   "cell_type": "code",
   "execution_count": 5,
   "metadata": {
    "ExecuteTime": {
     "end_time": "2023-09-11T09:39:02.476497Z",
     "start_time": "2023-09-11T09:39:02.474496600Z"
    }
   },
   "outputs": [],
   "source": [
    "grid_mean_pred_config = {\n",
    "    \"type\": \"cortex\",\n",
    "    \"input_dimensions\": 2,\n",
    "    \"hidden_layers\": 4,\n",
    "    \"hidden_features\": 20,\n",
    "    \"nonlinearity\": \"ReLU\",\n",
    "    \"final_tanh\": True,\n",
    "}\n",
    "\n",
    "image_model_config = {\n",
    "    \"pad_input\": False,\n",
    "    \"stack\": -1,\n",
    "    \"layers\": 4,\n",
    "    \"input_kern\": 15,\n",
    "    \"gamma_input\": 1,\n",
    "    \"gamma_readout\": 2.439,\n",
    "    \"hidden_dilation\": 1,\n",
    "    \"hidden_kern\": 13,\n",
    "    \"hidden_channels\": 64,\n",
    "    \"n_se_blocks\": 0,\n",
    "    \"depth_separable\": True,\n",
    "    \"share_features\": False,\n",
    "    \"share_grid\": False,\n",
    "    \"init_sigma\": 0.4,\n",
    "    \"init_mu_range\": 0.55,\n",
    "    \"gauss_type\": \"full\",\n",
    "    \"grid_mean_predictor\": grid_mean_pred_config,\n",
    "}"
   ]
  },
  {
   "cell_type": "code",
   "execution_count": 6,
   "metadata": {
    "ExecuteTime": {
     "end_time": "2023-09-11T09:39:02.523393800Z",
     "start_time": "2023-09-11T09:39:02.480105200Z"
    }
   },
   "outputs": [],
   "source": [
    "model_name = \"flowfa\"\n",
    "d_latent = 3\n",
    "sample_transform = \"learned-leaky-mixed-k-10\"\n",
    "mean_transform = \"learned\"\n",
    "per_neuron_transform = True\n",
    "unit_variance_constraint = False\n",
    "\n",
    "model_config = {\n",
    "    \"image_model_fn\": \"nnsysident.models.models.se2d_fullgaussian2d\",\n",
    "    \"image_model_config\": image_model_config,\n",
    "    \"d_latent\": d_latent,\n",
    "    \"sample_transform\": sample_transform,\n",
    "    \"mean_transform\": mean_transform,\n",
    "    \"per_neuron_samples_transform\": per_neuron_transform,\n",
    "    \"init_psi_diag_coef\": 0.1,\n",
    "    \"init_C_coef\": 0.1,\n",
    "    \"unit_variance_constraint\": unit_variance_constraint,\n",
    "}\n",
    "model = flowfa(dataloaders, random_seed, **model_config)"
   ]
  },
  {
   "cell_type": "code",
   "execution_count": 7,
   "metadata": {
    "ExecuteTime": {
     "end_time": "2023-09-11T09:39:02.530395100Z",
     "start_time": "2023-09-11T09:39:02.525395400Z"
    },
    "collapsed": false
   },
   "outputs": [
    {
     "name": "stdout",
     "output_type": "stream",
     "text": [
      "[0 1 2 3 4 5 6 7 8 9]\n"
     ]
    }
   ],
   "source": [
    "index_name_of_dataloader = next(iter(dataloaders[\"train\"]))\n",
    "indexes = np.arange(len(dataloaders[\"image_ids\"][index_name_of_dataloader][\"test\"]))\n",
    "u, inv = (np.unique(dataloaders[\"image_ids\"][index_name_of_dataloader][\"test\"], return_inverse=True))\n",
    "img_indexes = indexes[inv == inv[0]]\n",
    "print(img_indexes)"
   ]
  },
  {
   "cell_type": "code",
   "execution_count": 8,
   "metadata": {
    "ExecuteTime": {
     "end_time": "2023-09-11T09:39:02.672212300Z",
     "start_time": "2023-09-11T09:39:02.530395100Z"
    },
    "collapsed": false
   },
   "outputs": [
    {
     "name": "stdout",
     "output_type": "stream",
     "text": [
      "Flow(\n",
      "  (layers): ModuleList(\n",
      "    (0): Affine(\n",
      "      init_t=Parameter containing:\n",
      "      tensor([[0., 0., 0., 0., 0., 0., 0., 0., 0., 0., 0., 0., 0., 0., 0., 0., 0., 0., 0., 0., 0., 0., 0., 0.,\n",
      "               0., 0., 0., 0., 0., 0., 0., 0., 0., 0., 0., 0., 0., 0., 0., 0., 0., 0., 0., 0., 0., 0., 0., 0.,\n",
      "               0., 0., 0., 0., 0., 0., 0., 0., 0., 0., 0., 0., 0., 0., 0., 0., 0., 0., 0., 0., 0., 0., 0., 0.,\n",
      "               0., 0., 0., 0., 0., 0., 0., 0., 0., 0., 0., 0., 0., 0., 0., 0., 0., 0., 0., 0., 0., 0., 0., 0.,\n",
      "               0., 0., 0., 0., 0., 0., 0., 0., 0., 0., 0., 0., 0., 0., 0., 0., 0., 0., 0., 0., 0., 0., 0., 0.,\n",
      "               0., 0., 0., 0., 0., 0., 0., 0., 0., 0., 0., 0., 0., 0., 0., 0., 0., 0., 0., 0., 0., 0., 0., 0.,\n",
      "               0., 0., 0., 0., 0., 0., 0., 0., 0., 0., 0., 0., 0., 0., 0., 0., 0., 0., 0., 0., 0., 0., 0., 0.,\n",
      "               0., 0., 0., 0., 0., 0., 0., 0., 0., 0., 0., 0., 0., 0., 0., 0., 0., 0., 0., 0., 0., 0., 0., 0.,\n",
      "               0., 0., 0., 0., 0., 0., 0., 0., 0., 0., 0., 0., 0., 0., 0., 0., 0., 0., 0., 0., 0., 0., 0., 0.,\n",
      "               0., 0., 0., 0., 0., 0., 0., 0., 0., 0., 0., 0., 0., 0., 0., 0., 0., 0., 0., 0., 0., 0., 0., 0.,\n",
      "               0., 0., 0., 0., 0., 0., 0., 0., 0., 0., 0., 0., 0., 0., 0., 0., 0., 0., 0., 0., 0., 0., 0., 0.,\n",
      "               0., 0., 0., 0., 0., 0., 0., 0., 0., 0., 0., 0., 0., 0., 0., 0., 0., 0., 0., 0., 0., 0., 0., 0.,\n",
      "               0., 0., 0., 0., 0., 0., 0., 0., 0., 0., 0., 0., 0., 0., 0., 0., 0., 0., 0., 0., 0., 0., 0., 0.,\n",
      "               0., 0., 0., 0., 0., 0., 0., 0., 0., 0., 0., 0., 0., 0., 0., 0., 0., 0., 0., 0., 0., 0., 0., 0.,\n",
      "               0., 0., 0., 0., 0., 0., 0., 0., 0., 0., 0., 0., 0., 0., 0., 0., 0., 0., 0., 0., 0., 0., 0., 0.,\n",
      "               0., 0., 0., 0., 0., 0., 0., 0., 0., 0., 0., 0., 0., 0., 0., 0., 0., 0., 0., 0., 0., 0., 0., 0.,\n",
      "               0., 0., 0., 0., 0., 0., 0., 0., 0., 0., 0., 0., 0., 0., 0., 0., 0., 0., 0., 0., 0., 0., 0., 0.,\n",
      "               0., 0., 0., 0., 0., 0., 0., 0., 0., 0., 0., 0., 0., 0., 0., 0., 0., 0., 0., 0., 0., 0., 0., 0.,\n",
      "               0., 0., 0., 0., 0., 0., 0., 0., 0., 0., 0., 0., 0., 0., 0., 0., 0., 0., 0., 0., 0., 0., 0., 0.,\n",
      "               0., 0., 0., 0., 0., 0., 0., 0., 0., 0., 0., 0., 0., 0., 0., 0., 0., 0., 0., 0., 0., 0., 0., 0.,\n",
      "               0., 0., 0., 0., 0., 0., 0., 0., 0., 0., 0., 0., 0., 0., 0., 0., 0., 0., 0., 0., 0., 0., 0., 0.,\n",
      "               0., 0., 0., 0., 0., 0., 0., 0., 0., 0., 0., 0., 0., 0., 0., 0., 0., 0., 0., 0., 0., 0., 0., 0.,\n",
      "               0., 0., 0., 0., 0., 0., 0., 0., 0., 0., 0., 0., 0., 0., 0., 0., 0., 0., 0., 0., 0., 0., 0., 0.,\n",
      "               0., 0., 0., 0., 0., 0., 0., 0., 0., 0., 0., 0., 0., 0., 0., 0., 0., 0., 0., 0., 0., 0., 0., 0.,\n",
      "               0., 0., 0., 0., 0., 0., 0., 0., 0., 0., 0., 0., 0., 0., 0., 0., 0., 0., 0., 0., 0., 0., 0., 0.,\n",
      "               0., 0., 0., 0., 0., 0., 0., 0., 0., 0., 0., 0., 0., 0., 0., 0., 0., 0., 0., 0., 0., 0., 0., 0.,\n",
      "               0., 0., 0., 0., 0., 0., 0., 0., 0., 0., 0., 0., 0., 0., 0., 0., 0., 0., 0., 0., 0., 0., 0., 0.,\n",
      "               0., 0., 0., 0., 0., 0., 0., 0., 0., 0., 0., 0., 0., 0., 0., 0., 0., 0., 0., 0., 0., 0., 0., 0.,\n",
      "               0., 0., 0., 0., 0., 0., 0., 0., 0., 0., 0., 0., 0., 0., 0., 0., 0., 0., 0., 0., 0., 0., 0., 0.,\n",
      "               0., 0., 0., 0., 0., 0., 0., 0., 0., 0., 0., 0., 0., 0., 0., 0., 0., 0., 0., 0., 0., 0., 0., 0.,\n",
      "               0., 0., 0., 0., 0., 0., 0., 0., 0., 0., 0., 0., 0., 0., 0., 0., 0., 0., 0., 0., 0., 0., 0., 0.,\n",
      "               0., 0., 0., 0., 0., 0., 0., 0., 0., 0., 0., 0., 0., 0., 0., 0., 0., 0., 0., 0., 0., 0., 0., 0.,\n",
      "               0., 0., 0., 0., 0., 0., 0., 0., 0., 0., 0., 0., 0., 0., 0., 0., 0., 0., 0., 0., 0., 0., 0., 0.,\n",
      "               0., 0., 0., 0., 0., 0., 0., 0., 0., 0., 0., 0., 0., 0., 0., 0., 0., 0., 0., 0., 0., 0., 0., 0.,\n",
      "               0., 0., 0., 0., 0., 0., 0., 0., 0., 0., 0., 0., 0., 0., 0., 0., 0., 0., 0., 0., 0., 0., 0., 0.,\n",
      "               0., 0., 0., 0., 0., 0., 0., 0., 0., 0., 0., 0., 0., 0., 0., 0., 0., 0., 0., 0., 0., 0., 0., 0.,\n",
      "               0., 0., 0., 0., 0., 0., 0., 0., 0., 0., 0., 0., 0., 0., 0., 0., 0., 0., 0., 0., 0., 0., 0., 0.,\n",
      "               0., 0., 0., 0., 0., 0., 0., 0., 0., 0., 0., 0., 0., 0., 0., 0., 0., 0., 0., 0., 0., 0., 0., 0.,\n",
      "               0., 0., 0., 0., 0., 0., 0., 0., 0., 0., 0., 0., 0., 0., 0., 0., 0., 0., 0., 0., 0., 0., 0., 0.,\n",
      "               0., 0., 0., 0., 0., 0., 0., 0., 0., 0., 0., 0., 0., 0., 0., 0., 0., 0., 0., 0., 0., 0., 0., 0.,\n",
      "               0., 0., 0., 0., 0., 0., 0., 0., 0., 0., 0., 0., 0., 0., 0., 0., 0., 0., 0., 0., 0., 0., 0., 0.,\n",
      "               0., 0., 0., 0., 0., 0., 0., 0., 0., 0., 0., 0., 0., 0., 0., 0.]],\n",
      "             device='cuda:0', requires_grad=True), init_a=Parameter containing:\n",
      "      tensor([[1., 1., 1., 1., 1., 1., 1., 1., 1., 1., 1., 1., 1., 1., 1., 1., 1., 1.,\n",
      "               1., 1., 1., 1., 1., 1., 1., 1., 1., 1., 1., 1., 1., 1., 1., 1., 1., 1.,\n",
      "               1., 1., 1., 1., 1., 1., 1., 1., 1., 1., 1., 1., 1., 1., 1., 1., 1., 1.,\n",
      "               1., 1., 1., 1., 1., 1., 1., 1., 1., 1., 1., 1., 1., 1., 1., 1., 1., 1.,\n",
      "               1., 1., 1., 1., 1., 1., 1., 1., 1., 1., 1., 1., 1., 1., 1., 1., 1., 1.,\n",
      "               1., 1., 1., 1., 1., 1., 1., 1., 1., 1., 1., 1., 1., 1., 1., 1., 1., 1.,\n",
      "               1., 1., 1., 1., 1., 1., 1., 1., 1., 1., 1., 1., 1., 1., 1., 1., 1., 1.,\n",
      "               1., 1., 1., 1., 1., 1., 1., 1., 1., 1., 1., 1., 1., 1., 1., 1., 1., 1.,\n",
      "               1., 1., 1., 1., 1., 1., 1., 1., 1., 1., 1., 1., 1., 1., 1., 1., 1., 1.,\n",
      "               1., 1., 1., 1., 1., 1., 1., 1., 1., 1., 1., 1., 1., 1., 1., 1., 1., 1.,\n",
      "               1., 1., 1., 1., 1., 1., 1., 1., 1., 1., 1., 1., 1., 1., 1., 1., 1., 1.,\n",
      "               1., 1., 1., 1., 1., 1., 1., 1., 1., 1., 1., 1., 1., 1., 1., 1., 1., 1.,\n",
      "               1., 1., 1., 1., 1., 1., 1., 1., 1., 1., 1., 1., 1., 1., 1., 1., 1., 1.,\n",
      "               1., 1., 1., 1., 1., 1., 1., 1., 1., 1., 1., 1., 1., 1., 1., 1., 1., 1.,\n",
      "               1., 1., 1., 1., 1., 1., 1., 1., 1., 1., 1., 1., 1., 1., 1., 1., 1., 1.,\n",
      "               1., 1., 1., 1., 1., 1., 1., 1., 1., 1., 1., 1., 1., 1., 1., 1., 1., 1.,\n",
      "               1., 1., 1., 1., 1., 1., 1., 1., 1., 1., 1., 1., 1., 1., 1., 1., 1., 1.,\n",
      "               1., 1., 1., 1., 1., 1., 1., 1., 1., 1., 1., 1., 1., 1., 1., 1., 1., 1.,\n",
      "               1., 1., 1., 1., 1., 1., 1., 1., 1., 1., 1., 1., 1., 1., 1., 1., 1., 1.,\n",
      "               1., 1., 1., 1., 1., 1., 1., 1., 1., 1., 1., 1., 1., 1., 1., 1., 1., 1.,\n",
      "               1., 1., 1., 1., 1., 1., 1., 1., 1., 1., 1., 1., 1., 1., 1., 1., 1., 1.,\n",
      "               1., 1., 1., 1., 1., 1., 1., 1., 1., 1., 1., 1., 1., 1., 1., 1., 1., 1.,\n",
      "               1., 1., 1., 1., 1., 1., 1., 1., 1., 1., 1., 1., 1., 1., 1., 1., 1., 1.,\n",
      "               1., 1., 1., 1., 1., 1., 1., 1., 1., 1., 1., 1., 1., 1., 1., 1., 1., 1.,\n",
      "               1., 1., 1., 1., 1., 1., 1., 1., 1., 1., 1., 1., 1., 1., 1., 1., 1., 1.,\n",
      "               1., 1., 1., 1., 1., 1., 1., 1., 1., 1., 1., 1., 1., 1., 1., 1., 1., 1.,\n",
      "               1., 1., 1., 1., 1., 1., 1., 1., 1., 1., 1., 1., 1., 1., 1., 1., 1., 1.,\n",
      "               1., 1., 1., 1., 1., 1., 1., 1., 1., 1., 1., 1., 1., 1., 1., 1., 1., 1.,\n",
      "               1., 1., 1., 1., 1., 1., 1., 1., 1., 1., 1., 1., 1., 1., 1., 1., 1., 1.,\n",
      "               1., 1., 1., 1., 1., 1., 1., 1., 1., 1., 1., 1., 1., 1., 1., 1., 1., 1.,\n",
      "               1., 1., 1., 1., 1., 1., 1., 1., 1., 1., 1., 1., 1., 1., 1., 1., 1., 1.,\n",
      "               1., 1., 1., 1., 1., 1., 1., 1., 1., 1., 1., 1., 1., 1., 1., 1., 1., 1.,\n",
      "               1., 1., 1., 1., 1., 1., 1., 1., 1., 1., 1., 1., 1., 1., 1., 1., 1., 1.,\n",
      "               1., 1., 1., 1., 1., 1., 1., 1., 1., 1., 1., 1., 1., 1., 1., 1., 1., 1.,\n",
      "               1., 1., 1., 1., 1., 1., 1., 1., 1., 1., 1., 1., 1., 1., 1., 1., 1., 1.,\n",
      "               1., 1., 1., 1., 1., 1., 1., 1., 1., 1., 1., 1., 1., 1., 1., 1., 1., 1.,\n",
      "               1., 1., 1., 1., 1., 1., 1., 1., 1., 1., 1., 1., 1., 1., 1., 1., 1., 1.,\n",
      "               1., 1., 1., 1., 1., 1., 1., 1., 1., 1., 1., 1., 1., 1., 1., 1., 1., 1.,\n",
      "               1., 1., 1., 1., 1., 1., 1., 1., 1., 1., 1., 1., 1., 1., 1., 1., 1., 1.,\n",
      "               1., 1., 1., 1., 1., 1., 1., 1., 1., 1., 1., 1., 1., 1., 1., 1., 1., 1.,\n",
      "               1., 1., 1., 1., 1., 1., 1., 1., 1., 1., 1., 1., 1., 1., 1., 1., 1., 1.,\n",
      "               1., 1., 1., 1., 1., 1., 1., 1., 1., 1., 1., 1., 1., 1., 1., 1., 1., 1.,\n",
      "               1., 1., 1., 1., 1., 1., 1., 1., 1., 1., 1., 1., 1., 1., 1., 1., 1., 1.,\n",
      "               1., 1., 1., 1., 1., 1., 1., 1., 1., 1., 1., 1., 1., 1., 1., 1., 1., 1.,\n",
      "               1., 1., 1., 1., 1., 1., 1., 1., 1., 1., 1., 1., 1., 1., 1., 1., 1., 1.,\n",
      "               1., 1., 1., 1., 1., 1., 1., 1., 1., 1., 1., 1., 1., 1., 1., 1., 1., 1.,\n",
      "               1., 1., 1., 1., 1., 1., 1., 1., 1., 1., 1., 1., 1., 1., 1., 1., 1., 1.,\n",
      "               1., 1., 1., 1., 1., 1., 1., 1., 1., 1., 1., 1., 1., 1., 1., 1., 1., 1.,\n",
      "               1., 1., 1., 1., 1., 1., 1., 1., 1., 1., 1., 1., 1., 1., 1., 1., 1., 1.,\n",
      "               1., 1., 1., 1., 1., 1., 1., 1., 1., 1., 1., 1., 1., 1., 1., 1., 1., 1.,\n",
      "               1., 1., 1., 1., 1., 1., 1., 1., 1., 1., 1., 1., 1., 1., 1., 1., 1., 1.,\n",
      "               1., 1., 1., 1., 1., 1., 1., 1., 1., 1., 1., 1., 1., 1., 1., 1., 1., 1.,\n",
      "               1., 1., 1., 1., 1., 1., 1., 1., 1., 1., 1., 1., 1., 1., 1., 1., 1., 1.,\n",
      "               1., 1., 1., 1., 1., 1., 1., 1., 1., 1., 1., 1., 1., 1., 1., 1., 1., 1.,\n",
      "               1., 1., 1., 1., 1., 1., 1., 1., 1., 1., 1., 1., 1., 1., 1., 1., 1., 1.,\n",
      "               1., 1., 1., 1., 1., 1., 1., 1., 1., 1.]], device='cuda:0',\n",
      "             requires_grad=True)\n",
      "    )\n",
      "    (1): ELU()\n",
      "    (2): LowRankAffine()\n",
      "    (3): ELU()\n",
      "    (4): Affine(\n",
      "      init_t=Parameter containing:\n",
      "      tensor([[0., 0., 0., 0., 0., 0., 0., 0., 0., 0., 0., 0., 0., 0., 0., 0., 0., 0., 0., 0., 0., 0., 0., 0.,\n",
      "               0., 0., 0., 0., 0., 0., 0., 0., 0., 0., 0., 0., 0., 0., 0., 0., 0., 0., 0., 0., 0., 0., 0., 0.,\n",
      "               0., 0., 0., 0., 0., 0., 0., 0., 0., 0., 0., 0., 0., 0., 0., 0., 0., 0., 0., 0., 0., 0., 0., 0.,\n",
      "               0., 0., 0., 0., 0., 0., 0., 0., 0., 0., 0., 0., 0., 0., 0., 0., 0., 0., 0., 0., 0., 0., 0., 0.,\n",
      "               0., 0., 0., 0., 0., 0., 0., 0., 0., 0., 0., 0., 0., 0., 0., 0., 0., 0., 0., 0., 0., 0., 0., 0.,\n",
      "               0., 0., 0., 0., 0., 0., 0., 0., 0., 0., 0., 0., 0., 0., 0., 0., 0., 0., 0., 0., 0., 0., 0., 0.,\n",
      "               0., 0., 0., 0., 0., 0., 0., 0., 0., 0., 0., 0., 0., 0., 0., 0., 0., 0., 0., 0., 0., 0., 0., 0.,\n",
      "               0., 0., 0., 0., 0., 0., 0., 0., 0., 0., 0., 0., 0., 0., 0., 0., 0., 0., 0., 0., 0., 0., 0., 0.,\n",
      "               0., 0., 0., 0., 0., 0., 0., 0., 0., 0., 0., 0., 0., 0., 0., 0., 0., 0., 0., 0., 0., 0., 0., 0.,\n",
      "               0., 0., 0., 0., 0., 0., 0., 0., 0., 0., 0., 0., 0., 0., 0., 0., 0., 0., 0., 0., 0., 0., 0., 0.,\n",
      "               0., 0., 0., 0., 0., 0., 0., 0., 0., 0., 0., 0., 0., 0., 0., 0., 0., 0., 0., 0., 0., 0., 0., 0.,\n",
      "               0., 0., 0., 0., 0., 0., 0., 0., 0., 0., 0., 0., 0., 0., 0., 0., 0., 0., 0., 0., 0., 0., 0., 0.,\n",
      "               0., 0., 0., 0., 0., 0., 0., 0., 0., 0., 0., 0., 0., 0., 0., 0., 0., 0., 0., 0., 0., 0., 0., 0.,\n",
      "               0., 0., 0., 0., 0., 0., 0., 0., 0., 0., 0., 0., 0., 0., 0., 0., 0., 0., 0., 0., 0., 0., 0., 0.,\n",
      "               0., 0., 0., 0., 0., 0., 0., 0., 0., 0., 0., 0., 0., 0., 0., 0., 0., 0., 0., 0., 0., 0., 0., 0.,\n",
      "               0., 0., 0., 0., 0., 0., 0., 0., 0., 0., 0., 0., 0., 0., 0., 0., 0., 0., 0., 0., 0., 0., 0., 0.,\n",
      "               0., 0., 0., 0., 0., 0., 0., 0., 0., 0., 0., 0., 0., 0., 0., 0., 0., 0., 0., 0., 0., 0., 0., 0.,\n",
      "               0., 0., 0., 0., 0., 0., 0., 0., 0., 0., 0., 0., 0., 0., 0., 0., 0., 0., 0., 0., 0., 0., 0., 0.,\n",
      "               0., 0., 0., 0., 0., 0., 0., 0., 0., 0., 0., 0., 0., 0., 0., 0., 0., 0., 0., 0., 0., 0., 0., 0.,\n",
      "               0., 0., 0., 0., 0., 0., 0., 0., 0., 0., 0., 0., 0., 0., 0., 0., 0., 0., 0., 0., 0., 0., 0., 0.,\n",
      "               0., 0., 0., 0., 0., 0., 0., 0., 0., 0., 0., 0., 0., 0., 0., 0., 0., 0., 0., 0., 0., 0., 0., 0.,\n",
      "               0., 0., 0., 0., 0., 0., 0., 0., 0., 0., 0., 0., 0., 0., 0., 0., 0., 0., 0., 0., 0., 0., 0., 0.,\n",
      "               0., 0., 0., 0., 0., 0., 0., 0., 0., 0., 0., 0., 0., 0., 0., 0., 0., 0., 0., 0., 0., 0., 0., 0.,\n",
      "               0., 0., 0., 0., 0., 0., 0., 0., 0., 0., 0., 0., 0., 0., 0., 0., 0., 0., 0., 0., 0., 0., 0., 0.,\n",
      "               0., 0., 0., 0., 0., 0., 0., 0., 0., 0., 0., 0., 0., 0., 0., 0., 0., 0., 0., 0., 0., 0., 0., 0.,\n",
      "               0., 0., 0., 0., 0., 0., 0., 0., 0., 0., 0., 0., 0., 0., 0., 0., 0., 0., 0., 0., 0., 0., 0., 0.,\n",
      "               0., 0., 0., 0., 0., 0., 0., 0., 0., 0., 0., 0., 0., 0., 0., 0., 0., 0., 0., 0., 0., 0., 0., 0.,\n",
      "               0., 0., 0., 0., 0., 0., 0., 0., 0., 0., 0., 0., 0., 0., 0., 0., 0., 0., 0., 0., 0., 0., 0., 0.,\n",
      "               0., 0., 0., 0., 0., 0., 0., 0., 0., 0., 0., 0., 0., 0., 0., 0., 0., 0., 0., 0., 0., 0., 0., 0.,\n",
      "               0., 0., 0., 0., 0., 0., 0., 0., 0., 0., 0., 0., 0., 0., 0., 0., 0., 0., 0., 0., 0., 0., 0., 0.,\n",
      "               0., 0., 0., 0., 0., 0., 0., 0., 0., 0., 0., 0., 0., 0., 0., 0., 0., 0., 0., 0., 0., 0., 0., 0.,\n",
      "               0., 0., 0., 0., 0., 0., 0., 0., 0., 0., 0., 0., 0., 0., 0., 0., 0., 0., 0., 0., 0., 0., 0., 0.,\n",
      "               0., 0., 0., 0., 0., 0., 0., 0., 0., 0., 0., 0., 0., 0., 0., 0., 0., 0., 0., 0., 0., 0., 0., 0.,\n",
      "               0., 0., 0., 0., 0., 0., 0., 0., 0., 0., 0., 0., 0., 0., 0., 0., 0., 0., 0., 0., 0., 0., 0., 0.,\n",
      "               0., 0., 0., 0., 0., 0., 0., 0., 0., 0., 0., 0., 0., 0., 0., 0., 0., 0., 0., 0., 0., 0., 0., 0.,\n",
      "               0., 0., 0., 0., 0., 0., 0., 0., 0., 0., 0., 0., 0., 0., 0., 0., 0., 0., 0., 0., 0., 0., 0., 0.,\n",
      "               0., 0., 0., 0., 0., 0., 0., 0., 0., 0., 0., 0., 0., 0., 0., 0., 0., 0., 0., 0., 0., 0., 0., 0.,\n",
      "               0., 0., 0., 0., 0., 0., 0., 0., 0., 0., 0., 0., 0., 0., 0., 0., 0., 0., 0., 0., 0., 0., 0., 0.,\n",
      "               0., 0., 0., 0., 0., 0., 0., 0., 0., 0., 0., 0., 0., 0., 0., 0., 0., 0., 0., 0., 0., 0., 0., 0.,\n",
      "               0., 0., 0., 0., 0., 0., 0., 0., 0., 0., 0., 0., 0., 0., 0., 0., 0., 0., 0., 0., 0., 0., 0., 0.,\n",
      "               0., 0., 0., 0., 0., 0., 0., 0., 0., 0., 0., 0., 0., 0., 0., 0., 0., 0., 0., 0., 0., 0., 0., 0.,\n",
      "               0., 0., 0., 0., 0., 0., 0., 0., 0., 0., 0., 0., 0., 0., 0., 0.]],\n",
      "             device='cuda:0', requires_grad=True), init_a=Parameter containing:\n",
      "      tensor([[1., 1., 1., 1., 1., 1., 1., 1., 1., 1., 1., 1., 1., 1., 1., 1., 1., 1.,\n",
      "               1., 1., 1., 1., 1., 1., 1., 1., 1., 1., 1., 1., 1., 1., 1., 1., 1., 1.,\n",
      "               1., 1., 1., 1., 1., 1., 1., 1., 1., 1., 1., 1., 1., 1., 1., 1., 1., 1.,\n",
      "               1., 1., 1., 1., 1., 1., 1., 1., 1., 1., 1., 1., 1., 1., 1., 1., 1., 1.,\n",
      "               1., 1., 1., 1., 1., 1., 1., 1., 1., 1., 1., 1., 1., 1., 1., 1., 1., 1.,\n",
      "               1., 1., 1., 1., 1., 1., 1., 1., 1., 1., 1., 1., 1., 1., 1., 1., 1., 1.,\n",
      "               1., 1., 1., 1., 1., 1., 1., 1., 1., 1., 1., 1., 1., 1., 1., 1., 1., 1.,\n",
      "               1., 1., 1., 1., 1., 1., 1., 1., 1., 1., 1., 1., 1., 1., 1., 1., 1., 1.,\n",
      "               1., 1., 1., 1., 1., 1., 1., 1., 1., 1., 1., 1., 1., 1., 1., 1., 1., 1.,\n",
      "               1., 1., 1., 1., 1., 1., 1., 1., 1., 1., 1., 1., 1., 1., 1., 1., 1., 1.,\n",
      "               1., 1., 1., 1., 1., 1., 1., 1., 1., 1., 1., 1., 1., 1., 1., 1., 1., 1.,\n",
      "               1., 1., 1., 1., 1., 1., 1., 1., 1., 1., 1., 1., 1., 1., 1., 1., 1., 1.,\n",
      "               1., 1., 1., 1., 1., 1., 1., 1., 1., 1., 1., 1., 1., 1., 1., 1., 1., 1.,\n",
      "               1., 1., 1., 1., 1., 1., 1., 1., 1., 1., 1., 1., 1., 1., 1., 1., 1., 1.,\n",
      "               1., 1., 1., 1., 1., 1., 1., 1., 1., 1., 1., 1., 1., 1., 1., 1., 1., 1.,\n",
      "               1., 1., 1., 1., 1., 1., 1., 1., 1., 1., 1., 1., 1., 1., 1., 1., 1., 1.,\n",
      "               1., 1., 1., 1., 1., 1., 1., 1., 1., 1., 1., 1., 1., 1., 1., 1., 1., 1.,\n",
      "               1., 1., 1., 1., 1., 1., 1., 1., 1., 1., 1., 1., 1., 1., 1., 1., 1., 1.,\n",
      "               1., 1., 1., 1., 1., 1., 1., 1., 1., 1., 1., 1., 1., 1., 1., 1., 1., 1.,\n",
      "               1., 1., 1., 1., 1., 1., 1., 1., 1., 1., 1., 1., 1., 1., 1., 1., 1., 1.,\n",
      "               1., 1., 1., 1., 1., 1., 1., 1., 1., 1., 1., 1., 1., 1., 1., 1., 1., 1.,\n",
      "               1., 1., 1., 1., 1., 1., 1., 1., 1., 1., 1., 1., 1., 1., 1., 1., 1., 1.,\n",
      "               1., 1., 1., 1., 1., 1., 1., 1., 1., 1., 1., 1., 1., 1., 1., 1., 1., 1.,\n",
      "               1., 1., 1., 1., 1., 1., 1., 1., 1., 1., 1., 1., 1., 1., 1., 1., 1., 1.,\n",
      "               1., 1., 1., 1., 1., 1., 1., 1., 1., 1., 1., 1., 1., 1., 1., 1., 1., 1.,\n",
      "               1., 1., 1., 1., 1., 1., 1., 1., 1., 1., 1., 1., 1., 1., 1., 1., 1., 1.,\n",
      "               1., 1., 1., 1., 1., 1., 1., 1., 1., 1., 1., 1., 1., 1., 1., 1., 1., 1.,\n",
      "               1., 1., 1., 1., 1., 1., 1., 1., 1., 1., 1., 1., 1., 1., 1., 1., 1., 1.,\n",
      "               1., 1., 1., 1., 1., 1., 1., 1., 1., 1., 1., 1., 1., 1., 1., 1., 1., 1.,\n",
      "               1., 1., 1., 1., 1., 1., 1., 1., 1., 1., 1., 1., 1., 1., 1., 1., 1., 1.,\n",
      "               1., 1., 1., 1., 1., 1., 1., 1., 1., 1., 1., 1., 1., 1., 1., 1., 1., 1.,\n",
      "               1., 1., 1., 1., 1., 1., 1., 1., 1., 1., 1., 1., 1., 1., 1., 1., 1., 1.,\n",
      "               1., 1., 1., 1., 1., 1., 1., 1., 1., 1., 1., 1., 1., 1., 1., 1., 1., 1.,\n",
      "               1., 1., 1., 1., 1., 1., 1., 1., 1., 1., 1., 1., 1., 1., 1., 1., 1., 1.,\n",
      "               1., 1., 1., 1., 1., 1., 1., 1., 1., 1., 1., 1., 1., 1., 1., 1., 1., 1.,\n",
      "               1., 1., 1., 1., 1., 1., 1., 1., 1., 1., 1., 1., 1., 1., 1., 1., 1., 1.,\n",
      "               1., 1., 1., 1., 1., 1., 1., 1., 1., 1., 1., 1., 1., 1., 1., 1., 1., 1.,\n",
      "               1., 1., 1., 1., 1., 1., 1., 1., 1., 1., 1., 1., 1., 1., 1., 1., 1., 1.,\n",
      "               1., 1., 1., 1., 1., 1., 1., 1., 1., 1., 1., 1., 1., 1., 1., 1., 1., 1.,\n",
      "               1., 1., 1., 1., 1., 1., 1., 1., 1., 1., 1., 1., 1., 1., 1., 1., 1., 1.,\n",
      "               1., 1., 1., 1., 1., 1., 1., 1., 1., 1., 1., 1., 1., 1., 1., 1., 1., 1.,\n",
      "               1., 1., 1., 1., 1., 1., 1., 1., 1., 1., 1., 1., 1., 1., 1., 1., 1., 1.,\n",
      "               1., 1., 1., 1., 1., 1., 1., 1., 1., 1., 1., 1., 1., 1., 1., 1., 1., 1.,\n",
      "               1., 1., 1., 1., 1., 1., 1., 1., 1., 1., 1., 1., 1., 1., 1., 1., 1., 1.,\n",
      "               1., 1., 1., 1., 1., 1., 1., 1., 1., 1., 1., 1., 1., 1., 1., 1., 1., 1.,\n",
      "               1., 1., 1., 1., 1., 1., 1., 1., 1., 1., 1., 1., 1., 1., 1., 1., 1., 1.,\n",
      "               1., 1., 1., 1., 1., 1., 1., 1., 1., 1., 1., 1., 1., 1., 1., 1., 1., 1.,\n",
      "               1., 1., 1., 1., 1., 1., 1., 1., 1., 1., 1., 1., 1., 1., 1., 1., 1., 1.,\n",
      "               1., 1., 1., 1., 1., 1., 1., 1., 1., 1., 1., 1., 1., 1., 1., 1., 1., 1.,\n",
      "               1., 1., 1., 1., 1., 1., 1., 1., 1., 1., 1., 1., 1., 1., 1., 1., 1., 1.,\n",
      "               1., 1., 1., 1., 1., 1., 1., 1., 1., 1., 1., 1., 1., 1., 1., 1., 1., 1.,\n",
      "               1., 1., 1., 1., 1., 1., 1., 1., 1., 1., 1., 1., 1., 1., 1., 1., 1., 1.,\n",
      "               1., 1., 1., 1., 1., 1., 1., 1., 1., 1., 1., 1., 1., 1., 1., 1., 1., 1.,\n",
      "               1., 1., 1., 1., 1., 1., 1., 1., 1., 1., 1., 1., 1., 1., 1., 1., 1., 1.,\n",
      "               1., 1., 1., 1., 1., 1., 1., 1., 1., 1., 1., 1., 1., 1., 1., 1., 1., 1.,\n",
      "               1., 1., 1., 1., 1., 1., 1., 1., 1., 1.]], device='cuda:0',\n",
      "             requires_grad=True)\n",
      "    )\n",
      "    (5): ELU()\n",
      "    (6): LowRankAffine()\n",
      "  )\n",
      ")\n"
     ]
    }
   ],
   "source": [
    "print(model.sample_transform)"
   ]
  },
  {
   "cell_type": "code",
   "execution_count": 9,
   "metadata": {
    "ExecuteTime": {
     "end_time": "2023-09-11T09:39:05.033830900Z",
     "start_time": "2023-09-11T09:39:02.672212300Z"
    },
    "collapsed": false
   },
   "outputs": [
    {
     "name": "stdout",
     "output_type": "stream",
     "text": [
      "102\n",
      "435\n",
      "860\n",
      "270\n",
      "106\n",
      "71\n",
      "700\n",
      "20\n",
      "614\n"
     ]
    },
    {
     "data": {
      "image/png": "[encoded data removed]",
      "text/plain": [
       "<Figure size 1440x1440 with 9 Axes>"
      ]
     },
     "metadata": {},
     "output_type": "display_data"
    }
   ],
   "source": [
    "#print distributions before training\n",
    "batch = (next(iter(dataloaders[\"test\"][index_name_of_dataloader])))\n",
    "inputs, targets = batch[:2]\n",
    "mu = model.forward(*batch, data_key=None).to(\"cpu\")\n",
    "points = torch.linspace(-10,10, 1000).to(device)\n",
    "test = torch.ones(1000, 1000)\n",
    "for i in range(1000):\n",
    "    test[: ,i] = points\n",
    "transformed_targets, logdet = model.sample_transform(test.to(device))\n",
    "from matplotlib.pyplot import figure\n",
    "\n",
    "random_neurons = np.random.choice(1000,9)\n",
    "normal = torch.distributions.normal.Normal(mu[0][img_indexes[0]], torch.tensor([1.0]))\n",
    "fig, ax = plt.subplots(3,3, figsize=(20,20))\n",
    "logdet.detach().to(\"cpu\")\n",
    "values_before = normal.log_prob(transformed_targets.detach().to(\"cpu\"))\n",
    "for i, neuron in enumerate(random_neurons):\n",
    "    print(neuron)\n",
    "    ax[i//3][i%3].plot(points.detach().cpu(), torch.exp(values_before.detach()[:,neuron] + logdet.detach().to(\"cpu\")[:,neuron]))\n",
    "    ax[i//3][i%3].set_title(str(neuron))\n",
    "    sns.histplot(targets[img_indexes][:,neuron].detach().cpu(), ax=ax[i//3][i%3], stat=\"density\", element=\"step\", color=\"blue\", alpha=0.3)\n",
    "    #ax[i//3][i%3].hist(targets[img_indexes][:,neuron].detach().cpu().numpy(), color=\"blue\", density=True)\n",
    "plt.show()"
   ]
  },
  {
   "cell_type": "code",
   "execution_count": 10,
   "metadata": {
    "ExecuteTime": {
     "end_time": "2023-09-11T09:43:41.199920300Z",
     "start_time": "2023-09-11T09:39:05.033830900Z"
    },
    "collapsed": false
   },
   "outputs": [
    {
     "name": "stdout",
     "output_type": "stream",
     "text": [
      "Score improved (nan --> 5712.825195).\n"
     ]
    },
    {
     "name": "stderr",
     "output_type": "stream",
     "text": [
      "100%|██████████| 70/70 [00:03<00:00, 18.20it/s]\n"
     ]
    },
    {
     "name": "stdout",
     "output_type": "stream",
     "text": [
      "Epoch 1/500 | train loss: 4334.406738 | val loss: 2616.211670\n",
      "Score improved (5712.825195 --> 2616.211670).\n"
     ]
    },
    {
     "name": "stderr",
     "output_type": "stream",
     "text": [
      "100%|██████████| 70/70 [00:03<00:00, 18.30it/s]\n"
     ]
    },
    {
     "name": "stdout",
     "output_type": "stream",
     "text": [
      "Epoch 2/500 | train loss: 2381.297363 | val loss: 1827.681519\n",
      "Score improved (2616.211670 --> 1827.681519).\n"
     ]
    },
    {
     "name": "stderr",
     "output_type": "stream",
     "text": [
      "100%|██████████| 70/70 [00:03<00:00, 18.27it/s]\n"
     ]
    },
    {
     "name": "stdout",
     "output_type": "stream",
     "text": [
      "Epoch 3/500 | train loss: 1596.201538 | val loss: 1609.232422\n",
      "Score improved (1827.681519 --> 1609.232422).\n"
     ]
    },
    {
     "name": "stderr",
     "output_type": "stream",
     "text": [
      "100%|██████████| 70/70 [00:03<00:00, 18.28it/s]\n"
     ]
    },
    {
     "name": "stdout",
     "output_type": "stream",
     "text": [
      "Epoch 4/500 | train loss: 1692.557617 | val loss: 1545.122559\n",
      "Score improved (1609.232422 --> 1545.122559).\n"
     ]
    },
    {
     "name": "stderr",
     "output_type": "stream",
     "text": [
      "100%|██████████| 70/70 [00:03<00:00, 18.28it/s]\n"
     ]
    },
    {
     "name": "stdout",
     "output_type": "stream",
     "text": [
      "Epoch 5/500 | train loss: 1591.978638 | val loss: 1526.209473\n",
      "Score improved (1545.122559 --> 1526.209473).\n"
     ]
    },
    {
     "name": "stderr",
     "output_type": "stream",
     "text": [
      "100%|██████████| 70/70 [00:03<00:00, 18.28it/s]\n"
     ]
    },
    {
     "name": "stdout",
     "output_type": "stream",
     "text": [
      "Epoch 6/500 | train loss: 1465.677979 | val loss: 1519.123291\n",
      "Score improved (1526.209473 --> 1519.123291).\n"
     ]
    },
    {
     "name": "stderr",
     "output_type": "stream",
     "text": [
      "100%|██████████| 70/70 [00:03<00:00, 18.22it/s]\n"
     ]
    },
    {
     "name": "stdout",
     "output_type": "stream",
     "text": [
      "Epoch 7/500 | train loss: 1543.874146 | val loss: 1516.027954\n",
      "Score improved (1519.123291 --> 1516.027954).\n"
     ]
    },
    {
     "name": "stderr",
     "output_type": "stream",
     "text": [
      "100%|██████████| 70/70 [00:03<00:00, 18.25it/s]\n"
     ]
    },
    {
     "name": "stdout",
     "output_type": "stream",
     "text": [
      "Epoch 8/500 | train loss: 1478.834351 | val loss: 1515.232178\n",
      "Score improved (1516.027954 --> 1515.232178).\n"
     ]
    },
    {
     "name": "stderr",
     "output_type": "stream",
     "text": [
      "100%|██████████| 70/70 [00:03<00:00, 18.32it/s]\n"
     ]
    },
    {
     "name": "stdout",
     "output_type": "stream",
     "text": [
      "Epoch 9/500 | train loss: 1495.130127 | val loss: 1513.851318\n",
      "Score improved (1515.232178 --> 1513.851318).\n"
     ]
    },
    {
     "name": "stderr",
     "output_type": "stream",
     "text": [
      "100%|██████████| 70/70 [00:03<00:00, 18.31it/s]\n"
     ]
    },
    {
     "name": "stdout",
     "output_type": "stream",
     "text": [
      "Epoch 10/500 | train loss: 1548.002075 | val loss: 1515.135132\n",
      "EarlyStopping counter: 1 out of 20\n"
     ]
    },
    {
     "name": "stderr",
     "output_type": "stream",
     "text": [
      "100%|██████████| 70/70 [00:03<00:00, 18.31it/s]\n"
     ]
    },
    {
     "name": "stdout",
     "output_type": "stream",
     "text": [
      "Epoch 11/500 | train loss: 1582.773560 | val loss: 1513.084717\n",
      "Score improved (1513.851318 --> 1513.084717).\n"
     ]
    },
    {
     "name": "stderr",
     "output_type": "stream",
     "text": [
      "100%|██████████| 70/70 [00:03<00:00, 18.32it/s]\n"
     ]
    },
    {
     "name": "stdout",
     "output_type": "stream",
     "text": [
      "Epoch 12/500 | train loss: 1468.323120 | val loss: 1513.216797\n",
      "EarlyStopping counter: 1 out of 20\n"
     ]
    },
    {
     "name": "stderr",
     "output_type": "stream",
     "text": [
      "100%|██████████| 70/70 [00:03<00:00, 18.32it/s]\n"
     ]
    },
    {
     "name": "stdout",
     "output_type": "stream",
     "text": [
      "Epoch 13/500 | train loss: 1534.251465 | val loss: 1512.905762\n",
      "Score improved (1513.084717 --> 1512.905762).\n"
     ]
    },
    {
     "name": "stderr",
     "output_type": "stream",
     "text": [
      "100%|██████████| 70/70 [00:03<00:00, 18.34it/s]\n"
     ]
    },
    {
     "name": "stdout",
     "output_type": "stream",
     "text": [
      "Epoch 14/500 | train loss: 1522.584473 | val loss: 1515.630127\n",
      "EarlyStopping counter: 1 out of 20\n"
     ]
    },
    {
     "name": "stderr",
     "output_type": "stream",
     "text": [
      "100%|██████████| 70/70 [00:03<00:00, 18.33it/s]\n"
     ]
    },
    {
     "name": "stdout",
     "output_type": "stream",
     "text": [
      "Epoch 15/500 | train loss: 1601.516357 | val loss: 1513.964600\n",
      "EarlyStopping counter: 2 out of 20\n"
     ]
    },
    {
     "name": "stderr",
     "output_type": "stream",
     "text": [
      "100%|██████████| 70/70 [00:03<00:00, 18.32it/s]\n"
     ]
    },
    {
     "name": "stdout",
     "output_type": "stream",
     "text": [
      "Epoch 16/500 | train loss: 1465.806763 | val loss: 1513.866943\n",
      "EarlyStopping counter: 3 out of 20\n"
     ]
    },
    {
     "name": "stderr",
     "output_type": "stream",
     "text": [
      "100%|██████████| 70/70 [00:03<00:00, 18.34it/s]\n"
     ]
    },
    {
     "name": "stdout",
     "output_type": "stream",
     "text": [
      "Epoch 17/500 | train loss: 1624.502808 | val loss: 1509.793945\n",
      "Score improved (1512.905762 --> 1509.793945).\n"
     ]
    },
    {
     "name": "stderr",
     "output_type": "stream",
     "text": [
      "100%|██████████| 70/70 [00:03<00:00, 18.33it/s]\n"
     ]
    },
    {
     "name": "stdout",
     "output_type": "stream",
     "text": [
      "Epoch 18/500 | train loss: 1506.364014 | val loss: 1512.497925\n",
      "EarlyStopping counter: 1 out of 20\n"
     ]
    },
    {
     "name": "stderr",
     "output_type": "stream",
     "text": [
      "100%|██████████| 70/70 [00:03<00:00, 18.33it/s]\n"
     ]
    },
    {
     "name": "stdout",
     "output_type": "stream",
     "text": [
      "Epoch 19/500 | train loss: 1522.669434 | val loss: 1511.957642\n",
      "EarlyStopping counter: 2 out of 20\n"
     ]
    },
    {
     "name": "stderr",
     "output_type": "stream",
     "text": [
      "100%|██████████| 70/70 [00:03<00:00, 18.33it/s]\n"
     ]
    },
    {
     "name": "stdout",
     "output_type": "stream",
     "text": [
      "Epoch 20/500 | train loss: 1498.775269 | val loss: 1511.779297\n",
      "EarlyStopping counter: 3 out of 20\n"
     ]
    },
    {
     "name": "stderr",
     "output_type": "stream",
     "text": [
      "100%|██████████| 70/70 [00:03<00:00, 18.43it/s]\n"
     ]
    },
    {
     "name": "stdout",
     "output_type": "stream",
     "text": [
      "Epoch 21/500 | train loss: 1446.147705 | val loss: 1511.741211\n",
      "EarlyStopping counter: 4 out of 20\n"
     ]
    },
    {
     "name": "stderr",
     "output_type": "stream",
     "text": [
      "100%|██████████| 70/70 [00:03<00:00, 18.51it/s]\n"
     ]
    },
    {
     "name": "stdout",
     "output_type": "stream",
     "text": [
      "Epoch 22/500 | train loss: 1523.012207 | val loss: 1513.835693\n",
      "EarlyStopping counter: 5 out of 20\n"
     ]
    },
    {
     "name": "stderr",
     "output_type": "stream",
     "text": [
      "100%|██████████| 70/70 [00:03<00:00, 18.44it/s]\n"
     ]
    },
    {
     "name": "stdout",
     "output_type": "stream",
     "text": [
      "Epoch 23/500 | train loss: 1472.285645 | val loss: 1512.077148\n",
      "EarlyStopping counter: 6 out of 20\n"
     ]
    },
    {
     "name": "stderr",
     "output_type": "stream",
     "text": [
      "100%|██████████| 70/70 [00:03<00:00, 18.41it/s]\n"
     ]
    },
    {
     "name": "stdout",
     "output_type": "stream",
     "text": [
      "Epoch 24/500 | train loss: 1511.052246 | val loss: 1514.887451\n",
      "EarlyStopping counter: 7 out of 20\n"
     ]
    },
    {
     "name": "stderr",
     "output_type": "stream",
     "text": [
      "100%|██████████| 70/70 [00:03<00:00, 18.45it/s]\n"
     ]
    },
    {
     "name": "stdout",
     "output_type": "stream",
     "text": [
      "Epoch 25/500 | train loss: 1452.242310 | val loss: 1516.466919\n",
      "EarlyStopping counter: 8 out of 20\n"
     ]
    },
    {
     "name": "stderr",
     "output_type": "stream",
     "text": [
      "100%|██████████| 70/70 [00:03<00:00, 18.44it/s]\n"
     ]
    },
    {
     "name": "stdout",
     "output_type": "stream",
     "text": [
      "Epoch 26/500 | train loss: 1475.919067 | val loss: 1514.424927\n",
      "EarlyStopping counter: 9 out of 20\n"
     ]
    },
    {
     "name": "stderr",
     "output_type": "stream",
     "text": [
      "100%|██████████| 70/70 [00:03<00:00, 18.44it/s]\n"
     ]
    },
    {
     "name": "stdout",
     "output_type": "stream",
     "text": [
      "Epoch 27/500 | train loss: 1448.467163 | val loss: 1513.122559\n",
      "EarlyStopping counter: 10 out of 20\n"
     ]
    },
    {
     "name": "stderr",
     "output_type": "stream",
     "text": [
      "100%|██████████| 70/70 [00:03<00:00, 18.44it/s]\n"
     ]
    },
    {
     "name": "stdout",
     "output_type": "stream",
     "text": [
      "Epoch 28/500 | train loss: 1452.155396 | val loss: 1515.925781\n",
      "EarlyStopping counter: 11 out of 20\n",
      "Epoch    28: reducing learning rate of group 0 to 1.5000e-03.\n",
      "Retrieve best model..\n",
      "Applying changes..\n"
     ]
    },
    {
     "name": "stderr",
     "output_type": "stream",
     "text": [
      "100%|██████████| 70/70 [00:03<00:00, 17.96it/s]\n"
     ]
    },
    {
     "name": "stdout",
     "output_type": "stream",
     "text": [
      "Epoch 29/500 | train loss: 1588.315674 | val loss: 1496.216431\n",
      "Score improved (1509.793945 --> 1496.216431).\n",
      "Retrieve best model..\n"
     ]
    },
    {
     "name": "stderr",
     "output_type": "stream",
     "text": [
      "100%|██████████| 70/70 [00:03<00:00, 17.96it/s]\n"
     ]
    },
    {
     "name": "stdout",
     "output_type": "stream",
     "text": [
      "Epoch 30/500 | train loss: 1471.789185 | val loss: 1497.103516\n",
      "EarlyStopping counter: 1 out of 20\n"
     ]
    },
    {
     "name": "stderr",
     "output_type": "stream",
     "text": [
      "100%|██████████| 70/70 [00:03<00:00, 17.97it/s]\n"
     ]
    },
    {
     "name": "stdout",
     "output_type": "stream",
     "text": [
      "Epoch 31/500 | train loss: 1473.758545 | val loss: 1495.754639\n",
      "Score improved (1496.216431 --> 1495.754639).\n"
     ]
    },
    {
     "name": "stderr",
     "output_type": "stream",
     "text": [
      "100%|██████████| 70/70 [00:03<00:00, 17.96it/s]\n"
     ]
    },
    {
     "name": "stdout",
     "output_type": "stream",
     "text": [
      "Epoch 32/500 | train loss: 1453.576904 | val loss: 1499.719482\n",
      "EarlyStopping counter: 1 out of 20\n"
     ]
    },
    {
     "name": "stderr",
     "output_type": "stream",
     "text": [
      "100%|██████████| 70/70 [00:03<00:00, 17.95it/s]\n"
     ]
    },
    {
     "name": "stdout",
     "output_type": "stream",
     "text": [
      "Epoch 33/500 | train loss: 1415.958008 | val loss: 1498.097656\n",
      "EarlyStopping counter: 2 out of 20\n"
     ]
    },
    {
     "name": "stderr",
     "output_type": "stream",
     "text": [
      "100%|██████████| 70/70 [00:03<00:00, 17.97it/s]\n"
     ]
    },
    {
     "name": "stdout",
     "output_type": "stream",
     "text": [
      "Epoch 34/500 | train loss: 1404.795044 | val loss: 1499.567017\n",
      "EarlyStopping counter: 3 out of 20\n"
     ]
    },
    {
     "name": "stderr",
     "output_type": "stream",
     "text": [
      "100%|██████████| 70/70 [00:03<00:00, 17.95it/s]\n"
     ]
    },
    {
     "name": "stdout",
     "output_type": "stream",
     "text": [
      "Epoch 35/500 | train loss: 1512.367676 | val loss: 1502.127686\n",
      "EarlyStopping counter: 4 out of 20\n"
     ]
    },
    {
     "name": "stderr",
     "output_type": "stream",
     "text": [
      "100%|██████████| 70/70 [00:03<00:00, 17.95it/s]\n"
     ]
    },
    {
     "name": "stdout",
     "output_type": "stream",
     "text": [
      "Epoch 36/500 | train loss: 1452.922241 | val loss: 1495.197754\n",
      "Score improved (1495.754639 --> 1495.197754).\n"
     ]
    },
    {
     "name": "stderr",
     "output_type": "stream",
     "text": [
      "100%|██████████| 70/70 [00:03<00:00, 17.97it/s]\n"
     ]
    },
    {
     "name": "stdout",
     "output_type": "stream",
     "text": [
      "Epoch 37/500 | train loss: 1481.842407 | val loss: 1495.263794\n",
      "EarlyStopping counter: 1 out of 20\n"
     ]
    },
    {
     "name": "stderr",
     "output_type": "stream",
     "text": [
      "100%|██████████| 70/70 [00:03<00:00, 17.95it/s]\n"
     ]
    },
    {
     "name": "stdout",
     "output_type": "stream",
     "text": [
      "Epoch 38/500 | train loss: 1570.561279 | val loss: 1496.013062\n",
      "EarlyStopping counter: 2 out of 20\n"
     ]
    },
    {
     "name": "stderr",
     "output_type": "stream",
     "text": [
      "100%|██████████| 70/70 [00:03<00:00, 17.96it/s]\n"
     ]
    },
    {
     "name": "stdout",
     "output_type": "stream",
     "text": [
      "Epoch 39/500 | train loss: 1467.479736 | val loss: 1495.216064\n",
      "EarlyStopping counter: 3 out of 20\n"
     ]
    },
    {
     "name": "stderr",
     "output_type": "stream",
     "text": [
      "100%|██████████| 70/70 [00:03<00:00, 17.96it/s]\n"
     ]
    },
    {
     "name": "stdout",
     "output_type": "stream",
     "text": [
      "Epoch 40/500 | train loss: 1514.534058 | val loss: 1500.403809\n",
      "EarlyStopping counter: 4 out of 20\n"
     ]
    },
    {
     "name": "stderr",
     "output_type": "stream",
     "text": [
      "100%|██████████| 70/70 [00:03<00:00, 17.96it/s]\n"
     ]
    },
    {
     "name": "stdout",
     "output_type": "stream",
     "text": [
      "Epoch 41/500 | train loss: 1527.433228 | val loss: 1497.556396\n",
      "EarlyStopping counter: 5 out of 20\n"
     ]
    },
    {
     "name": "stderr",
     "output_type": "stream",
     "text": [
      "100%|██████████| 70/70 [00:03<00:00, 17.95it/s]\n"
     ]
    },
    {
     "name": "stdout",
     "output_type": "stream",
     "text": [
      "Epoch 42/500 | train loss: 1483.213501 | val loss: 1499.899658\n",
      "EarlyStopping counter: 6 out of 20\n"
     ]
    },
    {
     "name": "stderr",
     "output_type": "stream",
     "text": [
      "100%|██████████| 70/70 [00:03<00:00, 17.95it/s]\n"
     ]
    },
    {
     "name": "stdout",
     "output_type": "stream",
     "text": [
      "Epoch 43/500 | train loss: 1438.869751 | val loss: 1495.662109\n",
      "EarlyStopping counter: 7 out of 20\n"
     ]
    },
    {
     "name": "stderr",
     "output_type": "stream",
     "text": [
      "100%|██████████| 70/70 [00:03<00:00, 17.94it/s]\n"
     ]
    },
    {
     "name": "stdout",
     "output_type": "stream",
     "text": [
      "Epoch 44/500 | train loss: 1506.579956 | val loss: 1498.632202\n",
      "EarlyStopping counter: 8 out of 20\n"
     ]
    },
    {
     "name": "stderr",
     "output_type": "stream",
     "text": [
      "100%|██████████| 70/70 [00:03<00:00, 17.95it/s]\n"
     ]
    },
    {
     "name": "stdout",
     "output_type": "stream",
     "text": [
      "Epoch 45/500 | train loss: 1484.102295 | val loss: 1496.745605\n",
      "EarlyStopping counter: 9 out of 20\n"
     ]
    },
    {
     "name": "stderr",
     "output_type": "stream",
     "text": [
      "100%|██████████| 70/70 [00:03<00:00, 17.96it/s]\n"
     ]
    },
    {
     "name": "stdout",
     "output_type": "stream",
     "text": [
      "Epoch 46/500 | train loss: 1438.659424 | val loss: 1502.982910\n",
      "EarlyStopping counter: 10 out of 20\n"
     ]
    },
    {
     "name": "stderr",
     "output_type": "stream",
     "text": [
      "100%|██████████| 70/70 [00:03<00:00, 17.95it/s]\n"
     ]
    },
    {
     "name": "stdout",
     "output_type": "stream",
     "text": [
      "Epoch 47/500 | train loss: 1431.354736 | val loss: 1497.326904\n",
      "EarlyStopping counter: 11 out of 20\n",
      "Epoch    47: reducing learning rate of group 0 to 1.5000e-03.\n",
      "Retrieve best model..\n"
     ]
    },
    {
     "name": "stderr",
     "output_type": "stream",
     "text": [
      "100%|██████████| 70/70 [00:03<00:00, 17.95it/s]\n"
     ]
    },
    {
     "name": "stdout",
     "output_type": "stream",
     "text": [
      "Epoch 48/500 | train loss: 1497.407593 | val loss: 1494.782227\n",
      "Score improved (1495.197754 --> 1494.782227).\n"
     ]
    },
    {
     "name": "stderr",
     "output_type": "stream",
     "text": [
      "100%|██████████| 70/70 [00:03<00:00, 17.95it/s]\n"
     ]
    },
    {
     "name": "stdout",
     "output_type": "stream",
     "text": [
      "Epoch 49/500 | train loss: 1464.401001 | val loss: 1495.655273\n",
      "EarlyStopping counter: 1 out of 20\n"
     ]
    },
    {
     "name": "stderr",
     "output_type": "stream",
     "text": [
      "100%|██████████| 70/70 [00:03<00:00, 17.95it/s]\n"
     ]
    },
    {
     "name": "stdout",
     "output_type": "stream",
     "text": [
      "Epoch 50/500 | train loss: 1426.637451 | val loss: 1496.236694\n",
      "EarlyStopping counter: 2 out of 20\n"
     ]
    },
    {
     "name": "stderr",
     "output_type": "stream",
     "text": [
      "100%|██████████| 70/70 [00:03<00:00, 17.96it/s]\n"
     ]
    },
    {
     "name": "stdout",
     "output_type": "stream",
     "text": [
      "Epoch 51/500 | train loss: 1476.326172 | val loss: 1495.030762\n",
      "EarlyStopping counter: 3 out of 20\n"
     ]
    },
    {
     "name": "stderr",
     "output_type": "stream",
     "text": [
      "100%|██████████| 70/70 [00:03<00:00, 17.96it/s]\n"
     ]
    },
    {
     "name": "stdout",
     "output_type": "stream",
     "text": [
      "Epoch 52/500 | train loss: 1425.796753 | val loss: 1496.602051\n",
      "EarlyStopping counter: 4 out of 20\n"
     ]
    },
    {
     "name": "stderr",
     "output_type": "stream",
     "text": [
      "100%|██████████| 70/70 [00:03<00:00, 17.93it/s]\n"
     ]
    },
    {
     "name": "stdout",
     "output_type": "stream",
     "text": [
      "Epoch 53/500 | train loss: 1420.215820 | val loss: 1495.995361\n",
      "EarlyStopping counter: 5 out of 20\n"
     ]
    },
    {
     "name": "stderr",
     "output_type": "stream",
     "text": [
      "100%|██████████| 70/70 [00:03<00:00, 17.96it/s]\n"
     ]
    },
    {
     "name": "stdout",
     "output_type": "stream",
     "text": [
      "Epoch 54/500 | train loss: 1413.699341 | val loss: 1496.689453\n",
      "EarlyStopping counter: 6 out of 20\n"
     ]
    },
    {
     "name": "stderr",
     "output_type": "stream",
     "text": [
      "100%|██████████| 70/70 [00:03<00:00, 18.02it/s]\n"
     ]
    },
    {
     "name": "stdout",
     "output_type": "stream",
     "text": [
      "Epoch 55/500 | train loss: 1424.035034 | val loss: 1496.007812\n",
      "EarlyStopping counter: 7 out of 20\n"
     ]
    },
    {
     "name": "stderr",
     "output_type": "stream",
     "text": [
      "100%|██████████| 70/70 [00:03<00:00, 18.03it/s]\n"
     ]
    },
    {
     "name": "stdout",
     "output_type": "stream",
     "text": [
      "Epoch 56/500 | train loss: 1506.249634 | val loss: 1497.209961\n",
      "EarlyStopping counter: 8 out of 20\n"
     ]
    },
    {
     "name": "stderr",
     "output_type": "stream",
     "text": [
      "100%|██████████| 70/70 [00:03<00:00, 18.02it/s]\n"
     ]
    },
    {
     "name": "stdout",
     "output_type": "stream",
     "text": [
      "Epoch 57/500 | train loss: 1446.493042 | val loss: 1495.572632\n",
      "EarlyStopping counter: 9 out of 20\n"
     ]
    },
    {
     "name": "stderr",
     "output_type": "stream",
     "text": [
      "100%|██████████| 70/70 [00:03<00:00, 18.02it/s]\n"
     ]
    },
    {
     "name": "stdout",
     "output_type": "stream",
     "text": [
      "Epoch 58/500 | train loss: 1422.202148 | val loss: 1496.139893\n",
      "EarlyStopping counter: 10 out of 20\n"
     ]
    },
    {
     "name": "stderr",
     "output_type": "stream",
     "text": [
      "100%|██████████| 70/70 [00:03<00:00, 18.01it/s]\n"
     ]
    },
    {
     "name": "stdout",
     "output_type": "stream",
     "text": [
      "Epoch 59/500 | train loss: 1342.945679 | val loss: 1495.735962\n",
      "EarlyStopping counter: 11 out of 20\n",
      "Epoch    59: reducing learning rate of group 0 to 4.5000e-04.\n",
      "Retrieve best model..\n"
     ]
    },
    {
     "name": "stderr",
     "output_type": "stream",
     "text": [
      "100%|██████████| 70/70 [00:03<00:00, 18.01it/s]\n"
     ]
    },
    {
     "name": "stdout",
     "output_type": "stream",
     "text": [
      "Epoch 60/500 | train loss: 1401.354126 | val loss: 1494.918213\n",
      "EarlyStopping counter: 12 out of 20\n"
     ]
    },
    {
     "name": "stderr",
     "output_type": "stream",
     "text": [
      "100%|██████████| 70/70 [00:03<00:00, 18.01it/s]\n"
     ]
    },
    {
     "name": "stdout",
     "output_type": "stream",
     "text": [
      "Epoch 61/500 | train loss: 1552.863403 | val loss: 1495.424316\n",
      "EarlyStopping counter: 13 out of 20\n"
     ]
    },
    {
     "name": "stderr",
     "output_type": "stream",
     "text": [
      "100%|██████████| 70/70 [00:03<00:00, 18.01it/s]\n"
     ]
    },
    {
     "name": "stdout",
     "output_type": "stream",
     "text": [
      "Epoch 62/500 | train loss: 1451.061768 | val loss: 1495.293213\n",
      "EarlyStopping counter: 14 out of 20\n"
     ]
    },
    {
     "name": "stderr",
     "output_type": "stream",
     "text": [
      "100%|██████████| 70/70 [00:03<00:00, 18.02it/s]\n"
     ]
    },
    {
     "name": "stdout",
     "output_type": "stream",
     "text": [
      "Epoch 63/500 | train loss: 1431.560669 | val loss: 1495.454468\n",
      "EarlyStopping counter: 15 out of 20\n"
     ]
    },
    {
     "name": "stderr",
     "output_type": "stream",
     "text": [
      "100%|██████████| 70/70 [00:03<00:00, 18.01it/s]\n"
     ]
    },
    {
     "name": "stdout",
     "output_type": "stream",
     "text": [
      "Epoch 64/500 | train loss: 1497.408447 | val loss: 1495.887451\n",
      "EarlyStopping counter: 16 out of 20\n"
     ]
    },
    {
     "name": "stderr",
     "output_type": "stream",
     "text": [
      "100%|██████████| 70/70 [00:03<00:00, 18.02it/s]\n"
     ]
    },
    {
     "name": "stdout",
     "output_type": "stream",
     "text": [
      "Epoch 65/500 | train loss: 1528.814941 | val loss: 1495.585449\n",
      "EarlyStopping counter: 17 out of 20\n"
     ]
    },
    {
     "name": "stderr",
     "output_type": "stream",
     "text": [
      "100%|██████████| 70/70 [00:03<00:00, 18.02it/s]\n"
     ]
    },
    {
     "name": "stdout",
     "output_type": "stream",
     "text": [
      "Epoch 66/500 | train loss: 1364.037109 | val loss: 1495.923706\n",
      "EarlyStopping counter: 18 out of 20\n"
     ]
    },
    {
     "name": "stderr",
     "output_type": "stream",
     "text": [
      "100%|██████████| 70/70 [00:03<00:00, 18.01it/s]\n"
     ]
    },
    {
     "name": "stdout",
     "output_type": "stream",
     "text": [
      "Epoch 67/500 | train loss: 1373.989624 | val loss: 1496.267578\n",
      "EarlyStopping counter: 19 out of 20\n"
     ]
    },
    {
     "name": "stderr",
     "output_type": "stream",
     "text": [
      "100%|██████████| 70/70 [00:03<00:00, 18.02it/s]\n"
     ]
    },
    {
     "name": "stdout",
     "output_type": "stream",
     "text": [
      "Epoch 68/500 | train loss: 1334.268188 | val loss: 1495.746460\n",
      "EarlyStopping counter: 20 out of 20\n",
      "Early stopping at epoch 67. Best val loss: 1494.782\n",
      "Retrieve best model..\n"
     ]
    }
   ],
   "source": [
    "trainer_config = {\n",
    "    \"epochs\": 500,\n",
    "    \"device\": \"cuda\",\n",
    "    \"lr\": 0.005,\n",
    "    \"use_avg_loss\": True\n",
    "}\n",
    "out = None\n",
    "## The following line would train the model (upon availability of the dataset)\n",
    "out = base_trainer(model, dataloaders, random_seed, **trainer_config)"
   ]
  },
  {
   "cell_type": "code",
   "execution_count": 11,
   "metadata": {
    "ExecuteTime": {
     "end_time": "2023-09-11T09:43:42.468148900Z",
     "start_time": "2023-09-11T09:43:41.225424100Z"
    },
    "collapsed": false
   },
   "outputs": [
    {
     "data": {
      "image/png": "[encoded data removed]",
      "text/plain": [
       "<Figure size 3600x720 with 5 Axes>"
      ]
     },
     "metadata": {},
     "output_type": "display_data"
    }
   ],
   "source": [
    "if out is not None:\n",
    "    fig, ax = plt.subplots(1,5,figsize=(50,10))\n",
    "    ax[0].plot((np.arange(len(out[1][0]))+1), out[1][0], label=\"train\")\n",
    "    ax[0].plot((np.arange(len(out[1][0]))+1), out[1][1], label=\"val\")\n",
    "    ax[1].plot((np.arange(len(out[1][0]))+1), out[1][0], label=\"train\")\n",
    "    ax[2].plot((np.arange(len(out[1][0]))+1), out[1][1], label=\"val\")\n",
    "    ax[3].plot((np.arange(len(out[1][0]))+1)[40:], out[1][0][40:], label=\"train\")\n",
    "    ax[4].plot((np.arange(len(out[1][0]))+1)[40:], out[1][1][40:], label=\"val\")\n",
    "    ax[0].legend()\n",
    "    ax[1].legend()\n",
    "    ax[2].legend()\n",
    "    ax[3].legend()\n",
    "    ax[4].legend()\n",
    "    plt.show()"
   ]
  },
  {
   "cell_type": "code",
   "execution_count": 12,
   "metadata": {
    "ExecuteTime": {
     "end_time": "2023-09-11T09:43:42.472149700Z",
     "start_time": "2023-09-11T09:43:42.471148900Z"
    },
    "collapsed": false
   },
   "outputs": [],
   "source": [
    "#model.load_state_dict(torch.load(\"edited_data_only_ident\"))\n",
    "#model.eval()"
   ]
  },
  {
   "cell_type": "code",
   "execution_count": 13,
   "metadata": {
    "ExecuteTime": {
     "end_time": "2023-09-11T09:43:42.489149500Z",
     "start_time": "2023-09-11T09:43:42.471148900Z"
    }
   },
   "outputs": [],
   "source": [
    "#torch.save(model.state_dict(), \"edited_data_only_ident\")"
   ]
  },
  {
   "cell_type": "code",
   "execution_count": 14,
   "metadata": {
    "ExecuteTime": {
     "end_time": "2023-09-11T09:43:42.528149400Z",
     "start_time": "2023-09-11T09:43:42.479151200Z"
    },
    "collapsed": false
   },
   "outputs": [
    {
     "name": "stdout",
     "output_type": "stream",
     "text": [
      "FlowFA(\n",
      "  (encoding_model): Encoder(\n",
      "    (core): SE2dCore(\n",
      "      (_input_weights_regularizer): LaplaceL2norm(\n",
      "        (laplace): Laplace()\n",
      "      )\n",
      "      (features): Sequential(\n",
      "        (layer0): Sequential(\n",
      "          (conv): Conv2d(1, 64, kernel_size=(15, 15), stride=(1, 1), bias=False)\n",
      "          (norm): BatchNorm2d(64, eps=1e-05, momentum=0.9, affine=True, track_running_stats=True)\n",
      "          (nonlin): ELU(alpha=1.0, inplace=True)\n",
      "        )\n",
      "        (layer1): Sequential(\n",
      "          (ds_conv): DepthSeparableConv2d(\n",
      "            (in_depth_conv): Conv2d(64, 64, kernel_size=(1, 1), stride=(1, 1), bias=False)\n",
      "            (spatial_conv): Conv2d(64, 64, kernel_size=(13, 13), stride=(1, 1), padding=(6, 6), groups=64, bias=False)\n",
      "            (out_depth_conv): Conv2d(64, 64, kernel_size=(1, 1), stride=(1, 1), bias=False)\n",
      "          )\n",
      "          (norm): BatchNorm2d(64, eps=1e-05, momentum=0.9, affine=True, track_running_stats=True)\n",
      "          (nonlin): ELU(alpha=1.0, inplace=True)\n",
      "        )\n",
      "        (layer2): Sequential(\n",
      "          (ds_conv): DepthSeparableConv2d(\n",
      "            (in_depth_conv): Conv2d(64, 64, kernel_size=(1, 1), stride=(1, 1), bias=False)\n",
      "            (spatial_conv): Conv2d(64, 64, kernel_size=(13, 13), stride=(1, 1), padding=(6, 6), groups=64, bias=False)\n",
      "            (out_depth_conv): Conv2d(64, 64, kernel_size=(1, 1), stride=(1, 1), bias=False)\n",
      "          )\n",
      "          (norm): BatchNorm2d(64, eps=1e-05, momentum=0.9, affine=True, track_running_stats=True)\n",
      "          (nonlin): ELU(alpha=1.0, inplace=True)\n",
      "        )\n",
      "        (layer3): Sequential(\n",
      "          (ds_conv): DepthSeparableConv2d(\n",
      "            (in_depth_conv): Conv2d(64, 64, kernel_size=(1, 1), stride=(1, 1), bias=False)\n",
      "            (spatial_conv): Conv2d(64, 64, kernel_size=(13, 13), stride=(1, 1), padding=(6, 6), groups=64, bias=False)\n",
      "            (out_depth_conv): Conv2d(64, 64, kernel_size=(1, 1), stride=(1, 1), bias=False)\n",
      "          )\n",
      "          (norm): BatchNorm2d(64, eps=1e-05, momentum=0.9, affine=True, track_running_stats=True)\n",
      "          (nonlin): ELU(alpha=1.0, inplace=True)\n",
      "        )\n",
      "      )\n",
      "    ) [SE2dCore regularizers: gamma_input = 1|skip = 0]\n",
      "    \n",
      "    (readout): MultipleFullGaussian2d(\n",
      "      (0): full FullGaussian2d (64 x 22 x 50 -> 1000) with bias, with predicted grid  -> Sequential(\n",
      "        (0): Linear(in_features=2, out_features=20, bias=True)\n",
      "        (1): ReLU()\n",
      "        (2): Linear(in_features=20, out_features=20, bias=True)\n",
      "        (3): ReLU()\n",
      "        (4): Linear(in_features=20, out_features=20, bias=True)\n",
      "        (5): ReLU()\n",
      "        (6): Linear(in_features=20, out_features=20, bias=True)\n",
      "        (7): ReLU()\n",
      "        (8): Linear(in_features=20, out_features=2, bias=True)\n",
      "        (9): Tanh()\n",
      "      )\n",
      "      \n",
      "    )\n",
      "  )\n",
      "  (sample_transform): Flow(\n",
      "    (layers): ModuleList(\n",
      "      (0): Affine(\n",
      "        init_t=Parameter containing:\n",
      "        tensor([[0.6593, 0.6687, 0.3416, 0.2740, 0.6663, 0.2786, 0.3971, 0.4695, 0.3812,\n",
      "                 0.4928, 0.5170, 0.5607, 0.4262, 0.5323, 0.6089, 0.7786, 0.5074, 0.4457,\n",
      "                 0.5439, 0.5973, 0.5698, 0.4184, 0.4100, 0.6540, 0.7249, 0.3510, 0.3031,\n",
      "                 0.3094, 0.3568, 0.6230, 0.3360, 0.3226, 0.3800, 0.3716, 0.6517, 0.6308,\n",
      "                 0.4134, 0.4476, 0.4716, 0.5021, 0.2571, 0.7210, 0.7186, 0.4028, 0.5459,\n",
      "                 0.5865, 0.3223, 0.3129, 0.5425, 0.7175, 0.8851, 0.4343, 0.3440, 0.3908,\n",
      "                 0.3772, 0.3690, 0.4975, 0.3505, 0.5620, 0.5076, 0.3689, 0.5303, 0.3225,\n",
      "                 0.4965, 0.8246, 0.6723, 0.7179, 0.4138, 0.5376, 0.4499, 0.4644, 0.2977,\n",
      "                 0.5734, 0.3507, 0.4603, 0.7779, 0.5768, 0.3094, 0.7382, 0.6999, 0.5125,\n",
      "                 0.2945, 0.7017, 0.4888, 0.2513, 0.3598, 0.8336, 0.3594, 0.5702, 0.4960,\n",
      "                 0.2837, 0.5690, 0.6286, 0.2423, 0.8390, 0.3784, 0.4599, 0.6103, 0.4435,\n",
      "                 0.6881, 0.6952, 0.8107, 0.8432, 0.5289, 0.3671, 0.3894, 0.3400, 0.4962,\n",
      "                 0.3813, 0.2693, 0.3892, 0.6571, 0.9008, 0.7796, 0.5200, 0.4668, 0.7108,\n",
      "                 0.3391, 0.4318, 0.5050, 0.4954, 0.5152, 0.6780, 0.3117, 0.5265, 0.7230,\n",
      "                 0.4721, 0.2821, 0.2430, 0.7457, 0.5744, 0.5214, 0.8304, 0.3327, 0.2762,\n",
      "                 0.6127, 0.6243, 0.6139, 0.2968, 0.3019, 0.3382, 0.6643, 0.7070, 0.8123,\n",
      "                 0.4947, 0.4372, 0.6038, 0.2796, 0.2696, 0.8194, 0.4164, 0.5722, 0.8657,\n",
      "                 0.2311, 0.2919, 0.8910, 0.2564, 0.6061, 0.2397, 0.5190, 0.3462, 0.4006,\n",
      "                 0.3613, 0.2507, 0.5000, 0.4856, 0.4811, 0.5640, 0.7036, 0.2249, 0.2352,\n",
      "                 0.5454, 0.7726, 0.4865, 0.5575, 0.6795, 0.4448, 0.4408, 0.7014, 0.2801,\n",
      "                 0.3216, 0.2540, 0.5961, 0.7237, 0.4600, 0.4847, 0.8823, 0.4279, 0.8239,\n",
      "                 0.4778, 0.5555, 0.5944, 0.3823, 0.2929, 0.5044, 0.2415, 0.8900, 0.3249,\n",
      "                 0.2900, 0.5115, 0.8481, 0.4978, 0.6358, 0.4875, 0.4151, 0.4338, 0.4129,\n",
      "                 0.3141, 0.5995, 0.3856, 0.3735, 0.5419, 0.3272, 0.7469, 0.7116, 0.4305,\n",
      "                 0.5292, 0.4825, 0.4414, 0.4348, 0.5414, 0.3428, 0.8040, 0.2740, 0.3861,\n",
      "                 0.7528, 0.7171, 0.8128, 0.7973, 0.6578, 0.5446, 0.6202, 0.4083, 0.5096,\n",
      "                 0.4612, 0.5503, 0.4053, 0.5546, 0.3734, 0.5533, 0.4960, 0.3248, 0.5541,\n",
      "                 0.6068, 0.5998, 0.4705, 0.5762, 0.6897, 0.6453, 0.4456, 0.7695, 0.3787,\n",
      "                 0.3194, 0.5691, 0.5674, 0.3094, 0.4651, 0.4586, 0.4059, 0.3384, 0.4297,\n",
      "                 0.3311, 0.2659, 0.6365, 0.6662, 0.3024, 0.5701, 0.5604, 0.7460, 0.5855,\n",
      "                 0.5096, 0.6326, 0.4892, 0.3961, 0.8742, 0.4204, 0.2615, 0.6348, 0.7766,\n",
      "                 0.5132, 0.8343, 0.7014, 0.3612, 0.8774, 0.5486, 0.4770, 0.3358, 0.3702,\n",
      "                 0.5987, 0.6173, 0.6817, 0.6790, 0.7289, 0.6597, 0.2384, 0.5324, 0.7289,\n",
      "                 0.6511, 0.2943, 0.4367, 0.7934, 0.6279, 0.5034, 0.4921, 0.6264, 0.2395,\n",
      "                 0.6257, 0.4543, 0.5114, 0.7917, 0.5346, 0.3681, 0.3969, 0.4465, 0.6717,\n",
      "                 0.6652, 0.6140, 0.7275, 0.7601, 0.8634, 0.5178, 0.3722, 0.4663, 0.6607,\n",
      "                 0.5884, 0.4269, 0.8203, 0.2794, 0.4415, 0.3626, 0.7339, 0.7666, 0.3149,\n",
      "                 0.3090, 0.6075, 0.6855, 0.7244, 0.5956, 0.3558, 0.7428, 0.4338, 0.4153,\n",
      "                 0.5244, 0.2631, 0.5847, 0.5301, 0.4688, 0.5055, 0.4936, 0.6685, 0.5483,\n",
      "                 0.2888, 0.3855, 0.6951, 0.4110, 0.6531, 0.5858, 0.6644, 0.4347, 0.5679,\n",
      "                 0.5285, 0.4552, 0.7782, 0.5872, 0.5355, 0.3213, 0.2747, 0.7206, 0.2981,\n",
      "                 0.2657, 0.6141, 0.2893, 0.7240, 0.7042, 0.4226, 0.5023, 0.5168, 0.2046,\n",
      "                 0.4376, 0.4202, 0.5131, 0.4224, 0.8744, 0.4530, 0.4086, 0.7671, 0.4866,\n",
      "                 0.3211, 0.7724, 0.4556, 0.5241, 0.4530, 0.3566, 0.5921, 0.3885, 0.3491,\n",
      "                 0.7294, 0.6345, 0.7902, 0.4066, 0.5297, 0.7573, 0.3329, 0.3820, 0.5804,\n",
      "                 0.3615, 0.6997, 0.4087, 0.4040, 0.3427, 0.6057, 0.3105, 0.4935, 0.5812,\n",
      "                 0.8795, 0.3525, 0.5795, 0.3917, 0.4790, 0.3748, 0.5632, 0.7013, 0.3648,\n",
      "                 0.3159, 0.3525, 0.2218, 0.2186, 0.4853, 0.5480, 0.7322, 0.3976, 0.6604,\n",
      "                 0.5343, 0.4500, 0.7634, 0.8314, 0.4797, 0.5438, 0.6992, 0.4303, 0.7262,\n",
      "                 0.5527, 0.3751, 0.3516, 0.4001, 0.4243, 0.3328, 0.4203, 0.6159, 0.5969,\n",
      "                 0.6506, 0.6285, 0.7943, 0.6631, 0.5920, 0.3858, 0.7372, 0.7202, 0.6347,\n",
      "                 0.5124, 0.5822, 0.5024, 0.5284, 0.5906, 0.5230, 0.5209, 0.2404, 0.8042,\n",
      "                 0.8474, 0.6752, 0.4430, 0.2745, 0.5284, 0.5327, 0.7393, 0.5473, 0.3896,\n",
      "                 0.4132, 0.3438, 0.2735, 0.3918, 0.7884, 0.5489, 0.8893, 0.5537, 0.2714,\n",
      "                 0.7693, 0.8387, 0.8716, 0.3001, 0.2780, 0.4676, 0.3934, 0.5865, 0.5926,\n",
      "                 0.7911, 0.6501, 0.2916, 0.4456, 0.3052, 0.3190, 0.8250, 0.3176, 0.3963,\n",
      "                 0.3746, 0.8366, 0.4977, 0.2872, 0.4726, 0.6980, 0.7666, 0.4187, 0.7020,\n",
      "                 0.7278, 0.6718, 0.5910, 0.4735, 0.5260, 0.4744, 0.5128, 0.3531, 0.8875,\n",
      "                 0.7245, 0.5451, 0.4264, 0.5410, 0.5714, 0.4607, 0.2676, 0.8055, 0.5183,\n",
      "                 0.5134, 0.4765, 0.5323, 0.6510, 0.6366, 0.6620, 0.7526, 0.7961, 0.7327,\n",
      "                 0.6304, 0.7693, 0.5106, 0.4725, 0.4975, 0.8572, 0.6657, 0.4261, 0.3345,\n",
      "                 0.5366, 0.2789, 0.8976, 0.5490, 0.1954, 0.4875, 0.2606, 0.5104, 0.7173,\n",
      "                 0.8124, 0.6846, 0.7797, 0.6570, 0.5146, 0.4597, 0.4164, 0.6438, 0.6094,\n",
      "                 0.6288, 0.5705, 0.8611, 0.3813, 0.2769, 0.6973, 0.8247, 0.8415, 0.6805,\n",
      "                 0.6768, 0.3010, 0.2823, 0.3635, 0.6461, 0.7676, 0.7547, 0.7501, 0.2988,\n",
      "                 0.5862, 0.4672, 0.5347, 0.5772, 0.3405, 0.4424, 0.7752, 0.6380, 0.6951,\n",
      "                 0.2727, 0.3324, 0.6704, 0.6800, 0.6246, 0.2742, 0.3402, 0.2979, 0.5960,\n",
      "                 0.4312, 0.2879, 0.6496, 0.6676, 0.3470, 0.3292, 0.6316, 0.5301, 0.3863,\n",
      "                 0.8253, 0.6947, 0.2806, 0.3375, 0.5067, 0.5566, 0.5149, 0.4074, 0.4487,\n",
      "                 0.3790, 0.6183, 0.4117, 0.5798, 0.4506, 0.4547, 0.7243, 0.7351, 0.4452,\n",
      "                 0.2732, 0.5911, 0.7276, 0.4858, 0.5314, 0.8557, 0.5393, 0.4471, 0.2952,\n",
      "                 0.2706, 0.5241, 0.7986, 0.6439, 0.4270, 0.4289, 0.2945, 0.8678, 0.6499,\n",
      "                 0.3016, 0.7023, 0.6363, 0.3503, 0.7586, 0.4117, 0.3009, 0.2557, 0.6029,\n",
      "                 0.5204, 0.3779, 0.3269, 0.4020, 0.4286, 0.3021, 0.5712, 0.2785, 0.6498,\n",
      "                 0.8538, 0.7978, 0.2910, 0.2856, 0.4445, 0.3437, 0.4011, 0.5877, 0.2989,\n",
      "                 0.4576, 0.4316, 0.5005, 0.6902, 0.3758, 0.6203, 0.7010, 0.4309, 0.5087,\n",
      "                 0.4695, 0.4830, 0.3435, 0.3661, 0.4760, 0.5335, 0.3081, 0.6785, 0.4539,\n",
      "                 0.8609, 0.8502, 0.6309, 0.5382, 0.4486, 0.7704, 0.5892, 0.6353, 0.3618,\n",
      "                 0.5073, 0.6796, 0.5482, 0.6438, 0.6348, 0.3274, 0.6871, 0.4379, 0.5955,\n",
      "                 0.6267, 0.4171, 0.6255, 0.4450, 0.6134, 0.3783, 0.5072, 0.3601, 0.3592,\n",
      "                 0.4310, 0.5789, 0.4392, 0.6563, 0.7970, 0.7787, 0.5762, 0.4598, 0.3543,\n",
      "                 0.5745, 0.4469, 0.4670, 0.6336, 0.4262, 0.4803, 0.4591, 0.4134, 0.4404,\n",
      "                 0.7820, 0.7127, 0.5177, 0.2844, 0.5935, 0.6925, 0.6623, 0.2031, 0.3109,\n",
      "                 0.7099, 0.6323, 0.5372, 0.4988, 0.4568, 0.3767, 0.3218, 0.3502, 0.5906,\n",
      "                 0.7253, 0.3021, 0.6556, 0.5297, 0.2824, 0.8078, 0.3320, 0.2657, 0.8638,\n",
      "                 0.5179, 0.4981, 0.7118, 0.5370, 0.4111, 0.4641, 0.7833, 0.4735, 0.6552,\n",
      "                 0.4521, 0.5988, 0.2872, 0.3092, 0.4766, 0.7907, 0.6121, 0.5518, 0.3875,\n",
      "                 0.6045, 0.4962, 0.2415, 0.7131, 0.7020, 0.5456, 0.3310, 0.4579, 0.5089,\n",
      "                 0.4444, 0.6321, 0.8053, 0.3465, 0.6738, 0.8611, 0.4949, 0.2617, 0.5478,\n",
      "                 0.5590, 0.6988, 0.6448, 0.4822, 0.3354, 0.2988, 0.3347, 0.4139, 0.5371,\n",
      "                 0.6738, 0.6011, 0.4415, 0.3404, 0.3731, 0.5356, 0.5263, 0.2919, 0.5214,\n",
      "                 0.5448, 0.4407, 0.2860, 0.7771, 0.3160, 0.2842, 0.5135, 0.6291, 0.6056,\n",
      "                 0.6774, 0.5582, 0.7066, 0.2834, 0.6917, 0.5443, 0.4624, 0.3393, 0.3056,\n",
      "                 0.7184, 0.2784, 0.5897, 0.2825, 0.6061, 0.3006, 0.5322, 0.2619, 0.6071,\n",
      "                 0.9077, 0.3962, 0.5146, 0.3366, 0.3311, 0.3262, 0.4468, 0.8256, 0.3106,\n",
      "                 0.3062, 0.3949, 0.3678, 0.7924, 0.6055, 0.5440, 0.6873, 0.3805, 0.4761,\n",
      "                 0.5573, 0.3435, 0.2913, 0.5440, 0.4505, 0.6455, 0.5961, 0.4314, 0.5085,\n",
      "                 0.8119, 0.5867, 0.3574, 0.8236, 0.8447, 0.4424, 0.8078, 0.2853, 0.6165,\n",
      "                 0.6066, 0.5160, 0.4608, 0.5301, 0.4506, 0.2810, 0.6997, 0.2427, 0.9566,\n",
      "                 0.2844, 0.2604, 0.7304, 0.3780, 0.8008, 0.5548, 0.7099, 0.4765, 0.8154,\n",
      "                 0.5157, 0.5232, 0.8837, 0.5960, 0.5568, 0.4704, 0.6039, 0.6418, 0.3449,\n",
      "                 0.4807, 0.7131, 0.3791, 0.4575, 0.7610, 0.4164, 0.7204, 0.4791, 0.3698,\n",
      "                 0.3913, 0.3014, 0.7356, 0.7609, 0.5202, 0.7512, 0.4431, 0.2699, 0.7287,\n",
      "                 0.3581, 0.4577, 0.6063, 0.8169, 0.8420, 0.5138, 0.5892, 0.7186, 0.5378,\n",
      "                 0.3230, 0.6910, 0.4095, 0.2960, 0.4957, 0.2880, 0.6564, 0.5092, 0.4997,\n",
      "                 0.3694, 0.6559, 0.3232, 0.6060, 0.6208, 0.4820, 0.6252, 0.7725, 0.5919,\n",
      "                 0.6666, 0.6308, 0.6098, 0.3712, 0.4325, 0.3865, 0.7889, 0.6847, 0.6000,\n",
      "                 0.4127, 0.3808, 0.2946, 0.8192, 0.4224, 0.6862, 0.5897, 0.6400, 0.3252,\n",
      "                 0.3837, 0.3920, 0.5846, 0.6421, 0.2407, 0.4303, 0.3935, 0.3291, 0.3355,\n",
      "                 0.6146, 0.6258, 0.3770, 0.4663, 0.3582, 0.3800, 0.3877, 0.6936, 0.6430,\n",
      "                 0.4371, 0.5922, 0.6731, 0.5526, 0.4221, 0.5842, 0.4321, 0.4953, 0.4507,\n",
      "                 0.3399]], device='cuda:0', requires_grad=True), init_a=Parameter containing:\n",
      "        tensor([[0.5468, 0.5205, 0.5565, 0.5749, 0.5294, 0.5651, 0.5538, 0.5589, 0.5704,\n",
      "                 0.5566, 0.5545, 0.5519, 0.5594, 0.5661, 0.5287, 0.5135, 0.5430, 0.5632,\n",
      "                 0.5387, 0.5516, 0.5419, 0.5554, 0.5638, 0.5301, 0.5166, 0.5673, 0.5693,\n",
      "                 0.5687, 0.5575, 0.5299, 0.5669, 0.5591, 0.5596, 0.5728, 0.5271, 0.5407,\n",
      "                 0.5532, 0.5554, 0.5515, 0.5477, 0.5702, 0.5281, 0.5377, 0.5623, 0.5540,\n",
      "                 0.5587, 0.5548, 0.5655, 0.5603, 0.5037, 0.4417, 0.5593, 0.5498, 0.5780,\n",
      "                 0.5612, 0.5655, 0.5325, 0.5597, 0.5502, 0.5501, 0.5631, 0.5576, 0.5633,\n",
      "                 0.5526, 0.4809, 0.5387, 0.5307, 0.5695, 0.5409, 0.5591, 0.5531, 0.5547,\n",
      "                 0.5401, 0.5456, 0.5425, 0.5018, 0.5491, 0.5540, 0.5303, 0.5235, 0.5459,\n",
      "                 0.5642, 0.5144, 0.5448, 0.5787, 0.5593, 0.4891, 0.5638, 0.5420, 0.5332,\n",
      "                 0.5700, 0.5468, 0.5361, 0.5679, 0.4884, 0.5530, 0.5607, 0.5566, 0.5815,\n",
      "                 0.5363, 0.5306, 0.5057, 0.4852, 0.5599, 0.5737, 0.5559, 0.5597, 0.5451,\n",
      "                 0.5686, 0.5618, 0.5608, 0.5553, 0.4600, 0.5139, 0.5487, 0.5429, 0.5414,\n",
      "                 0.5572, 0.5692, 0.5482, 0.5615, 0.5523, 0.5322, 0.5647, 0.5479, 0.5387,\n",
      "                 0.5507, 0.5640, 0.5609, 0.5237, 0.5488, 0.5555, 0.5098, 0.5594, 0.5682,\n",
      "                 0.5396, 0.5363, 0.5395, 0.5623, 0.5670, 0.5589, 0.5334, 0.5366, 0.4945,\n",
      "                 0.5542, 0.5481, 0.5364, 0.5633, 0.5642, 0.5014, 0.5493, 0.5423, 0.4890,\n",
      "                 0.5721, 0.5714, 0.4861, 0.5869, 0.5461, 0.5740, 0.5522, 0.5615, 0.5559,\n",
      "                 0.5655, 0.5727, 0.5482, 0.5615, 0.5741, 0.5533, 0.5083, 0.5810, 0.5636,\n",
      "                 0.5591, 0.5283, 0.5542, 0.5427, 0.5318, 0.5516, 0.5506, 0.5345, 0.5770,\n",
      "                 0.5623, 0.5627, 0.5440, 0.5182, 0.5608, 0.5572, 0.4961, 0.5592, 0.5174,\n",
      "                 0.5574, 0.5552, 0.5410, 0.5661, 0.5633, 0.5633, 0.5648, 0.4800, 0.5579,\n",
      "                 0.5778, 0.5345, 0.4871, 0.5478, 0.5451, 0.5573, 0.5604, 0.5497, 0.5622,\n",
      "                 0.5677, 0.5396, 0.5661, 0.5572, 0.5526, 0.5564, 0.5314, 0.5176, 0.5479,\n",
      "                 0.5506, 0.5493, 0.5657, 0.5468, 0.5486, 0.5596, 0.4851, 0.5652, 0.5517,\n",
      "                 0.5167, 0.5438, 0.5207, 0.4640, 0.5461, 0.5520, 0.5420, 0.5630, 0.5600,\n",
      "                 0.5556, 0.5480, 0.5541, 0.5555, 0.5608, 0.5440, 0.5538, 0.5684, 0.5551,\n",
      "                 0.5450, 0.5377, 0.5430, 0.5416, 0.5297, 0.5487, 0.5684, 0.5147, 0.5606,\n",
      "                 0.5792, 0.5361, 0.5612, 0.5614, 0.5446, 0.5591, 0.5400, 0.5575, 0.5584,\n",
      "                 0.5571, 0.5680, 0.5341, 0.5363, 0.5758, 0.5367, 0.5395, 0.5367, 0.5379,\n",
      "                 0.5555, 0.5281, 0.5690, 0.5540, 0.4068, 0.5550, 0.5630, 0.5415, 0.5150,\n",
      "                 0.5538, 0.5062, 0.5316, 0.5675, 0.4720, 0.5493, 0.5463, 0.5585, 0.5548,\n",
      "                 0.5427, 0.5364, 0.5291, 0.5323, 0.5277, 0.5308, 0.5738, 0.5503, 0.5270,\n",
      "                 0.5416, 0.5595, 0.5635, 0.5179, 0.5441, 0.5567, 0.5630, 0.5478, 0.5681,\n",
      "                 0.5376, 0.5598, 0.5550, 0.4972, 0.5450, 0.5594, 0.5576, 0.5514, 0.5401,\n",
      "                 0.5401, 0.5441, 0.5245, 0.5139, 0.4892, 0.5561, 0.5724, 0.5516, 0.5473,\n",
      "                 0.5549, 0.5535, 0.5008, 0.5626, 0.5477, 0.5685, 0.5234, 0.5128, 0.5734,\n",
      "                 0.5730, 0.5491, 0.5283, 0.5357, 0.5423, 0.5652, 0.5162, 0.5556, 0.5724,\n",
      "                 0.5581, 0.5624, 0.5551, 0.5483, 0.5407, 0.5619, 0.5559, 0.5245, 0.5451,\n",
      "                 0.5647, 0.5733, 0.5376, 0.5609, 0.5323, 0.5449, 0.5402, 0.5628, 0.5473,\n",
      "                 0.5436, 0.5571, 0.5169, 0.5513, 0.5509, 0.5524, 0.5640, 0.5168, 0.5767,\n",
      "                 0.5753, 0.5399, 0.5711, 0.5172, 0.5173, 0.5672, 0.5458, 0.5403, 0.5889,\n",
      "                 0.5726, 0.5507, 0.5368, 0.5670, 0.4332, 0.5567, 0.5595, 0.5041, 0.5472,\n",
      "                 0.5527, 0.5131, 0.5640, 0.5533, 0.5517, 0.5644, 0.5446, 0.5485, 0.5785,\n",
      "                 0.5273, 0.5343, 0.5185, 0.5592, 0.5445, 0.5248, 0.5579, 0.5654, 0.5410,\n",
      "                 0.5499, 0.5397, 0.5742, 0.5580, 0.5533, 0.5477, 0.5661, 0.5522, 0.5401,\n",
      "                 0.5038, 0.5552, 0.5420, 0.5682, 0.5719, 0.5523, 0.5535, 0.5261, 0.5606,\n",
      "                 0.5691, 0.5560, 0.5756, 0.5848, 0.5599, 0.5593, 0.5409, 0.5744, 0.5450,\n",
      "                 0.5525, 0.5490, 0.5270, 0.4306, 0.5513, 0.5467, 0.5356, 0.5553, 0.5230,\n",
      "                 0.5465, 0.5665, 0.5621, 0.5526, 0.5639, 0.5483, 0.5506, 0.5412, 0.5482,\n",
      "                 0.5286, 0.5382, 0.5181, 0.5431, 0.5452, 0.5638, 0.5201, 0.5241, 0.5409,\n",
      "                 0.5481, 0.5347, 0.5492, 0.5507, 0.5461, 0.5537, 0.5521, 0.5645, 0.5120,\n",
      "                 0.5093, 0.5394, 0.5624, 0.5686, 0.5641, 0.5449, 0.5262, 0.5470, 0.5552,\n",
      "                 0.5660, 0.5554, 0.5687, 0.5579, 0.4928, 0.5367, 0.4909, 0.5529, 0.5481,\n",
      "                 0.5223, 0.4916, 0.4076, 0.5617, 0.5815, 0.5526, 0.5665, 0.5458, 0.5357,\n",
      "                 0.5214, 0.5275, 0.5706, 0.5550, 0.5607, 0.5701, 0.4809, 0.5741, 0.5765,\n",
      "                 0.5664, 0.4854, 0.5476, 0.5735, 0.5567, 0.5385, 0.5220, 0.5456, 0.5266,\n",
      "                 0.5148, 0.5367, 0.5356, 0.5386, 0.5534, 0.5540, 0.5559, 0.5564, 0.4923,\n",
      "                 0.5262, 0.5531, 0.5557, 0.5441, 0.5381, 0.5615, 0.5604, 0.5204, 0.5562,\n",
      "                 0.5513, 0.5535, 0.5482, 0.5317, 0.5400, 0.5269, 0.5159, 0.5264, 0.5242,\n",
      "                 0.5273, 0.5042, 0.5531, 0.5575, 0.5622, 0.4200, 0.5400, 0.5593, 0.5904,\n",
      "                 0.5509, 0.5593, 0.4453, 0.5401, 0.5856, 0.5510, 0.5708, 0.5414, 0.5407,\n",
      "                 0.5115, 0.5418, 0.5292, 0.5351, 0.5612, 0.5547, 0.5562, 0.5390, 0.5445,\n",
      "                 0.5397, 0.5463, 0.4967, 0.5634, 0.5728, 0.5455, 0.5075, 0.4907, 0.5355,\n",
      "                 0.5324, 0.5648, 0.5537, 0.5532, 0.5404, 0.4899, 0.5159, 0.5269, 0.5665,\n",
      "                 0.5421, 0.5457, 0.5432, 0.5529, 0.5711, 0.5510, 0.5391, 0.5440, 0.5378,\n",
      "                 0.5499, 0.5563, 0.5409, 0.5361, 0.5394, 0.5855, 0.5671, 0.5565, 0.5422,\n",
      "                 0.5550, 0.5839, 0.5491, 0.5358, 0.5614, 0.5518, 0.5553, 0.5550, 0.5723,\n",
      "                 0.4952, 0.5527, 0.5682, 0.5628, 0.5565, 0.5549, 0.5591, 0.5616, 0.5516,\n",
      "                 0.5597, 0.5341, 0.5617, 0.5462, 0.5552, 0.5506, 0.5256, 0.5261, 0.5644,\n",
      "                 0.5704, 0.5440, 0.5364, 0.5575, 0.5508, 0.4705, 0.5336, 0.5498, 0.5725,\n",
      "                 0.5641, 0.5487, 0.4404, 0.5251, 0.5458, 0.5634, 0.5716, 0.4764, 0.5383,\n",
      "                 0.5651, 0.5306, 0.5335, 0.5684, 0.5183, 0.5738, 0.5681, 0.5674, 0.5323,\n",
      "                 0.5477, 0.5682, 0.5561, 0.5583, 0.5596, 0.5565, 0.5453, 0.5647, 0.5498,\n",
      "                 0.4754, 0.5219, 0.5763, 0.5644, 0.5538, 0.5491, 0.5496, 0.5497, 0.5734,\n",
      "                 0.5507, 0.5616, 0.5590, 0.5338, 0.5662, 0.5454, 0.5106, 0.5576, 0.5606,\n",
      "                 0.5519, 0.5444, 0.5565, 0.5606, 0.5607, 0.5529, 0.5703, 0.5247, 0.5603,\n",
      "                 0.4633, 0.5116, 0.5416, 0.5474, 0.5608, 0.5166, 0.5424, 0.5370, 0.5584,\n",
      "                 0.5535, 0.5399, 0.5514, 0.5294, 0.5391, 0.5628, 0.5372, 0.5583, 0.5462,\n",
      "                 0.5378, 0.5587, 0.5437, 0.5710, 0.5388, 0.5593, 0.5494, 0.5664, 0.5554,\n",
      "                 0.5559, 0.5540, 0.5611, 0.5616, 0.4952, 0.5052, 0.5436, 0.5616, 0.5701,\n",
      "                 0.5442, 0.5486, 0.5515, 0.5354, 0.5584, 0.5511, 0.5514, 0.5536, 0.5573,\n",
      "                 0.5174, 0.5280, 0.5480, 0.5646, 0.5354, 0.5298, 0.5397, 0.5879, 0.5635,\n",
      "                 0.5161, 0.5456, 0.5391, 0.5624, 0.5616, 0.5522, 0.5641, 0.5556, 0.5422,\n",
      "                 0.5318, 0.5589, 0.5284, 0.5571, 0.5765, 0.4997, 0.5634, 0.5616, 0.4388,\n",
      "                 0.5628, 0.5549, 0.4952, 0.5520, 0.5601, 0.5507, 0.5088, 0.5549, 0.5301,\n",
      "                 0.5625, 0.5462, 0.5666, 0.5675, 0.5625, 0.4899, 0.5489, 0.5424, 0.5620,\n",
      "                 0.5469, 0.5529, 0.5827, 0.5128, 0.5053, 0.5405, 0.5553, 0.5547, 0.5464,\n",
      "                 0.5587, 0.5335, 0.5146, 0.5591, 0.5420, 0.5016, 0.5604, 0.5652, 0.5436,\n",
      "                 0.5516, 0.5196, 0.5349, 0.5562, 0.5608, 0.5692, 0.5505, 0.5529, 0.5487,\n",
      "                 0.5281, 0.5466, 0.5470, 0.5577, 0.5568, 0.5390, 0.5588, 0.5601, 0.5286,\n",
      "                 0.5526, 0.5604, 0.5674, 0.5151, 0.5557, 0.5590, 0.5283, 0.5318, 0.5387,\n",
      "                 0.5206, 0.5619, 0.5181, 0.5525, 0.5463, 0.5429, 0.5455, 0.5544, 0.5599,\n",
      "                 0.5373, 0.5688, 0.5342, 0.5679, 0.5362, 0.5680, 0.5526, 0.5629, 0.5386,\n",
      "                 0.4608, 0.5531, 0.5603, 0.5637, 0.5651, 0.5680, 0.5453, 0.4839, 0.5643,\n",
      "                 0.5670, 0.5661, 0.5540, 0.5183, 0.5464, 0.5575, 0.5331, 0.5708, 0.5515,\n",
      "                 0.5442, 0.5648, 0.5695, 0.5389, 0.5472, 0.5507, 0.5527, 0.5582, 0.5581,\n",
      "                 0.5060, 0.5445, 0.5586, 0.5039, 0.4934, 0.5692, 0.4884, 0.5631, 0.5453,\n",
      "                 0.5335, 0.5432, 0.5434, 0.5512, 0.5606, 0.5678, 0.5291, 0.5674, 0.4936,\n",
      "                 0.5628, 0.5850, 0.5240, 0.5575, 0.5021, 0.5549, 0.5268, 0.5512, 0.5069,\n",
      "                 0.5473, 0.5458, 0.4523, 0.5433, 0.5572, 0.5558, 0.5478, 0.5238, 0.5525,\n",
      "                 0.5534, 0.5398, 0.5677, 0.5462, 0.5107, 0.5455, 0.5260, 0.5621, 0.5665,\n",
      "                 0.5765, 0.5574, 0.5389, 0.5190, 0.5554, 0.5229, 0.5584, 0.5768, 0.5233,\n",
      "                 0.5621, 0.5614, 0.5332, 0.4982, 0.4861, 0.5488, 0.5357, 0.5296, 0.5397,\n",
      "                 0.5688, 0.5363, 0.5627, 0.5609, 0.5525, 0.5616, 0.5261, 0.5459, 0.5658,\n",
      "                 0.5628, 0.5227, 0.5499, 0.5384, 0.5393, 0.5426, 0.5391, 0.4979, 0.5390,\n",
      "                 0.5328, 0.5340, 0.5455, 0.5768, 0.5712, 0.5608, 0.5217, 0.5336, 0.5400,\n",
      "                 0.5521, 0.5565, 0.5583, 0.4283, 0.5558, 0.5243, 0.5463, 0.5418, 0.5722,\n",
      "                 0.5450, 0.5576, 0.5373, 0.5422, 0.5605, 0.5546, 0.5594, 0.5683, 0.5782,\n",
      "                 0.5369, 0.5213, 0.5608, 0.5509, 0.5698, 0.5503, 0.5638, 0.5259, 0.5484,\n",
      "                 0.5606, 0.5442, 0.5298, 0.5508, 0.5500, 0.5439, 0.5555, 0.5558, 0.5765,\n",
      "                 0.5749]], device='cuda:0', requires_grad=True)\n",
      "      )\n",
      "      (1): ELU()\n",
      "      (2): LowRankAffine()\n",
      "      (3): ELU()\n",
      "      (4): Affine(\n",
      "        init_t=Parameter containing:\n",
      "        tensor([[ 1.0256e-01,  1.9897e-02,  1.9940e-01,  1.5099e-01,  5.4604e-02,\n",
      "                  2.1970e-01,  1.1556e-01,  1.5965e-01,  1.4978e-01,  1.1927e-01,\n",
      "                  1.5238e-01,  8.1401e-02,  1.4503e-01,  4.8134e-02,  1.1838e-01,\n",
      "                 -9.3253e-03,  1.3697e-01,  1.4885e-01,  1.3426e-01,  1.0062e-01,\n",
      "                  1.4653e-01,  1.6451e-01,  1.5682e-01,  6.0802e-02,  4.2476e-02,\n",
      "                  1.9627e-01,  2.3321e-01,  1.9339e-01,  2.3309e-01,  8.4346e-02,\n",
      "                  1.7734e-01,  2.2678e-01,  1.6570e-01,  1.8018e-01,  1.6273e-02,\n",
      "                  7.5963e-02,  1.6815e-01,  1.7808e-01,  1.7271e-01,  1.4334e-01,\n",
      "                  2.1788e-01,  4.6000e-02,  8.3516e-02,  2.2841e-01,  1.0587e-01,\n",
      "                  1.1890e-01,  1.9019e-01,  2.2313e-01,  1.0910e-01, -7.5289e-03,\n",
      "                 -9.9902e-03,  1.3971e-01,  2.0735e-01,  1.2380e-01,  1.6271e-01,\n",
      "                  1.6764e-01, -3.1424e-02,  2.2515e-01,  1.2339e-01,  8.0623e-02,\n",
      "                  1.9754e-01,  3.9206e-02,  2.2028e-01,  2.9079e-02, -3.5261e-03,\n",
      "                  7.0205e-02,  6.4164e-02,  1.9653e-01,  1.5115e-01,  3.2736e-02,\n",
      "                  1.6700e-01,  2.1139e-01,  1.0053e-01,  2.1862e-01,  1.6701e-01,\n",
      "                 -2.0866e-02,  5.0014e-02,  2.4188e-01,  1.4548e-02,  2.5480e-02,\n",
      "                  1.3152e-01,  2.3708e-01, -2.7907e-02,  1.7673e-01,  2.0543e-01,\n",
      "                  1.6987e-01,  2.9332e-02,  1.6609e-01,  1.2753e-01,  1.8342e-01,\n",
      "                  2.1346e-01,  1.2255e-01,  7.5208e-02,  1.8000e-01, -2.3539e-02,\n",
      "                  2.0436e-01,  1.4290e-01,  1.1262e-01,  1.9239e-02,  3.0335e-02,\n",
      "                  2.2940e-02,  8.9066e-03, -4.3388e-02,  1.1142e-01,  1.6651e-01,\n",
      "                  1.7350e-01,  1.8204e-01,  1.7378e-01,  1.5572e-01,  2.5040e-01,\n",
      "                  1.6932e-01, -6.4387e-03,  6.7007e-03,  4.0617e-02,  7.2756e-02,\n",
      "                  1.9076e-01,  9.3103e-02,  2.1713e-01,  1.1657e-01,  1.6374e-01,\n",
      "                  1.2297e-01,  1.6087e-01,  1.7983e-02,  2.5164e-01,  1.0114e-01,\n",
      "                  7.3045e-02,  1.9725e-01,  2.4755e-01,  2.0398e-01,  3.8420e-02,\n",
      "                  1.0390e-01,  1.0255e-01,  1.7868e-02,  2.2923e-01,  2.0305e-01,\n",
      "                  1.6164e-01,  3.9080e-02,  1.2146e-01,  2.2989e-01,  2.0700e-01,\n",
      "                  2.3455e-01,  1.2963e-01,  4.0954e-02,  1.5431e-02,  1.5107e-01,\n",
      "                  1.5813e-01,  4.0836e-02,  2.5268e-01,  2.1526e-01,  1.2864e-02,\n",
      "                  2.3301e-01,  5.5108e-02, -1.6471e-02,  2.0605e-01,  1.8583e-01,\n",
      "                 -7.3945e-03,  1.2101e-01,  1.1784e-01,  1.8210e-01,  9.2568e-02,\n",
      "                  1.9869e-01,  1.7977e-01,  2.0721e-01,  2.0136e-01,  1.4537e-01,\n",
      "                  1.3048e-01,  1.0676e-01,  1.4225e-01,  3.1602e-02,  1.5133e-01,\n",
      "                  2.2675e-01,  9.7453e-02,  5.0502e-02,  1.5233e-01,  1.4103e-01,\n",
      "                  4.8507e-02,  2.0899e-01,  1.3592e-01,  6.3450e-02,  1.2407e-01,\n",
      "                  2.4719e-01,  2.2943e-01,  1.1569e-01, -6.0636e-05,  1.4029e-01,\n",
      "                  1.0469e-01, -2.0745e-02,  1.7189e-01,  2.5383e-02,  1.2213e-01,\n",
      "                  7.6079e-02,  9.8887e-02,  2.1865e-01,  2.5621e-01,  5.6850e-02,\n",
      "                  2.3667e-01, -6.6389e-03,  2.1026e-01,  1.6447e-01,  1.3841e-01,\n",
      "                 -4.4433e-02,  1.4967e-01,  9.5722e-02,  1.4239e-01,  1.7533e-01,\n",
      "                  1.1719e-01,  1.5979e-01,  2.0364e-01,  7.5081e-02,  1.9557e-01,\n",
      "                  1.9940e-01,  1.1854e-01,  2.1517e-01,  4.4575e-02,  3.8766e-02,\n",
      "                  2.0960e-01,  1.3827e-01,  1.9532e-01,  1.1665e-01,  1.8934e-01,\n",
      "                  1.2810e-01,  2.4307e-01,  6.3075e-03,  2.4362e-01,  2.1345e-01,\n",
      "                  7.9414e-04,  1.6420e-02,  4.8339e-02, -9.3737e-03,  1.0449e-01,\n",
      "                  1.5130e-01,  4.8650e-02,  1.1431e-01,  7.8053e-02,  1.4204e-01,\n",
      "                  8.7024e-02,  1.8143e-01,  1.1461e-01,  2.0577e-01,  9.6587e-02,\n",
      "                  1.5102e-01,  2.3392e-01, -1.2201e-02,  8.7534e-02,  1.4639e-01,\n",
      "                  1.8374e-01,  1.2269e-01,  3.0169e-02,  1.0803e-01,  1.2483e-01,\n",
      "                 -1.2087e-02,  2.0874e-01,  1.7609e-01,  1.0188e-01,  9.9138e-02,\n",
      "                  2.0672e-01,  1.2299e-01,  2.0763e-01,  2.0777e-01,  2.2652e-01,\n",
      "                  1.2695e-01,  2.1936e-01,  2.0859e-01,  5.9838e-02,  8.2204e-02,\n",
      "                  2.2370e-01,  1.0660e-01,  8.8179e-02,  2.5275e-02,  1.6837e-01,\n",
      "                  1.5947e-01,  9.9504e-02,  6.8997e-02,  1.7697e-01, -2.0022e-02,\n",
      "                  1.5316e-01,  2.4571e-01,  9.4994e-02,  9.8832e-03,  8.9721e-02,\n",
      "                  2.5858e-02,  5.3832e-02,  1.2818e-01,  1.7785e-02,  9.3464e-02,\n",
      "                  1.8859e-01,  1.7331e-01,  1.9927e-01,  9.8914e-02,  3.7670e-02,\n",
      "                  6.7050e-02,  5.2089e-02,  8.0722e-02,  1.7736e-02,  2.2097e-01,\n",
      "                  1.3416e-01,  3.0837e-02,  9.0790e-02,  2.3373e-01,  1.5313e-01,\n",
      "                  1.1339e-02,  8.9272e-02,  6.2872e-02,  9.5223e-02,  7.3634e-02,\n",
      "                  1.7499e-01,  1.4333e-01,  1.6582e-01,  7.5473e-02,  3.8362e-02,\n",
      "                  1.5434e-01,  2.1759e-01,  1.8430e-01,  1.7133e-01,  5.3121e-02,\n",
      "                  9.1525e-02,  6.2842e-03,  1.0321e-01,  5.1381e-02,  1.4943e-02,\n",
      "                  1.1548e-01,  1.2880e-01,  1.2734e-01,  2.1796e-02,  4.2705e-02,\n",
      "                  1.6457e-01,  4.0851e-02,  2.3784e-01,  1.8248e-01,  2.2562e-01,\n",
      "                  3.5469e-02,  3.4083e-02,  1.6370e-01,  2.0432e-01,  6.1429e-02,\n",
      "                  8.2813e-02,  5.4182e-02,  1.2823e-01,  1.9352e-01,  6.9858e-02,\n",
      "                  1.7289e-01,  7.8076e-02,  9.5250e-02,  2.4313e-01,  1.0414e-01,\n",
      "                  1.4810e-01,  1.9317e-01,  1.1855e-01,  1.3557e-01,  2.6504e-02,\n",
      "                  1.0599e-01,  2.0580e-01,  1.9599e-01,  6.0768e-02,  1.2410e-01,\n",
      "                  9.7119e-02,  1.0051e-01,  5.1074e-02,  1.4632e-01,  1.3341e-01,\n",
      "                  3.1868e-02,  1.7403e-01,  3.5665e-02,  8.7052e-02,  1.3573e-01,\n",
      "                  2.3002e-01,  2.3679e-01,  1.2337e-02,  2.2013e-01,  2.0051e-01,\n",
      "                  1.3042e-01,  1.9165e-01,  8.0669e-02,  9.0270e-02,  1.3005e-01,\n",
      "                  1.2237e-01,  1.4138e-01,  1.6346e-01,  1.1842e-01,  1.8979e-01,\n",
      "                  1.5438e-01,  1.0049e-01, -2.8060e-03,  4.9335e-02,  1.4452e-01,\n",
      "                  3.6693e-02,  1.0624e-01,  2.4877e-01, -2.1938e-03,  1.1365e-01,\n",
      "                  1.2168e-01,  1.2267e-01,  1.6747e-01,  1.0717e-01,  1.9628e-01,\n",
      "                  1.3814e-01,  3.6889e-02,  7.6653e-02,  5.7146e-03,  6.4247e-02,\n",
      "                  1.6584e-01, -4.5456e-02,  1.9761e-01,  1.8351e-01,  1.1828e-01,\n",
      "                  2.1844e-01,  8.3960e-02,  3.1322e-02,  9.3939e-02,  1.7967e-01,\n",
      "                  1.0642e-01,  2.0709e-01,  1.3778e-01,  1.0508e-01,  4.2906e-03,\n",
      "                  1.6374e-01,  5.1620e-02,  1.4374e-01,  1.2845e-01,  1.8609e-01,\n",
      "                  1.0892e-01,  4.0362e-02,  1.6565e-01,  1.9883e-01,  2.5711e-01,\n",
      "                  1.9843e-01,  1.6053e-01,  1.0586e-01,  1.1798e-01,  1.3430e-01,\n",
      "                  1.4124e-01,  8.4833e-03,  1.5221e-01,  1.9700e-01,  1.2714e-02,\n",
      "                 -3.8111e-02,  1.4822e-01,  1.3021e-01,  3.6624e-02,  1.4442e-01,\n",
      "                  3.0514e-02,  1.0001e-01,  1.2637e-01,  2.1421e-01,  2.5634e-01,\n",
      "                  1.9385e-01,  2.1694e-01,  1.8563e-01,  6.8695e-02,  6.7397e-02,\n",
      "                  1.3093e-01,  6.2579e-02,  1.8853e-02,  5.9421e-02,  9.2917e-02,\n",
      "                  1.7391e-01,  5.3438e-02,  2.4927e-02,  3.8900e-02,  1.4330e-01,\n",
      "                  8.1786e-02,  1.4869e-01,  6.6350e-02,  1.0352e-01,  1.3929e-01,\n",
      "                  1.2239e-01,  1.6784e-01,  2.4153e-02,  2.1303e-02,  1.0148e-01,\n",
      "                  1.6238e-01,  2.1525e-01,  1.0206e-01,  1.5578e-01,  2.8741e-02,\n",
      "                  7.2190e-02,  2.3027e-01,  1.7942e-01,  2.1674e-01,  2.1404e-01,\n",
      "                  1.8810e-01, -6.9631e-03,  1.4513e-01,  2.2950e-02,  9.8443e-02,\n",
      "                  2.5115e-01, -1.7442e-03,  2.0142e-04,  2.6725e-02,  1.9993e-01,\n",
      "                  1.4653e-01,  1.3175e-01,  1.6179e-01,  8.1814e-02,  9.4509e-02,\n",
      "                 -2.5013e-02,  9.5008e-02,  1.9692e-01,  1.6087e-01,  2.3497e-01,\n",
      "                  2.2797e-01,  2.4551e-02,  2.0918e-01,  9.2725e-02,  1.3482e-01,\n",
      "                 -1.6089e-02,  9.1652e-02,  2.1680e-01,  7.4757e-02,  1.1773e-01,\n",
      "                  3.7173e-02,  2.0735e-01,  8.2171e-02,  6.2538e-03,  4.9538e-02,\n",
      "                  1.2696e-01,  1.6396e-01,  1.4973e-01,  1.7281e-01,  8.8614e-02,\n",
      "                  2.3705e-01, -2.1726e-02,  1.1261e-02,  8.1694e-02,  1.7139e-01,\n",
      "                  7.0043e-02,  1.5860e-01,  6.3256e-02,  2.3945e-01,  4.3216e-02,\n",
      "                  1.0373e-01,  1.0104e-01,  1.2698e-01,  1.6813e-01,  1.0257e-01,\n",
      "                  1.1118e-01,  7.7542e-02, -1.9494e-02,  6.6829e-02,  6.1563e-02,\n",
      "                  1.1321e-01, -6.0133e-02,  1.5897e-01,  1.5308e-01,  5.0899e-02,\n",
      "                 -1.5532e-03,  7.0790e-02,  1.5113e-01,  9.9854e-02,  1.0513e-01,\n",
      "                  2.5402e-01, -3.1864e-03,  1.5318e-01,  1.4133e-01,  1.4097e-01,\n",
      "                  1.9756e-01,  1.5890e-01,  9.8160e-02,  3.9504e-02,  2.6984e-02,\n",
      "                  5.7221e-02,  8.6556e-02,  7.3851e-02,  1.4342e-01,  2.0829e-01,\n",
      "                  1.0339e-01,  6.1118e-02,  8.4722e-02,  4.7470e-03,  6.3035e-02,\n",
      "                  1.5083e-01,  2.3315e-01,  4.6604e-02,  7.0754e-03,  1.9782e-02,\n",
      "                  4.8072e-02,  8.0239e-02,  2.3244e-01,  2.5251e-01,  2.1100e-01,\n",
      "                  5.3072e-02, -1.7812e-02,  2.1967e-03,  7.2735e-02,  2.1801e-01,\n",
      "                  1.2964e-01,  1.6057e-01,  9.4481e-02,  1.0961e-01,  2.4675e-01,\n",
      "                  1.7231e-01, -1.4116e-02,  5.9061e-02,  3.0243e-02,  2.8353e-01,\n",
      "                  2.3430e-01,  5.8057e-02,  3.0098e-02,  5.6992e-02,  1.2090e-01,\n",
      "                  1.6288e-01,  2.4969e-01,  5.4970e-02,  1.8672e-01,  1.3838e-01,\n",
      "                  2.9402e-02,  8.8740e-02,  2.1498e-01,  2.3149e-01,  1.8952e-02,\n",
      "                  7.5729e-02,  1.8272e-01,  1.9621e-02,  5.3898e-02,  2.1386e-01,\n",
      "                  1.9574e-01,  8.9173e-02,  9.7899e-02,  9.9089e-02,  1.6196e-01,\n",
      "                  1.5603e-01,  1.4652e-01,  8.2240e-02,  1.2622e-01,  3.2423e-02,\n",
      "                  1.9161e-01,  1.6935e-01,  8.9688e-02,  3.0573e-02,  1.5511e-01,\n",
      "                  2.0918e-01,  9.8960e-02,  2.0386e-02,  8.2680e-02,  1.4093e-01,\n",
      "                 -3.3943e-02,  1.1615e-01,  1.9416e-01,  1.5691e-01,  2.0705e-01,\n",
      "                  9.6239e-02, -4.4866e-02,  8.7111e-02,  2.3829e-01,  1.3808e-01,\n",
      "                  1.6089e-01, -3.7359e-02,  1.0172e-01,  2.6016e-01,  5.4061e-02,\n",
      "                  1.2425e-01,  1.8486e-01,  1.8682e-04,  1.8427e-01,  2.1037e-01,\n",
      "                  2.4282e-01,  4.5188e-02,  1.5379e-01,  1.2529e-01,  2.3873e-01,\n",
      "                  1.7149e-01,  2.2174e-01,  2.2303e-01,  1.1977e-01,  2.0648e-01,\n",
      "                  8.1756e-02, -6.1864e-02,  7.4039e-02,  1.4718e-01,  2.2740e-01,\n",
      "                  1.1015e-01,  2.5509e-01,  2.0805e-01,  1.0905e-01,  2.0456e-01,\n",
      "                  1.8948e-01,  1.6288e-01,  1.1956e-01,  2.3025e-02,  1.4146e-01,\n",
      "                  1.1717e-01, -3.3739e-02,  1.8000e-01,  1.1554e-01,  1.4949e-01,\n",
      "                  1.4585e-01,  2.5211e-01,  1.8475e-01,  1.4330e-01,  1.3479e-01,\n",
      "                  1.9825e-01,  2.1519e-02,  1.4762e-01, -1.7883e-02,  1.7198e-02,\n",
      "                  1.0848e-01,  6.3164e-02,  1.6111e-01,  1.8438e-02,  1.3494e-01,\n",
      "                  3.6892e-02,  1.9492e-01,  1.2821e-01,  7.9563e-02,  6.4884e-02,\n",
      "                  1.1683e-01,  1.0116e-01,  2.1281e-01,  5.8644e-02,  1.8810e-01,\n",
      "                  1.0816e-01,  4.9689e-04,  1.5707e-01,  1.0656e-01,  1.1414e-01,\n",
      "                  1.4035e-01,  1.9020e-01,  1.3884e-01,  1.1839e-01,  2.3201e-01,\n",
      "                  1.8635e-01,  1.4934e-01,  1.6203e-01,  3.8413e-02, -2.8869e-03,\n",
      "                  3.7270e-02,  7.1818e-02,  1.4384e-01,  1.0586e-01,  6.9658e-02,\n",
      "                  1.1523e-01,  1.3720e-01,  4.2897e-02,  1.2243e-01,  1.1382e-01,\n",
      "                  1.5159e-01,  1.6638e-01,  1.3423e-01,  3.6269e-02,  1.1391e-01,\n",
      "                  1.3498e-01,  2.1074e-01,  1.4045e-01,  5.6960e-02,  1.3521e-01,\n",
      "                  1.5126e-01,  1.8391e-01, -1.0280e-02,  8.5928e-02,  1.2785e-01,\n",
      "                  9.3212e-02,  1.1743e-01,  2.4015e-01,  2.3717e-01,  2.0677e-01,\n",
      "                  1.4868e-01,  3.7028e-02,  2.5035e-01,  2.9339e-02,  7.9366e-02,\n",
      "                  1.9391e-01, -3.5132e-03,  2.1511e-01,  2.3933e-01, -6.5028e-02,\n",
      "                  7.7353e-02,  1.6475e-01,  2.3059e-03,  1.3448e-01,  1.6244e-01,\n",
      "                  1.3531e-01,  3.2155e-02,  9.6452e-02,  5.1860e-02,  1.7049e-01,\n",
      "                  1.3635e-01,  2.4221e-01,  2.1345e-01,  8.6755e-02,  5.7234e-03,\n",
      "                  1.2126e-01,  1.0433e-01,  1.3749e-01,  3.4263e-02,  1.5815e-01,\n",
      "                  1.5073e-01,  1.9961e-02,  2.3638e-02,  1.0508e-01,  2.1775e-01,\n",
      "                  1.4816e-01,  1.3118e-01,  1.8711e-01,  7.1712e-02,  1.9911e-02,\n",
      "                  2.2911e-01,  6.3216e-02,  2.4159e-02,  1.2600e-01,  2.3811e-01,\n",
      "                  1.5321e-01,  8.9970e-02,  5.0128e-02,  1.0452e-01,  8.3039e-02,\n",
      "                  1.9424e-01,  2.0522e-01,  2.1649e-01,  1.6516e-01,  1.3926e-01,\n",
      "                  4.7438e-02,  6.4650e-02,  1.7732e-01,  2.3308e-01,  2.0511e-01,\n",
      "                  7.9013e-02,  8.5654e-02,  2.5804e-01,  1.5279e-01,  1.0666e-01,\n",
      "                  1.1672e-01,  2.3017e-01,  1.9618e-02,  2.6376e-01,  2.5156e-01,\n",
      "                  2.1636e-01,  9.4896e-02,  8.8516e-02,  3.5498e-02,  7.3962e-02,\n",
      "                  6.7738e-02,  2.6254e-01,  2.5729e-02,  1.0932e-01,  1.6762e-01,\n",
      "                  2.3530e-01,  2.3049e-01,  5.0373e-02,  2.2131e-01,  1.5048e-01,\n",
      "                  2.0525e-01,  9.6096e-02,  2.2704e-01,  7.1385e-02,  2.3349e-01,\n",
      "                 -1.2983e-02, -2.3812e-02,  1.9678e-01,  1.0912e-01,  2.2412e-01,\n",
      "                  2.1360e-01,  1.9323e-01,  2.3622e-01, -2.7744e-03,  2.4738e-01,\n",
      "                  2.2498e-01,  1.2079e-01,  1.8932e-01,  2.1253e-02,  6.8046e-02,\n",
      "                  6.3686e-02,  3.3169e-02,  1.8184e-01,  1.1013e-01,  4.2714e-02,\n",
      "                  2.2879e-01,  2.2604e-01,  1.6301e-01,  1.7474e-01,  8.1326e-02,\n",
      "                  1.1090e-01,  1.7482e-01,  1.4105e-01,  5.5279e-02,  1.3918e-01,\n",
      "                  2.0302e-01,  2.4019e-02,  3.7425e-02,  1.4614e-01,  8.3775e-03,\n",
      "                  2.2476e-01,  8.4944e-02,  2.8811e-02,  1.6064e-01,  1.7500e-01,\n",
      "                 -6.6759e-03,  6.8277e-02,  2.3710e-01,  8.9909e-02,  2.1414e-01,\n",
      "                  5.7907e-03,  2.3079e-01,  1.4980e-01,  9.3756e-02,  2.2891e-01,\n",
      "                  1.7383e-02,  1.1453e-01,  4.8595e-02,  1.4469e-01,  1.0214e-04,\n",
      "                  9.0948e-02,  1.4106e-01,  4.5431e-03,  3.3392e-02,  3.9827e-02,\n",
      "                  1.4553e-01,  7.7307e-02,  7.7004e-02,  2.2756e-01,  1.3041e-01,\n",
      "                  8.3348e-02,  1.9285e-01,  1.6360e-01,  4.6589e-03,  1.7184e-01,\n",
      "                  5.7581e-02,  9.6570e-02,  1.3593e-01,  6.8809e-02,  2.4478e-01,\n",
      "                 -1.8264e-02, -5.7929e-03,  9.1026e-02,  4.4945e-02,  1.5124e-01,\n",
      "                  2.0080e-01,  8.0737e-02,  1.6720e-01,  1.0234e-01,  3.7123e-02,\n",
      "                  6.8861e-02,  1.3597e-02,  1.5262e-01,  1.1467e-01,  1.2591e-02,\n",
      "                  1.5956e-01,  1.8714e-01,  6.9543e-02,  2.6756e-02,  2.5543e-01,\n",
      "                  1.2803e-01,  2.3501e-01,  7.5251e-03,  1.4631e-01,  1.6411e-01,\n",
      "                  1.4668e-01,  7.2397e-03,  2.2802e-01,  3.7659e-02,  4.7695e-02,\n",
      "                  1.4879e-01,  8.2364e-02,  2.4770e-02,  9.0841e-02,  8.9830e-02,\n",
      "                  7.2023e-02,  9.6154e-02,  8.3249e-02,  1.7906e-01,  1.4835e-01,\n",
      "                  1.0932e-02,  6.5535e-02,  1.3476e-01,  1.8675e-01,  2.2418e-01,\n",
      "                  2.4242e-01, -2.4410e-02,  2.1276e-01,  7.4637e-02,  3.4097e-02,\n",
      "                  4.9435e-02,  2.1311e-01,  2.2420e-01,  1.3135e-01,  9.5900e-02,\n",
      "                  4.8590e-02,  1.8992e-01,  2.0015e-01,  1.6446e-01,  1.9031e-01,\n",
      "                  1.6033e-01,  8.8116e-02,  5.0652e-02,  1.8928e-01,  9.1313e-02,\n",
      "                  1.8846e-01,  1.9943e-01,  1.5039e-01,  7.1531e-02,  1.0327e-01,\n",
      "                  1.0134e-01,  9.3722e-02,  5.7420e-02,  8.5099e-02,  1.8919e-01,\n",
      "                  1.1446e-01,  1.7047e-01,  1.0275e-01,  8.2883e-02,  1.5279e-01]],\n",
      "               device='cuda:0', requires_grad=True), init_a=Parameter containing:\n",
      "        tensor([[0.5954, 0.6038, 0.5690, 0.5827, 0.6057, 0.5709, 0.5774, 0.5838, 0.5870,\n",
      "                 0.5845, 0.5804, 0.5878, 0.5811, 0.6148, 0.5648, 0.6402, 0.5685, 0.5897,\n",
      "                 0.5717, 0.5906, 0.5763, 0.5756, 0.5825, 0.5926, 0.6092, 0.5797, 0.5771,\n",
      "                 0.5781, 0.5683, 0.5773, 0.5798, 0.5690, 0.5763, 0.5873, 0.6094, 0.5970,\n",
      "                 0.5713, 0.5731, 0.5732, 0.5825, 0.5758, 0.6089, 0.6021, 0.5760, 0.5853,\n",
      "                 0.5947, 0.5644, 0.5743, 0.5874, 0.6432, 0.6993, 0.5810, 0.5642, 0.5934,\n",
      "                 0.5782, 0.5808, 0.6124, 0.5740, 0.5806, 0.5841, 0.5761, 0.6062, 0.5722,\n",
      "                 0.6099, 0.6487, 0.5927, 0.6085, 0.5831, 0.5734, 0.6013, 0.5752, 0.5646,\n",
      "                 0.5737, 0.5572, 0.5656, 0.6578, 0.6061, 0.5718, 0.6147, 0.6102, 0.5776,\n",
      "                 0.5720, 0.6463, 0.5754, 0.5840, 0.5728, 0.6318, 0.5773, 0.5766, 0.5506,\n",
      "                 0.5774, 0.5840, 0.6015, 0.5718, 0.6397, 0.5659, 0.5853, 0.6014, 0.6207,\n",
      "                 0.6175, 0.6117, 0.6346, 0.6736, 0.5962, 0.5863, 0.5700, 0.5734, 0.5680,\n",
      "                 0.5829, 0.5685, 0.5737, 0.6344, 0.6682, 0.6332, 0.5957, 0.5661, 0.5930,\n",
      "                 0.5673, 0.5917, 0.5755, 0.5871, 0.5864, 0.6119, 0.5716, 0.5838, 0.5972,\n",
      "                 0.5742, 0.5718, 0.5667, 0.6077, 0.5865, 0.5925, 0.6273, 0.5694, 0.5755,\n",
      "                 0.5863, 0.6111, 0.5815, 0.5728, 0.5766, 0.5693, 0.5836, 0.6126, 0.6324,\n",
      "                 0.5779, 0.5848, 0.6038, 0.5713, 0.5704, 0.6366, 0.5770, 0.5910, 0.6603,\n",
      "                 0.5768, 0.5765, 0.6716, 0.5914, 0.5808, 0.5785, 0.5836, 0.5733, 0.5733,\n",
      "                 0.5782, 0.5782, 0.5840, 0.5875, 0.5983, 0.5834, 0.6337, 0.5837, 0.5684,\n",
      "                 0.5932, 0.6005, 0.5821, 0.5758, 0.5985, 0.5695, 0.5740, 0.5970, 0.5853,\n",
      "                 0.5713, 0.5701, 0.5814, 0.6230, 0.5840, 0.5882, 0.6360, 0.5815, 0.6158,\n",
      "                 0.5883, 0.6017, 0.5857, 0.5805, 0.5708, 0.6025, 0.5701, 0.6288, 0.5656,\n",
      "                 0.5866, 0.5598, 0.6693, 0.5763, 0.5910, 0.5863, 0.5753, 0.5734, 0.5830,\n",
      "                 0.5769, 0.5988, 0.5801, 0.5691, 0.5858, 0.5681, 0.6189, 0.6100, 0.5665,\n",
      "                 0.5891, 0.5763, 0.5914, 0.5681, 0.5825, 0.5713, 0.6426, 0.5726, 0.5687,\n",
      "                 0.6348, 0.6227, 0.6153, 0.6586, 0.5904, 0.5894, 0.6040, 0.5862, 0.5885,\n",
      "                 0.5827, 0.5826, 0.5734, 0.5924, 0.5747, 0.5902, 0.5856, 0.5797, 0.6145,\n",
      "                 0.6033, 0.5861, 0.5653, 0.5915, 0.6053, 0.5949, 0.5956, 0.6451, 0.5726,\n",
      "                 0.5883, 0.5782, 0.5940, 0.5716, 0.5729, 0.5776, 0.5565, 0.5686, 0.5805,\n",
      "                 0.5689, 0.5736, 0.5891, 0.6041, 0.5846, 0.5915, 0.5920, 0.6163, 0.5803,\n",
      "                 0.5853, 0.5909, 0.6055, 0.5692, 0.7670, 0.5754, 0.5706, 0.5935, 0.6438,\n",
      "                 0.5879, 0.6299, 0.6055, 0.5813, 0.6590, 0.5825, 0.5698, 0.5709, 0.5707,\n",
      "                 0.5851, 0.5996, 0.6069, 0.5991, 0.5877, 0.6121, 0.5790, 0.5844, 0.6084,\n",
      "                 0.5913, 0.5686, 0.5810, 0.6220, 0.5990, 0.5854, 0.5919, 0.5833, 0.5728,\n",
      "                 0.5747, 0.5823, 0.5918, 0.6126, 0.5793, 0.5732, 0.5731, 0.5752, 0.6019,\n",
      "                 0.5865, 0.6232, 0.5919, 0.6083, 0.6342, 0.5831, 0.5869, 0.5813, 0.6212,\n",
      "                 0.6113, 0.5734, 0.6222, 0.5698, 0.5649, 0.5817, 0.6022, 0.6064, 0.5848,\n",
      "                 0.5809, 0.6024, 0.5945, 0.6076, 0.5820, 0.5761, 0.5995, 0.5742, 0.5958,\n",
      "                 0.5966, 0.5682, 0.5952, 0.5845, 0.5648, 0.5917, 0.5864, 0.6099, 0.5754,\n",
      "                 0.5722, 0.5864, 0.5958, 0.5808, 0.5990, 0.5827, 0.6026, 0.5859, 0.5850,\n",
      "                 0.6116, 0.5816, 0.6202, 0.5866, 0.5765, 0.5637, 0.5712, 0.6063, 0.5834,\n",
      "                 0.5821, 0.5833, 0.5778, 0.5950, 0.5795, 0.5844, 0.5796, 0.5726, 0.5908,\n",
      "                 0.5954, 0.5639, 0.5748, 0.5943, 0.7198, 0.5995, 0.5828, 0.6120, 0.5765,\n",
      "                 0.5657, 0.6203, 0.5938, 0.5866, 0.5843, 0.5778, 0.5894, 0.5621, 0.5900,\n",
      "                 0.6148, 0.5913, 0.6235, 0.5817, 0.5770, 0.6563, 0.5694, 0.5803, 0.5938,\n",
      "                 0.5624, 0.6127, 0.6056, 0.5838, 0.5658, 0.5774, 0.5757, 0.5851, 0.5865,\n",
      "                 0.6422, 0.5666, 0.5995, 0.5845, 0.5940, 0.5692, 0.5899, 0.6066, 0.5735,\n",
      "                 0.5787, 0.5683, 0.5797, 0.5874, 0.5914, 0.5948, 0.5868, 0.5907, 0.6336,\n",
      "                 0.5835, 0.5683, 0.6113, 0.7392, 0.5792, 0.5819, 0.6069, 0.5817, 0.6064,\n",
      "                 0.5898, 0.5872, 0.5744, 0.5639, 0.5868, 0.5612, 0.5728, 0.5919, 0.6049,\n",
      "                 0.5772, 0.6094, 0.6285, 0.6013, 0.5961, 0.5814, 0.6034, 0.6275, 0.6128,\n",
      "                 0.5796, 0.5779, 0.5796, 0.5968, 0.5836, 0.5747, 0.5821, 0.5700, 0.6209,\n",
      "                 0.6172, 0.5854, 0.5806, 0.5761, 0.6062, 0.5773, 0.6193, 0.5945, 0.5679,\n",
      "                 0.5819, 0.5672, 0.5753, 0.5767, 0.6529, 0.5761, 0.6371, 0.5998, 0.5546,\n",
      "                 0.6246, 0.6464, 0.7517, 0.5705, 0.5875, 0.5782, 0.5836, 0.5934, 0.5894,\n",
      "                 0.6252, 0.5917, 0.5785, 0.5783, 0.5735, 0.5804, 0.6550, 0.5831, 0.5970,\n",
      "                 0.5832, 0.6471, 0.5902, 0.5807, 0.5898, 0.5779, 0.6219, 0.5658, 0.5801,\n",
      "                 0.6218, 0.5961, 0.5755, 0.5613, 0.5848, 0.5761, 0.5924, 0.5675, 0.6518,\n",
      "                 0.6250, 0.5909, 0.5851, 0.5910, 0.5806, 0.6037, 0.5664, 0.5868, 0.5900,\n",
      "                 0.5857, 0.5786, 0.5717, 0.5829, 0.5865, 0.5916, 0.6386, 0.6050, 0.6199,\n",
      "                 0.5689, 0.6747, 0.5838, 0.5778, 0.6051, 0.7498, 0.6033, 0.5780, 0.6028,\n",
      "                 0.5880, 0.5657, 0.7030, 0.5849, 0.5859, 0.5763, 0.5767, 0.5634, 0.5963,\n",
      "                 0.6106, 0.6244, 0.6098, 0.5869, 0.5952, 0.5754, 0.5711, 0.5908, 0.6135,\n",
      "                 0.5903, 0.6198, 0.6162, 0.5792, 0.5798, 0.6102, 0.6356, 0.6321, 0.6116,\n",
      "                 0.5880, 0.5733, 0.5607, 0.5650, 0.5957, 0.6440, 0.6238, 0.6015, 0.5741,\n",
      "                 0.5900, 0.5675, 0.5919, 0.5857, 0.5815, 0.5749, 0.6228, 0.6043, 0.6142,\n",
      "                 0.5570, 0.5687, 0.6143, 0.6030, 0.6009, 0.5924, 0.5795, 0.5654, 0.6081,\n",
      "                 0.5771, 0.5900, 0.6122, 0.5971, 0.5745, 0.5637, 0.6193, 0.5954, 0.5874,\n",
      "                 0.6346, 0.6000, 0.5742, 0.5749, 0.5831, 0.5989, 0.5967, 0.5812, 0.5717,\n",
      "                 0.5771, 0.5897, 0.5808, 0.5987, 0.5710, 0.5746, 0.5968, 0.6212, 0.5860,\n",
      "                 0.5778, 0.5869, 0.6247, 0.5902, 0.5835, 0.6664, 0.5668, 0.5679, 0.5827,\n",
      "                 0.5716, 0.5816, 0.7294, 0.5714, 0.5642, 0.5836, 0.5812, 0.6690, 0.5876,\n",
      "                 0.5725, 0.6152, 0.5858, 0.5803, 0.6307, 0.5906, 0.5776, 0.5731, 0.5841,\n",
      "                 0.5775, 0.5835, 0.5664, 0.5792, 0.5777, 0.5653, 0.5874, 0.5708, 0.6109,\n",
      "                 0.6749, 0.6041, 0.5843, 0.5716, 0.5816, 0.5620, 0.5629, 0.5864, 0.5820,\n",
      "                 0.5691, 0.5809, 0.5812, 0.6122, 0.5839, 0.5855, 0.6417, 0.5810, 0.5902,\n",
      "                 0.5772, 0.5685, 0.5679, 0.5743, 0.5881, 0.5810, 0.5806, 0.6157, 0.5843,\n",
      "                 0.6728, 0.6265, 0.5923, 0.6041, 0.5802, 0.6190, 0.5807, 0.6019, 0.5685,\n",
      "                 0.5876, 0.5887, 0.5902, 0.5725, 0.5954, 0.5736, 0.6021, 0.5743, 0.5865,\n",
      "                 0.6120, 0.5780, 0.5867, 0.5932, 0.5800, 0.5738, 0.5752, 0.5864, 0.5680,\n",
      "                 0.5736, 0.5906, 0.5820, 0.5976, 0.6457, 0.6380, 0.5962, 0.5850, 0.5869,\n",
      "                 0.5865, 0.5716, 0.5725, 0.5995, 0.5847, 0.5800, 0.5771, 0.5734, 0.5828,\n",
      "                 0.6300, 0.5997, 0.5851, 0.5717, 0.5797, 0.6008, 0.5791, 0.5899, 0.5731,\n",
      "                 0.6323, 0.5933, 0.5653, 0.5931, 0.5837, 0.5634, 0.5735, 0.5677, 0.5784,\n",
      "                 0.6062, 0.5694, 0.6047, 0.5991, 0.5830, 0.6360, 0.5731, 0.5680, 0.7383,\n",
      "                 0.6091, 0.5813, 0.6332, 0.5849, 0.5778, 0.5755, 0.6149, 0.5825, 0.6022,\n",
      "                 0.5809, 0.5742, 0.5730, 0.5739, 0.5984, 0.6395, 0.5820, 0.5880, 0.5807,\n",
      "                 0.6043, 0.5815, 0.5861, 0.6117, 0.6358, 0.5884, 0.5656, 0.5783, 0.5758,\n",
      "                 0.5740, 0.5953, 0.6285, 0.5710, 0.6097, 0.6334, 0.5856, 0.5714, 0.5818,\n",
      "                 0.5872, 0.6058, 0.5794, 0.5945, 0.5723, 0.5774, 0.5616, 0.5781, 0.5886,\n",
      "                 0.6028, 0.6013, 0.5668, 0.5703, 0.5705, 0.5908, 0.5977, 0.5672, 0.5522,\n",
      "                 0.5919, 0.5832, 0.5747, 0.6193, 0.5619, 0.5677, 0.5544, 0.5770, 0.5902,\n",
      "                 0.6157, 0.6023, 0.5987, 0.5585, 0.6218, 0.5873, 0.5694, 0.5653, 0.5688,\n",
      "                 0.6062, 0.5769, 0.5803, 0.5754, 0.5841, 0.5766, 0.5877, 0.5685, 0.6149,\n",
      "                 0.6962, 0.5684, 0.5919, 0.5749, 0.5788, 0.5780, 0.5630, 0.6441, 0.5733,\n",
      "                 0.5746, 0.5882, 0.5682, 0.6330, 0.5955, 0.6040, 0.6184, 0.5855, 0.5890,\n",
      "                 0.6039, 0.5732, 0.5775, 0.5774, 0.5661, 0.6073, 0.5968, 0.5800, 0.5787,\n",
      "                 0.6227, 0.5843, 0.5713, 0.6223, 0.6319, 0.5877, 0.6400, 0.5701, 0.5887,\n",
      "                 0.6130, 0.5733, 0.5620, 0.6076, 0.5936, 0.5746, 0.5825, 0.5722, 0.6327,\n",
      "                 0.5721, 0.5901, 0.6038, 0.5700, 0.6306, 0.5819, 0.6046, 0.5768, 0.6457,\n",
      "                 0.5894, 0.5809, 0.6900, 0.6103, 0.6069, 0.5812, 0.5939, 0.5858, 0.5614,\n",
      "                 0.5794, 0.5894, 0.5824, 0.5707, 0.6208, 0.5623, 0.5992, 0.5918, 0.5771,\n",
      "                 0.5989, 0.5674, 0.6231, 0.6256, 0.5820, 0.6117, 0.5832, 0.5832, 0.5952,\n",
      "                 0.5752, 0.5900, 0.6005, 0.6048, 0.6352, 0.5818, 0.5728, 0.6256, 0.5641,\n",
      "                 0.5795, 0.6102, 0.5848, 0.5686, 0.5807, 0.5694, 0.6128, 0.5738, 0.5865,\n",
      "                 0.5784, 0.6206, 0.5592, 0.5961, 0.5951, 0.5686, 0.5916, 0.6349, 0.5831,\n",
      "                 0.5995, 0.6086, 0.5827, 0.5961, 0.5913, 0.5786, 0.6260, 0.5995, 0.5831,\n",
      "                 0.5718, 0.5699, 0.5661, 0.7559, 0.5736, 0.6005, 0.6155, 0.5985, 0.5819,\n",
      "                 0.5618, 0.5759, 0.5804, 0.6101, 0.5647, 0.5738, 0.5763, 0.5787, 0.5876,\n",
      "                 0.5837, 0.5999, 0.5763, 0.5838, 0.5830, 0.5637, 0.5779, 0.5945, 0.5903,\n",
      "                 0.5879, 0.5915, 0.6003, 0.5945, 0.5667, 0.5776, 0.5764, 0.5933, 0.6012,\n",
      "                 0.5866]], device='cuda:0', requires_grad=True)\n",
      "      )\n",
      "      (5): ELU()\n",
      "      (6): LowRankAffine()\n",
      "    )\n",
      "  )\n",
      "  (mean_transform): MeanTransfom(\n",
      "    (f): Sequential(\n",
      "      (0): Linear(in_features=1, out_features=10, bias=True)\n",
      "      (1): ELU(alpha=1.0)\n",
      "      (2): Linear(in_features=10, out_features=10, bias=True)\n",
      "      (3): ELU(alpha=1.0)\n",
      "      (4): Linear(in_features=10, out_features=1, bias=True)\n",
      "    )\n",
      "  )\n",
      ")\n"
     ]
    }
   ],
   "source": [
    "print(model)"
   ]
  },
  {
   "cell_type": "code",
   "execution_count": 15,
   "metadata": {
    "ExecuteTime": {
     "end_time": "2023-09-11T09:43:42.529149900Z",
     "start_time": "2023-09-11T09:43:42.527148600Z"
    },
    "collapsed": false
   },
   "outputs": [],
   "source": [
    "from utility_extended import *"
   ]
  },
  {
   "cell_type": "code",
   "execution_count": 16,
   "metadata": {
    "ExecuteTime": {
     "end_time": "2023-09-11T09:43:44.439994400Z",
     "start_time": "2023-09-11T09:43:42.527148600Z"
    },
    "collapsed": false
   },
   "outputs": [
    {
     "name": "stdout",
     "output_type": "stream",
     "text": [
      "Train loss: 2.010699071787083\n",
      "Val loss: 1.9560167398404593\n",
      "Test loss: 1.9576972192267172\n"
     ]
    }
   ],
   "source": [
    "print(f\"Train loss: {calcLossForDataset(model, dataloaders['train'], 1000, True)}\\nVal loss: {calcLossForDataset(model, dataloaders['validation'], 1000, True)}\\nTest loss: {calcLossForDataset(model, dataloaders['test'], 1000, True)}\")"
   ]
  },
  {
   "cell_type": "code",
   "execution_count": 16,
   "metadata": {
    "ExecuteTime": {
     "end_time": "2023-09-11T09:43:44.442994700Z",
     "start_time": "2023-09-11T09:43:44.439994400Z"
    },
    "collapsed": false
   },
   "outputs": [],
   "source": []
  }
 ],
 "metadata": {
  "kernelspec": {
   "display_name": "Python 3",
   "language": "python",
   "name": "python3"
  },
  "language_info": {
   "codemirror_mode": {
    "name": "ipython",
    "version": 3
   },
   "file_extension": ".py",
   "mimetype": "text/x-python",
   "name": "python",
   "nbconvert_exporter": "python",
   "pygments_lexer": "ipython3",
   "version": "3.8.0"
  }
 },
 "nbformat": 4,
 "nbformat_minor": 4
}
